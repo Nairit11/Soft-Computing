{
 "cells": [
  {
   "cell_type": "markdown",
   "metadata": {},
   "source": [
    "### Make necessary imports"
   ]
  },
  {
   "cell_type": "code",
   "execution_count": 3,
   "metadata": {
    "collapsed": true
   },
   "outputs": [],
   "source": [
    "import numpy as np \n",
    "import pandas as pd \n",
    "import matplotlib.pyplot as plt\n",
    "import string\n",
    "import re\n",
    "from nltk.stem.porter import PorterStemmer\n",
    "import random\n",
    "from sklearn.model_selection import train_test_split"
   ]
  },
  {
   "cell_type": "markdown",
   "metadata": {},
   "source": [
    "### Import dataset"
   ]
  },
  {
   "cell_type": "code",
   "execution_count": 4,
   "metadata": {
    "collapsed": true
   },
   "outputs": [],
   "source": [
    "data=pd.read_csv(\"spam.csv\", encoding='ISO-8859-1')"
   ]
  },
  {
   "cell_type": "code",
   "execution_count": 5,
   "metadata": {},
   "outputs": [
    {
     "data": {
      "text/plain": [
       "(5572, 5)"
      ]
     },
     "execution_count": 5,
     "metadata": {},
     "output_type": "execute_result"
    }
   ],
   "source": [
    "data.shape"
   ]
  },
  {
   "cell_type": "code",
   "execution_count": 6,
   "metadata": {},
   "outputs": [
    {
     "data": {
      "text/html": [
       "<div>\n",
       "<style scoped>\n",
       "    .dataframe tbody tr th:only-of-type {\n",
       "        vertical-align: middle;\n",
       "    }\n",
       "\n",
       "    .dataframe tbody tr th {\n",
       "        vertical-align: top;\n",
       "    }\n",
       "\n",
       "    .dataframe thead th {\n",
       "        text-align: right;\n",
       "    }\n",
       "</style>\n",
       "<table border=\"1\" class=\"dataframe\">\n",
       "  <thead>\n",
       "    <tr style=\"text-align: right;\">\n",
       "      <th></th>\n",
       "      <th>v1</th>\n",
       "      <th>v2</th>\n",
       "      <th>Unnamed: 2</th>\n",
       "      <th>Unnamed: 3</th>\n",
       "      <th>Unnamed: 4</th>\n",
       "    </tr>\n",
       "  </thead>\n",
       "  <tbody>\n",
       "    <tr>\n",
       "      <th>0</th>\n",
       "      <td>ham</td>\n",
       "      <td>Go until jurong point, crazy.. Available only ...</td>\n",
       "      <td>NaN</td>\n",
       "      <td>NaN</td>\n",
       "      <td>NaN</td>\n",
       "    </tr>\n",
       "    <tr>\n",
       "      <th>1</th>\n",
       "      <td>ham</td>\n",
       "      <td>Ok lar... Joking wif u oni...</td>\n",
       "      <td>NaN</td>\n",
       "      <td>NaN</td>\n",
       "      <td>NaN</td>\n",
       "    </tr>\n",
       "    <tr>\n",
       "      <th>2</th>\n",
       "      <td>spam</td>\n",
       "      <td>Free entry in 2 a wkly comp to win FA Cup fina...</td>\n",
       "      <td>NaN</td>\n",
       "      <td>NaN</td>\n",
       "      <td>NaN</td>\n",
       "    </tr>\n",
       "    <tr>\n",
       "      <th>3</th>\n",
       "      <td>ham</td>\n",
       "      <td>U dun say so early hor... U c already then say...</td>\n",
       "      <td>NaN</td>\n",
       "      <td>NaN</td>\n",
       "      <td>NaN</td>\n",
       "    </tr>\n",
       "    <tr>\n",
       "      <th>4</th>\n",
       "      <td>ham</td>\n",
       "      <td>Nah I don't think he goes to usf, he lives aro...</td>\n",
       "      <td>NaN</td>\n",
       "      <td>NaN</td>\n",
       "      <td>NaN</td>\n",
       "    </tr>\n",
       "  </tbody>\n",
       "</table>\n",
       "</div>"
      ],
      "text/plain": [
       "     v1                                                 v2 Unnamed: 2  \\\n",
       "0   ham  Go until jurong point, crazy.. Available only ...        NaN   \n",
       "1   ham                      Ok lar... Joking wif u oni...        NaN   \n",
       "2  spam  Free entry in 2 a wkly comp to win FA Cup fina...        NaN   \n",
       "3   ham  U dun say so early hor... U c already then say...        NaN   \n",
       "4   ham  Nah I don't think he goes to usf, he lives aro...        NaN   \n",
       "\n",
       "  Unnamed: 3 Unnamed: 4  \n",
       "0        NaN        NaN  \n",
       "1        NaN        NaN  \n",
       "2        NaN        NaN  \n",
       "3        NaN        NaN  \n",
       "4        NaN        NaN  "
      ]
     },
     "execution_count": 6,
     "metadata": {},
     "output_type": "execute_result"
    }
   ],
   "source": [
    "data.head()"
   ]
  },
  {
   "cell_type": "markdown",
   "metadata": {},
   "source": [
    "### Remove undesired columns"
   ]
  },
  {
   "cell_type": "code",
   "execution_count": 7,
   "metadata": {},
   "outputs": [
    {
     "data": {
      "text/html": [
       "<div>\n",
       "<style scoped>\n",
       "    .dataframe tbody tr th:only-of-type {\n",
       "        vertical-align: middle;\n",
       "    }\n",
       "\n",
       "    .dataframe tbody tr th {\n",
       "        vertical-align: top;\n",
       "    }\n",
       "\n",
       "    .dataframe thead th {\n",
       "        text-align: right;\n",
       "    }\n",
       "</style>\n",
       "<table border=\"1\" class=\"dataframe\">\n",
       "  <thead>\n",
       "    <tr style=\"text-align: right;\">\n",
       "      <th></th>\n",
       "      <th>v1</th>\n",
       "      <th>v2</th>\n",
       "    </tr>\n",
       "  </thead>\n",
       "  <tbody>\n",
       "    <tr>\n",
       "      <th>0</th>\n",
       "      <td>ham</td>\n",
       "      <td>Go until jurong point, crazy.. Available only ...</td>\n",
       "    </tr>\n",
       "    <tr>\n",
       "      <th>1</th>\n",
       "      <td>ham</td>\n",
       "      <td>Ok lar... Joking wif u oni...</td>\n",
       "    </tr>\n",
       "    <tr>\n",
       "      <th>2</th>\n",
       "      <td>spam</td>\n",
       "      <td>Free entry in 2 a wkly comp to win FA Cup fina...</td>\n",
       "    </tr>\n",
       "    <tr>\n",
       "      <th>3</th>\n",
       "      <td>ham</td>\n",
       "      <td>U dun say so early hor... U c already then say...</td>\n",
       "    </tr>\n",
       "    <tr>\n",
       "      <th>4</th>\n",
       "      <td>ham</td>\n",
       "      <td>Nah I don't think he goes to usf, he lives aro...</td>\n",
       "    </tr>\n",
       "  </tbody>\n",
       "</table>\n",
       "</div>"
      ],
      "text/plain": [
       "     v1                                                 v2\n",
       "0   ham  Go until jurong point, crazy.. Available only ...\n",
       "1   ham                      Ok lar... Joking wif u oni...\n",
       "2  spam  Free entry in 2 a wkly comp to win FA Cup fina...\n",
       "3   ham  U dun say so early hor... U c already then say...\n",
       "4   ham  Nah I don't think he goes to usf, he lives aro..."
      ]
     },
     "execution_count": 7,
     "metadata": {},
     "output_type": "execute_result"
    }
   ],
   "source": [
    "data=data.drop([\"Unnamed: 2\",\"Unnamed: 3\" ,\"Unnamed: 4\"], axis=1)\n",
    "data.head()"
   ]
  },
  {
   "cell_type": "code",
   "execution_count": 8,
   "metadata": {},
   "outputs": [
    {
     "data": {
      "text/html": [
       "<div>\n",
       "<style scoped>\n",
       "    .dataframe tbody tr th:only-of-type {\n",
       "        vertical-align: middle;\n",
       "    }\n",
       "\n",
       "    .dataframe tbody tr th {\n",
       "        vertical-align: top;\n",
       "    }\n",
       "\n",
       "    .dataframe thead th {\n",
       "        text-align: right;\n",
       "    }\n",
       "</style>\n",
       "<table border=\"1\" class=\"dataframe\">\n",
       "  <thead>\n",
       "    <tr style=\"text-align: right;\">\n",
       "      <th></th>\n",
       "      <th>v1</th>\n",
       "      <th>v2</th>\n",
       "    </tr>\n",
       "  </thead>\n",
       "  <tbody>\n",
       "    <tr>\n",
       "      <th>count</th>\n",
       "      <td>5572</td>\n",
       "      <td>5572</td>\n",
       "    </tr>\n",
       "    <tr>\n",
       "      <th>unique</th>\n",
       "      <td>2</td>\n",
       "      <td>5169</td>\n",
       "    </tr>\n",
       "    <tr>\n",
       "      <th>top</th>\n",
       "      <td>ham</td>\n",
       "      <td>Sorry, I'll call later</td>\n",
       "    </tr>\n",
       "    <tr>\n",
       "      <th>freq</th>\n",
       "      <td>4825</td>\n",
       "      <td>30</td>\n",
       "    </tr>\n",
       "  </tbody>\n",
       "</table>\n",
       "</div>"
      ],
      "text/plain": [
       "          v1                      v2\n",
       "count   5572                    5572\n",
       "unique     2                    5169\n",
       "top      ham  Sorry, I'll call later\n",
       "freq    4825                      30"
      ]
     },
     "execution_count": 8,
     "metadata": {},
     "output_type": "execute_result"
    }
   ],
   "source": [
    "data.describe()"
   ]
  },
  {
   "cell_type": "markdown",
   "metadata": {},
   "source": [
    "### Create numrical equivalent to label categorical column"
   ]
  },
  {
   "cell_type": "code",
   "execution_count": 9,
   "metadata": {},
   "outputs": [
    {
     "data": {
      "text/html": [
       "<div>\n",
       "<style scoped>\n",
       "    .dataframe tbody tr th:only-of-type {\n",
       "        vertical-align: middle;\n",
       "    }\n",
       "\n",
       "    .dataframe tbody tr th {\n",
       "        vertical-align: top;\n",
       "    }\n",
       "\n",
       "    .dataframe thead th {\n",
       "        text-align: right;\n",
       "    }\n",
       "</style>\n",
       "<table border=\"1\" class=\"dataframe\">\n",
       "  <thead>\n",
       "    <tr style=\"text-align: right;\">\n",
       "      <th></th>\n",
       "      <th>v1</th>\n",
       "      <th>v2</th>\n",
       "      <th>label</th>\n",
       "    </tr>\n",
       "  </thead>\n",
       "  <tbody>\n",
       "    <tr>\n",
       "      <th>0</th>\n",
       "      <td>ham</td>\n",
       "      <td>Go until jurong point, crazy.. Available only ...</td>\n",
       "      <td>0</td>\n",
       "    </tr>\n",
       "    <tr>\n",
       "      <th>1</th>\n",
       "      <td>ham</td>\n",
       "      <td>Ok lar... Joking wif u oni...</td>\n",
       "      <td>0</td>\n",
       "    </tr>\n",
       "    <tr>\n",
       "      <th>2</th>\n",
       "      <td>spam</td>\n",
       "      <td>Free entry in 2 a wkly comp to win FA Cup fina...</td>\n",
       "      <td>1</td>\n",
       "    </tr>\n",
       "    <tr>\n",
       "      <th>3</th>\n",
       "      <td>ham</td>\n",
       "      <td>U dun say so early hor... U c already then say...</td>\n",
       "      <td>0</td>\n",
       "    </tr>\n",
       "    <tr>\n",
       "      <th>4</th>\n",
       "      <td>ham</td>\n",
       "      <td>Nah I don't think he goes to usf, he lives aro...</td>\n",
       "      <td>0</td>\n",
       "    </tr>\n",
       "  </tbody>\n",
       "</table>\n",
       "</div>"
      ],
      "text/plain": [
       "     v1                                                 v2  label\n",
       "0   ham  Go until jurong point, crazy.. Available only ...      0\n",
       "1   ham                      Ok lar... Joking wif u oni...      0\n",
       "2  spam  Free entry in 2 a wkly comp to win FA Cup fina...      1\n",
       "3   ham  U dun say so early hor... U c already then say...      0\n",
       "4   ham  Nah I don't think he goes to usf, he lives aro...      0"
      ]
     },
     "execution_count": 9,
     "metadata": {},
     "output_type": "execute_result"
    }
   ],
   "source": [
    "data['label'] = data['v1'].map({'ham': 0, 'spam': 1})\n",
    "data.head()"
   ]
  },
  {
   "cell_type": "markdown",
   "metadata": {},
   "source": [
    "### Extract all the mails into a list of content, label pairs"
   ]
  },
  {
   "cell_type": "code",
   "execution_count": 10,
   "metadata": {},
   "outputs": [
    {
     "data": {
      "text/plain": [
       "[('Go until jurong point, crazy.. Available only in bugis n great world la e buffet... Cine there got amore wat...',\n",
       "  0),\n",
       " ('Ok lar... Joking wif u oni...', 0),\n",
       " (\"Free entry in 2 a wkly comp to win FA Cup final tkts 21st May 2005. Text FA to 87121 to receive entry question(std txt rate)T&C's apply 08452810075over18's\",\n",
       "  1)]"
      ]
     },
     "execution_count": 10,
     "metadata": {},
     "output_type": "execute_result"
    }
   ],
   "source": [
    "texts = []\n",
    "for index, row in data.iterrows():\n",
    "    texts.append((row['v2'], row['label']))\n",
    "texts[0:3]"
   ]
  },
  {
   "cell_type": "markdown",
   "metadata": {},
   "source": [
    "### Remove white-spaces and punctuations\n",
    "### Tokenize the strings by separation out individual words"
   ]
  },
  {
   "cell_type": "code",
   "execution_count": 11,
   "metadata": {},
   "outputs": [
    {
     "data": {
      "text/plain": [
       "[(['Go',\n",
       "   'until',\n",
       "   'jurong',\n",
       "   'point',\n",
       "   'crazy',\n",
       "   'Available',\n",
       "   'only',\n",
       "   'in',\n",
       "   'bugis',\n",
       "   'n',\n",
       "   'great',\n",
       "   'world',\n",
       "   'la',\n",
       "   'e',\n",
       "   'buffet',\n",
       "   'Cine',\n",
       "   'there',\n",
       "   'got',\n",
       "   'amore',\n",
       "   'wat'],\n",
       "  0),\n",
       " (['Ok', 'lar', 'Joking', 'wif', 'u', 'oni'], 0)]"
      ]
     },
     "execution_count": 11,
     "metadata": {},
     "output_type": "execute_result"
    }
   ],
   "source": [
    "tokenized = []\n",
    "for t in texts:\n",
    "    msg = t[0]\n",
    "    msg = re.sub('[' + string.punctuation + ']', ' ', msg)\n",
    "    msg = re.sub('[\\n\\t\\r]', '', msg)\n",
    "    words = msg.split()\n",
    "    tokenized.append((words, t[1]))\n",
    "tokenized[0:2] # First element"
   ]
  },
  {
   "cell_type": "markdown",
   "metadata": {},
   "source": [
    "### Removing stopwords as defined in the NLTK library\n",
    "### Also words of length less than 3 are removed, as they appear too often and do not contribute too much to help put a label on a text"
   ]
  },
  {
   "cell_type": "code",
   "execution_count": 12,
   "metadata": {},
   "outputs": [
    {
     "name": "stdout",
     "output_type": "stream",
     "text": [
      "[nltk_data] Error loading stopwords: <urlopen error Tunnel connection\n",
      "[nltk_data]     failed: 503 Service Unavailable>\n"
     ]
    },
    {
     "data": {
      "text/plain": [
       "[(['jurong',\n",
       "   'point',\n",
       "   'crazy',\n",
       "   'Available',\n",
       "   'bugis',\n",
       "   'great',\n",
       "   'world',\n",
       "   'buffet',\n",
       "   'Cine',\n",
       "   'got',\n",
       "   'amore',\n",
       "   'wat'],\n",
       "  0),\n",
       " (['lar', 'Joking', 'wif', 'oni'], 0)]"
      ]
     },
     "execution_count": 12,
     "metadata": {},
     "output_type": "execute_result"
    }
   ],
   "source": [
    "import nltk\n",
    "nltk.download('stopwords')\n",
    "from nltk.corpus import stopwords\n",
    "\n",
    "stop_words = set(stopwords.words('english')) \n",
    "filtered = []\n",
    "for t in tokenized:\n",
    "    words = t[0]\n",
    "    stop_removed = []\n",
    "    for word in words:\n",
    "        if word not in stop_words and len(word) > 2:\n",
    "            stop_removed.append(word)\n",
    "    filtered.append((stop_removed, t[1]))\n",
    "\n",
    "filtered[0:2]"
   ]
  },
  {
   "cell_type": "markdown",
   "metadata": {},
   "source": [
    "### Perform Stemming, or converting morphologically similar words to root word, as defined in NLTK library"
   ]
  },
  {
   "cell_type": "code",
   "execution_count": 13,
   "metadata": {},
   "outputs": [
    {
     "data": {
      "text/plain": [
       "[(['jurong',\n",
       "   'point',\n",
       "   'crazi',\n",
       "   'avail',\n",
       "   'bugi',\n",
       "   'great',\n",
       "   'world',\n",
       "   'buffet',\n",
       "   'cine',\n",
       "   'got',\n",
       "   'amor',\n",
       "   'wat'],\n",
       "  0),\n",
       " (['lar', 'joke', 'wif', 'oni'], 0)]"
      ]
     },
     "execution_count": 13,
     "metadata": {},
     "output_type": "execute_result"
    }
   ],
   "source": [
    "stemmer = PorterStemmer()\n",
    "stemmed = []\n",
    "for t in filtered:\n",
    "    words = t[0]\n",
    "    stemmed_words = []\n",
    "    for word in words:\n",
    "        stemmed_word = stemmer.stem(word.lower())\n",
    "        stemmed_words.append(stemmed_word)\n",
    "    stemmed.append((stemmed_words, t[1]))\n",
    "stemmed[0:2]"
   ]
  },
  {
   "cell_type": "markdown",
   "metadata": {},
   "source": [
    "### Counting number of texts each word occurs in and eliminate those appearing only once"
   ]
  },
  {
   "cell_type": "code",
   "execution_count": 14,
   "metadata": {},
   "outputs": [
    {
     "data": {
      "text/plain": [
       "[(['point',\n",
       "   'crazi',\n",
       "   'avail',\n",
       "   'bugi',\n",
       "   'great',\n",
       "   'world',\n",
       "   'buffet',\n",
       "   'cine',\n",
       "   'got',\n",
       "   'wat'],\n",
       "  0),\n",
       " (['lar', 'joke', 'wif', 'oni'], 0)]"
      ]
     },
     "execution_count": 14,
     "metadata": {},
     "output_type": "execute_result"
    }
   ],
   "source": [
    "word_count = {}\n",
    "for t in stemmed:\n",
    "    words = t[0]\n",
    "    occured = []\n",
    "    for word in words:\n",
    "        if word not in word_count:\n",
    "            word_count[word] = 1\n",
    "        elif word not in occured:\n",
    "            word_count[word] += 1\n",
    "            occured.append(word)\n",
    "\n",
    "for i in range(len(stemmed)):\n",
    "    stemmed[i] = (list(filter(lambda x: word_count[x] > 1, stemmed[i][0])), stemmed[i][1])\n",
    "\n",
    "stemmed[0:2]"
   ]
  },
  {
   "cell_type": "markdown",
   "metadata": {},
   "source": [
    "### Split the dataset into training and testing(70-30 split)"
   ]
  },
  {
   "cell_type": "code",
   "execution_count": 15,
   "metadata": {
    "collapsed": true
   },
   "outputs": [],
   "source": [
    "number_of_hams = data.label.value_counts()[0]\n",
    "number_of_spams = data.label.value_counts()[1]\n",
    "total = number_of_hams + number_of_spams\n",
    "\n",
    "train_data = stemmed[:int(0.7*total)]\n",
    "test_data = stemmed[int(0.7*total):]"
   ]
  },
  {
   "cell_type": "markdown",
   "metadata": {},
   "source": [
    "### Train the Naive Nayes Chassifier i:e, computing P(Spam|Word)"
   ]
  },
  {
   "cell_type": "code",
   "execution_count": 16,
   "metadata": {},
   "outputs": [
    {
     "name": "stdout",
     "output_type": "stream",
     "text": [
      "Probability that a message is spam given the word \"free\" is: 0.7531645569620252\n"
     ]
    }
   ],
   "source": [
    "# We need to train these 4 possibilities:\n",
    "# 1) Probability that a word occurs in spam mails\n",
    "# 2) Probability that a word occurs in ham mails\n",
    "# 3) Probability that any given mail is spam\n",
    "# 4) Probability that any given mail is ham\n",
    "\n",
    "def prob_occurs_in_spam(word):\n",
    "    count = 0\n",
    "    total_spams = 0\n",
    "    for t in train_data:\n",
    "        msg = t[0]\n",
    "        if t[1] == 1:\n",
    "            total_spams += 1\n",
    "            if word in msg:\n",
    "                count += 1\n",
    "    return count/total_spams\n",
    "             \n",
    "\n",
    "def prob_occurs_in_ham(word):\n",
    "    count = 0\n",
    "    total_hams = 0\n",
    "    for t in train_data:\n",
    "        msg = t[0]\n",
    "        if t[1] == 0:\n",
    "            total_hams += 1\n",
    "            if word in msg:\n",
    "                count += 1\n",
    "    return count/total_hams\n",
    "\n",
    "def total_spams_and_hams(train_data):\n",
    "    total_spams = 0\n",
    "    total_hams = 0\n",
    "    for t in train_data:\n",
    "        if t[1] == 1:\n",
    "            total_spams += 1  \n",
    "        else:\n",
    "            total_hams += 1 \n",
    "    return total_spams, total_hams\n",
    "\n",
    "\n",
    "prob_spam = total_spams_and_hams(train_data)[0]/len(train_data)\n",
    "prob_ham = total_spams_and_hams(train_data)[1]/len(train_data)\n",
    "\n",
    "# Apply the Bayes Theorem\n",
    "def prob_spam_given_word(word):\n",
    "    return (prob_occurs_in_spam(word)*prob_spam)/((prob_occurs_in_spam(word)*prob_spam + prob_occurs_in_ham(word)*prob_ham))\n",
    "\n",
    "word = 'free'\n",
    "print('Probability that a message is spam given the word \"{}\" is: {}'.format(word, prob_spam_given_word(word)))"
   ]
  },
  {
   "cell_type": "markdown",
   "metadata": {},
   "source": [
    "### We store probabilities of a message being spam given a word in a dictionary for every word"
   ]
  },
  {
   "cell_type": "code",
   "execution_count": 17,
   "metadata": {
    "collapsed": true
   },
   "outputs": [],
   "source": [
    "probabilities = {}\n",
    "for t in train_data:\n",
    "    msg = t[0]\n",
    "    for word in msg:\n",
    "        if word not in probabilities:\n",
    "            prob = prob_spam_given_word(word)\n",
    "            if prob == 0:\n",
    "                probabilities[word] = 0.001\n",
    "            else:\n",
    "                probabilities[word] = prob"
   ]
  },
  {
   "cell_type": "markdown",
   "metadata": {},
   "source": [
    "### Testing the model on unseen mails"
   ]
  },
  {
   "cell_type": "code",
   "execution_count": 18,
   "metadata": {
    "collapsed": true
   },
   "outputs": [],
   "source": [
    "from functools import reduce\n",
    "\n",
    "def prob_is_spam(words):\n",
    "    probs_spam = []\n",
    "    for word in words:\n",
    "        if word in probabilities:\n",
    "            probs_spam.append(probabilities[word])\n",
    "        else:\n",
    "            probs_spam.append(0.5) \n",
    "    probs_not_spam = list(map(lambda prob: 1-prob, probs_spam))\n",
    "    product_spam = reduce(lambda x, y: x * y, probs_spam, 1) \n",
    "    product_not_spam = reduce(lambda x, y: x * y, probs_not_spam, 1)\n",
    "    return product_spam/(product_spam + product_not_spam)\n"
   ]
  },
  {
   "cell_type": "markdown",
   "metadata": {},
   "source": [
    "### Check accuracy on test data and compute confusion matrix to evaluate performance"
   ]
  },
  {
   "cell_type": "code",
   "execution_count": 19,
   "metadata": {},
   "outputs": [
    {
     "name": "stdout",
     "output_type": "stream",
     "text": [
      "Total test mails:  1672\n",
      "Correctly Predicted:  1595\n",
      "Accuracy:  95.39473684210526\n",
      "Ham precision:  0.9850958126330731\n",
      "Ham recall:  0.961218836565097\n",
      "Spam precision:  0.7870722433460076\n",
      "Spam recall:  0.9078947368421053\n",
      "-------------------------------\n",
      "Predicted     0    1   All\n",
      "Actual                    \n",
      "0          1388   56  1444\n",
      "1            21  207   228\n",
      "All        1409  263  1672\n"
     ]
    }
   ],
   "source": [
    "total_correct = 0\n",
    "true_spam_as_spam = 0\n",
    "true_spam_as_ham = 0\n",
    "true_ham_as_ham = 0\n",
    "true_ham_as_spam = 0\n",
    "\n",
    "predicted=[]\n",
    "for t in test_data:\n",
    "    guess = -1\n",
    "    words = t[0]\n",
    "    answer = t[1]\n",
    "    prob_spam = prob_is_spam(words)\n",
    "    guess = 1 if prob_spam > 0.95 else 0\n",
    "    predicted.append(guess)\n",
    "    if guess == answer:\n",
    "        total_correct += 1\n",
    "        if answer == 0: # true negative\n",
    "            true_ham_as_ham += 1\n",
    "        else: # true positive\n",
    "            true_spam_as_spam += 1 \n",
    "    else:\n",
    "        if answer == 0: # false positive\n",
    "            true_ham_as_spam += 1\n",
    "        else: # true negative\n",
    "            true_spam_as_ham += 1\n",
    "\n",
    "            \n",
    "true_spams = total_spams_and_hams(test_data)[0]\n",
    "true_hams = total_spams_and_hams(test_data)[1]\n",
    "\n",
    "print('Total test mails: ', len(test_data))\n",
    "print('Correctly Predicted: ', total_correct)\n",
    "print('Accuracy: ', total_correct*100/(true_spams+true_hams))\n",
    "print('Ham precision: ', true_ham_as_ham/(true_ham_as_ham + true_spam_as_ham))\n",
    "print('Ham recall: ', true_ham_as_ham/(true_ham_as_ham + true_ham_as_spam))\n",
    "print('Spam precision: ', true_spam_as_spam/(true_spam_as_spam + true_ham_as_spam)) \n",
    "print('Spam recall: ', true_spam_as_spam/(true_spam_as_spam + true_spam_as_ham))\n",
    "print('-------------------------------')\n",
    "confusion_mat = pd.crosstab(data['label'][int(0.7*total):], np.array(predicted), rownames=['Actual'], colnames=['Predicted'], margins=True)\n",
    "print(confusion_mat)"
   ]
  }
 ],
 "metadata": {
  "kernelspec": {
   "display_name": "Python 3",
   "language": "python",
   "name": "python3"
  },
  "language_info": {
   "codemirror_mode": {
    "name": "ipython",
    "version": 3
   },
   "file_extension": ".py",
   "mimetype": "text/x-python",
   "name": "python",
   "nbconvert_exporter": "python",
   "pygments_lexer": "ipython3",
   "version": "3.6.8"
  }
 },
 "nbformat": 4,
 "nbformat_minor": 2
}
