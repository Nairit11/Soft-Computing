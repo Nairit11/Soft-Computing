{
 "cells": [
  {
   "cell_type": "code",
   "execution_count": 0,
   "metadata": {
    "colab": {},
    "colab_type": "code",
    "collapsed": true,
    "id": "UnzQC9hiLBw_"
   },
   "outputs": [],
   "source": [
    "from numpy import*\n",
    "from scipy.interpolate import*\n",
    "from matplotlib.pyplot import*\n",
    "%matplotlib inline\n",
    "\n",
    "import matplotlib.pyplot as plt\n",
    "import math"
   ]
  },
  {
   "cell_type": "code",
   "execution_count": 0,
   "metadata": {
    "colab": {},
    "colab_type": "code",
    "collapsed": true,
    "id": "ggJH0gIvLFqm"
   },
   "outputs": [],
   "source": [
    "x = array([0, 1, 2, 3, 4, 5, 6])\n",
    "y = array([2.4, 2.1, 3.2, 5.6, 9.3, 14.6, 21.9])\n",
    "n = x.size"
   ]
  },
  {
   "cell_type": "code",
   "execution_count": 14,
   "metadata": {
    "colab": {
     "base_uri": "https://localhost:8080/",
     "height": 265
    },
    "colab_type": "code",
    "id": "MVcSwoxpLXc3",
    "outputId": "c215c259-2cc4-4142-cae5-93d81be0cd8b"
   },
   "outputs": [
    {
     "data": {
      "image/png": "[encoded data removed]",
      "text/plain": [
       "<Figure size 432x288 with 1 Axes>"
      ]
     },
     "metadata": {
      "tags": []
     },
     "output_type": "display_data"
    }
   ],
   "source": [
    "a = 0\n",
    "b = 0\n",
    "c = 0\n",
    "d = 0\n",
    "e = 0\n",
    "f = 0\n",
    "g = 0\n",
    "h = 0\n",
    "l = 0\n",
    "j = 0\n",
    "k = 0\n",
    "\n",
    "for i in range(n):\n",
    "  a += x[i]\n",
    "  b += y[i]\n",
    "  c += x[i]*x[i]\n",
    "  g += x[i]*y[i]\n",
    "  h += x[i]*x[i]*x[i]*x[i]\n",
    "  l += x[i]*x[i]*y[i]\n",
    "  k += x[i]*x[i]*x[i]\n",
    "\n",
    "d = a/n\n",
    "e = b/n\n",
    "f = c/n\n",
    "\n",
    "sxx = f - (d*d)\n",
    "sxy = (g/n) - (d*e)\n",
    "sxx2 = (k/n) - (d*f)\n",
    "sx2x2 = (h/n) - (f*f)\n",
    "sx2y = (l/n) - (f*e)\n",
    "\n",
    "B = ((sxy*sx2x2) - (sx2y*sxx2))/((sxx*sx2x2)-(sxx2*sxx2))\n",
    "C = ((sx2y*sxx)-(sxy*sxx2))/((sxx*sx2x2)-(sxx2*sxx2))\n",
    "A = (e) - (B*d) - (C*f)\n",
    "\n",
    "plt.plot(x, (A+(B*x)+(C*x*x)), 'r-')\n",
    "plt.plot(x, y, 'o')\n",
    "plt.show()"
   ]
  },
  {
   "cell_type": "markdown",
   "metadata": {
    "colab_type": "text",
    "id": "342_1caj8yT1"
   },
   "source": []
  },
  {
   "cell_type": "code",
   "execution_count": 15,
   "metadata": {
    "colab": {
     "base_uri": "https://localhost:8080/",
     "height": 34
    },
    "colab_type": "code",
    "id": "ZCZObRpQyPQf",
    "outputId": "c91f44af-c6b3-411b-9e07-4d7ddcdb943e"
   },
   "outputs": [
    {
     "name": "stdout",
     "output_type": "stream",
     "text": [
      "2.509523809523806 -1.2000000000000028 0.7333333333333343\n"
     ]
    }
   ],
   "source": [
    "print(A,B,C)"
   ]
  },
  {
   "cell_type": "code",
   "execution_count": 0,
   "metadata": {
    "colab": {},
    "colab_type": "code",
    "collapsed": true,
    "id": "SxxtSuapzuJC"
   },
   "outputs": [],
   "source": []
  }
 ],
 "metadata": {
  "colab": {
   "name": "Question4.ipynb",
   "provenance": [],
   "version": "0.3.2"
  },
  "kernelspec": {
   "display_name": "Python 3",
   "language": "python",
   "name": "python3"
  },
  "language_info": {
   "codemirror_mode": {
    "name": "ipython",
    "version": 3
   },
   "file_extension": ".py",
   "mimetype": "text/x-python",
   "name": "python",
   "nbconvert_exporter": "python",
   "pygments_lexer": "ipython3",
   "version": "3.6.8"
  }
 },
 "nbformat": 4,
 "nbformat_minor": 1
}
