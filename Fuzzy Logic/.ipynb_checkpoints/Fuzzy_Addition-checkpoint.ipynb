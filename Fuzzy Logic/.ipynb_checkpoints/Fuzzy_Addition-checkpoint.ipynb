{
 "cells": [
  {
   "cell_type": "code",
   "execution_count": 1,
   "metadata": {
    "collapsed": true
   },
   "outputs": [],
   "source": [
    "import numpy as np"
   ]
  },
  {
   "cell_type": "markdown",
   "metadata": {},
   "source": [
    "### Define Fuzzy Numbers"
   ]
  },
  {
   "cell_type": "code",
   "execution_count": 2,
   "metadata": {
    "collapsed": true
   },
   "outputs": [],
   "source": [
    "A = np.array([\n",
    "    [2, 1],\n",
    "    [3, 0.5]\n",
    "])\n",
    "\n",
    "B = np.array([\n",
    "    [3, 1],\n",
    "    [4, 0.5]\n",
    "])"
   ]
  },
  {
   "cell_type": "markdown",
   "metadata": {},
   "source": [
    "### Create dictionary of all possible pairs of membership values between the fuzzy numbers"
   ]
  },
  {
   "cell_type": "code",
   "execution_count": 3,
   "metadata": {
    "collapsed": true
   },
   "outputs": [],
   "source": [
    "pairs = {}\n",
    "for i in range(A.shape[0]) :\n",
    "    for j in range(B.shape[0]) :\n",
    "        key = A[i][0] + B[j][0]\n",
    "        if(key in pairs) :\n",
    "            arr = pairs[key]\n",
    "            arr.append([A[i], A[j]])\n",
    "            pairs[key] = arr\n",
    "        else :\n",
    "            pairs[key] = [[A[i], A[j]]]\n"
   ]
  },
  {
   "cell_type": "code",
   "execution_count": 4,
   "metadata": {},
   "outputs": [
    {
     "data": {
      "text/plain": [
       "{5.0: [[array([2., 1.]), array([2., 1.])]],\n",
       " 6.0: [[array([2., 1.]), array([3. , 0.5])],\n",
       "  [array([3. , 0.5]), array([2., 1.])]],\n",
       " 7.0: [[array([3. , 0.5]), array([3. , 0.5])]]}"
      ]
     },
     "execution_count": 4,
     "metadata": {},
     "output_type": "execute_result"
    }
   ],
   "source": [
    "pairs"
   ]
  },
  {
   "cell_type": "markdown",
   "metadata": {},
   "source": [
    "### Create added fuzzy number using formula Max(Min(uA(x),uB(y), ... )"
   ]
  },
  {
   "cell_type": "code",
   "execution_count": 5,
   "metadata": {
    "collapsed": true
   },
   "outputs": [],
   "source": [
    "A_plus_B = []"
   ]
  },
  {
   "cell_type": "code",
   "execution_count": 6,
   "metadata": {
    "collapsed": true
   },
   "outputs": [],
   "source": [
    "for key in pairs :\n",
    "    max_val = -1\n",
    "    for i in range(len(pairs[key])) :\n",
    "        p = pairs[key][i]\n",
    "        val = min(p[0][1], p[1][1])\n",
    "        if(max_val <  val)  :\n",
    "            max_val = val\n",
    "    A_plus_B.append([key, max_val])"
   ]
  },
  {
   "cell_type": "code",
   "execution_count": 7,
   "metadata": {},
   "outputs": [
    {
     "data": {
      "text/plain": [
       "[[5.0, 1.0], [6.0, 0.5], [7.0, 0.5]]"
      ]
     },
     "execution_count": 7,
     "metadata": {},
     "output_type": "execute_result"
    }
   ],
   "source": [
    "A_plus_B"
   ]
  }
 ],
 "metadata": {
  "kernelspec": {
   "display_name": "Python 3",
   "language": "python",
   "name": "python3"
  },
  "language_info": {
   "codemirror_mode": {
    "name": "ipython",
    "version": 3
   },
   "file_extension": ".py",
   "mimetype": "text/x-python",
   "name": "python",
   "nbconvert_exporter": "python",
   "pygments_lexer": "ipython3",
   "version": "3.6.8"
  }
 },
 "nbformat": 4,
 "nbformat_minor": 2
}
