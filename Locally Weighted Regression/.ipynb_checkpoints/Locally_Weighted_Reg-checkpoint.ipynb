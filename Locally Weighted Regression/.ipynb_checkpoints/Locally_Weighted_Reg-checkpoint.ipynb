{
 "cells": [
  {
   "cell_type": "markdown",
   "metadata": {},
   "source": [
    "### Import required packages "
   ]
  },
  {
   "cell_type": "code",
   "execution_count": 33,
   "metadata": {
    "collapsed": true
   },
   "outputs": [],
   "source": [
    "%matplotlib inline\n",
    "import numpy as np\n",
    "import pandas as pd\n",
    "import matplotlib.pyplot as plt\n",
    "plt.rcParams['figure.figsize'] = (20.0, 10.0)\n",
    "from mpl_toolkits.mplot3d import Axes3D"
   ]
  },
  {
   "cell_type": "markdown",
   "metadata": {},
   "source": [
    "### Import housing data"
   ]
  },
  {
   "cell_type": "code",
   "execution_count": 34,
   "metadata": {},
   "outputs": [
    {
     "name": "stdout",
     "output_type": "stream",
     "text": [
      "(546, 13)\n"
     ]
    },
    {
     "data": {
      "text/html": [
       "<div>\n",
       "<style scoped>\n",
       "    .dataframe tbody tr th:only-of-type {\n",
       "        vertical-align: middle;\n",
       "    }\n",
       "\n",
       "    .dataframe tbody tr th {\n",
       "        vertical-align: top;\n",
       "    }\n",
       "\n",
       "    .dataframe thead th {\n",
       "        text-align: right;\n",
       "    }\n",
       "</style>\n",
       "<table border=\"1\" class=\"dataframe\">\n",
       "  <thead>\n",
       "    <tr style=\"text-align: right;\">\n",
       "      <th></th>\n",
       "      <th>price</th>\n",
       "      <th>lotsize</th>\n",
       "      <th>bedrooms</th>\n",
       "      <th>bathrms</th>\n",
       "      <th>stories</th>\n",
       "      <th>driveway</th>\n",
       "      <th>recroom</th>\n",
       "      <th>fullbase</th>\n",
       "      <th>gashw</th>\n",
       "      <th>airco</th>\n",
       "      <th>garagepl</th>\n",
       "      <th>prefarea</th>\n",
       "    </tr>\n",
       "  </thead>\n",
       "  <tbody>\n",
       "    <tr>\n",
       "      <th>0</th>\n",
       "      <td>42000.0</td>\n",
       "      <td>5850</td>\n",
       "      <td>3</td>\n",
       "      <td>1</td>\n",
       "      <td>2</td>\n",
       "      <td>yes</td>\n",
       "      <td>no</td>\n",
       "      <td>yes</td>\n",
       "      <td>no</td>\n",
       "      <td>no</td>\n",
       "      <td>1</td>\n",
       "      <td>no</td>\n",
       "    </tr>\n",
       "    <tr>\n",
       "      <th>1</th>\n",
       "      <td>38500.0</td>\n",
       "      <td>4000</td>\n",
       "      <td>2</td>\n",
       "      <td>1</td>\n",
       "      <td>1</td>\n",
       "      <td>yes</td>\n",
       "      <td>no</td>\n",
       "      <td>no</td>\n",
       "      <td>no</td>\n",
       "      <td>no</td>\n",
       "      <td>0</td>\n",
       "      <td>no</td>\n",
       "    </tr>\n",
       "    <tr>\n",
       "      <th>2</th>\n",
       "      <td>49500.0</td>\n",
       "      <td>3060</td>\n",
       "      <td>3</td>\n",
       "      <td>1</td>\n",
       "      <td>1</td>\n",
       "      <td>yes</td>\n",
       "      <td>no</td>\n",
       "      <td>no</td>\n",
       "      <td>no</td>\n",
       "      <td>no</td>\n",
       "      <td>0</td>\n",
       "      <td>no</td>\n",
       "    </tr>\n",
       "    <tr>\n",
       "      <th>3</th>\n",
       "      <td>60500.0</td>\n",
       "      <td>6650</td>\n",
       "      <td>3</td>\n",
       "      <td>1</td>\n",
       "      <td>2</td>\n",
       "      <td>yes</td>\n",
       "      <td>yes</td>\n",
       "      <td>no</td>\n",
       "      <td>no</td>\n",
       "      <td>no</td>\n",
       "      <td>0</td>\n",
       "      <td>no</td>\n",
       "    </tr>\n",
       "    <tr>\n",
       "      <th>4</th>\n",
       "      <td>61000.0</td>\n",
       "      <td>6360</td>\n",
       "      <td>2</td>\n",
       "      <td>1</td>\n",
       "      <td>1</td>\n",
       "      <td>yes</td>\n",
       "      <td>no</td>\n",
       "      <td>no</td>\n",
       "      <td>no</td>\n",
       "      <td>no</td>\n",
       "      <td>0</td>\n",
       "      <td>no</td>\n",
       "    </tr>\n",
       "  </tbody>\n",
       "</table>\n",
       "</div>"
      ],
      "text/plain": [
       "     price  lotsize  bedrooms  bathrms  stories driveway recroom fullbase  \\\n",
       "0  42000.0     5850         3        1        2      yes      no      yes   \n",
       "1  38500.0     4000         2        1        1      yes      no       no   \n",
       "2  49500.0     3060         3        1        1      yes      no       no   \n",
       "3  60500.0     6650         3        1        2      yes     yes       no   \n",
       "4  61000.0     6360         2        1        1      yes      no       no   \n",
       "\n",
       "  gashw airco  garagepl prefarea  \n",
       "0    no    no         1       no  \n",
       "1    no    no         0       no  \n",
       "2    no    no         0       no  \n",
       "3    no    no         0       no  \n",
       "4    no    no         0       no  "
      ]
     },
     "execution_count": 34,
     "metadata": {},
     "output_type": "execute_result"
    }
   ],
   "source": [
    "# Fetching data\n",
    "data = pd.read_csv('housing.csv')\n",
    "print(data.shape)\n",
    "data.head()\n",
    "# Dropping unnecessary columns\n",
    "data=data.drop(['Unnamed: 0'],axis=1)\n",
    "data.head()"
   ]
  },
  {
   "cell_type": "markdown",
   "metadata": {},
   "source": [
    "### Map categorical features to integer equivalent and mean normalizing"
   ]
  },
  {
   "cell_type": "code",
   "execution_count": 35,
   "metadata": {},
   "outputs": [
    {
     "data": {
      "text/html": [
       "<div>\n",
       "<style scoped>\n",
       "    .dataframe tbody tr th:only-of-type {\n",
       "        vertical-align: middle;\n",
       "    }\n",
       "\n",
       "    .dataframe tbody tr th {\n",
       "        vertical-align: top;\n",
       "    }\n",
       "\n",
       "    .dataframe thead th {\n",
       "        text-align: right;\n",
       "    }\n",
       "</style>\n",
       "<table border=\"1\" class=\"dataframe\">\n",
       "  <thead>\n",
       "    <tr style=\"text-align: right;\">\n",
       "      <th></th>\n",
       "      <th>price</th>\n",
       "      <th>lotsize</th>\n",
       "      <th>bedrooms</th>\n",
       "      <th>bathrms</th>\n",
       "      <th>stories</th>\n",
       "      <th>driveway</th>\n",
       "      <th>recroom</th>\n",
       "      <th>fullbase</th>\n",
       "      <th>gashw</th>\n",
       "      <th>airco</th>\n",
       "      <th>garagepl</th>\n",
       "      <th>prefarea</th>\n",
       "    </tr>\n",
       "  </thead>\n",
       "  <tbody>\n",
       "    <tr>\n",
       "      <th>0</th>\n",
       "      <td>-0.978239</td>\n",
       "      <td>0.322732</td>\n",
       "      <td>0.047192</td>\n",
       "      <td>-0.568973</td>\n",
       "      <td>0.221501</td>\n",
       "      <td>0.404819</td>\n",
       "      <td>-0.464371</td>\n",
       "      <td>1.362070</td>\n",
       "      <td>-0.218853</td>\n",
       "      <td>-0.68041</td>\n",
       "      <td>0.357239</td>\n",
       "      <td>-0.552865</td>\n",
       "    </tr>\n",
       "    <tr>\n",
       "      <th>1</th>\n",
       "      <td>-1.109312</td>\n",
       "      <td>-0.530526</td>\n",
       "      <td>-1.308947</td>\n",
       "      <td>-0.568973</td>\n",
       "      <td>-0.930304</td>\n",
       "      <td>0.404819</td>\n",
       "      <td>-0.464371</td>\n",
       "      <td>-0.732832</td>\n",
       "      <td>-0.218853</td>\n",
       "      <td>-0.68041</td>\n",
       "      <td>-0.803788</td>\n",
       "      <td>-0.552865</td>\n",
       "    </tr>\n",
       "    <tr>\n",
       "      <th>2</th>\n",
       "      <td>-0.697368</td>\n",
       "      <td>-0.964074</td>\n",
       "      <td>0.047192</td>\n",
       "      <td>-0.568973</td>\n",
       "      <td>-0.930304</td>\n",
       "      <td>0.404819</td>\n",
       "      <td>-0.464371</td>\n",
       "      <td>-0.732832</td>\n",
       "      <td>-0.218853</td>\n",
       "      <td>-0.68041</td>\n",
       "      <td>-0.803788</td>\n",
       "      <td>-0.552865</td>\n",
       "    </tr>\n",
       "    <tr>\n",
       "      <th>3</th>\n",
       "      <td>-0.285425</td>\n",
       "      <td>0.691709</td>\n",
       "      <td>0.047192</td>\n",
       "      <td>-0.568973</td>\n",
       "      <td>0.221501</td>\n",
       "      <td>0.404819</td>\n",
       "      <td>2.149509</td>\n",
       "      <td>-0.732832</td>\n",
       "      <td>-0.218853</td>\n",
       "      <td>-0.68041</td>\n",
       "      <td>-0.803788</td>\n",
       "      <td>-0.552865</td>\n",
       "    </tr>\n",
       "    <tr>\n",
       "      <th>4</th>\n",
       "      <td>-0.266700</td>\n",
       "      <td>0.557955</td>\n",
       "      <td>-1.308947</td>\n",
       "      <td>-0.568973</td>\n",
       "      <td>-0.930304</td>\n",
       "      <td>0.404819</td>\n",
       "      <td>-0.464371</td>\n",
       "      <td>-0.732832</td>\n",
       "      <td>-0.218853</td>\n",
       "      <td>-0.68041</td>\n",
       "      <td>-0.803788</td>\n",
       "      <td>-0.552865</td>\n",
       "    </tr>\n",
       "  </tbody>\n",
       "</table>\n",
       "</div>"
      ],
      "text/plain": [
       "      price   lotsize  bedrooms   bathrms   stories  driveway   recroom  \\\n",
       "0 -0.978239  0.322732  0.047192 -0.568973  0.221501  0.404819 -0.464371   \n",
       "1 -1.109312 -0.530526 -1.308947 -0.568973 -0.930304  0.404819 -0.464371   \n",
       "2 -0.697368 -0.964074  0.047192 -0.568973 -0.930304  0.404819 -0.464371   \n",
       "3 -0.285425  0.691709  0.047192 -0.568973  0.221501  0.404819  2.149509   \n",
       "4 -0.266700  0.557955 -1.308947 -0.568973 -0.930304  0.404819 -0.464371   \n",
       "\n",
       "   fullbase     gashw    airco  garagepl  prefarea  \n",
       "0  1.362070 -0.218853 -0.68041  0.357239 -0.552865  \n",
       "1 -0.732832 -0.218853 -0.68041 -0.803788 -0.552865  \n",
       "2 -0.732832 -0.218853 -0.68041 -0.803788 -0.552865  \n",
       "3 -0.732832 -0.218853 -0.68041 -0.803788 -0.552865  \n",
       "4 -0.732832 -0.218853 -0.68041 -0.803788 -0.552865  "
      ]
     },
     "execution_count": 35,
     "metadata": {},
     "output_type": "execute_result"
    }
   ],
   "source": [
    "# Mapping Yes and No to1 and 0 respectively\n",
    "di = {'no': 0, 'yes': 1}\n",
    "data=data.replace({'driveway':di,'recroom':di,'fullbase':di,'gashw':di,'airco':di,'prefarea':di})\n",
    "data.head()\n",
    "\n",
    "# Normalize the features using mean normalization\n",
    "data = (data - data.mean())/data.std()\n",
    "data.head()"
   ]
  },
  {
   "cell_type": "markdown",
   "metadata": {},
   "source": [
    "### Separate the features from target variable "
   ]
  },
  {
   "cell_type": "code",
   "execution_count": 36,
   "metadata": {},
   "outputs": [
    {
     "name": "stdout",
     "output_type": "stream",
     "text": [
      "(546, 12)\n",
      "(546, 1)\n"
     ]
    }
   ],
   "source": [
    "# Separate out the Feature and Target matrices\n",
    "Y=data.iloc[:,0:1].values\n",
    "#X=data[['lotsize','bedrooms','bathrms','stories','garagepl']].iloc[:,:]\n",
    "X=data.drop([\"price\"],axis=1).iloc[:,:]\n",
    "ones = np.ones([X.shape[0],1])\n",
    "X = np.concatenate((ones,X),axis=1)\n",
    "print(X.shape)\n",
    "print(Y.shape)"
   ]
  },
  {
   "cell_type": "markdown",
   "metadata": {},
   "source": [
    "### Defining weights and Locally Weighted Regression cost functions"
   ]
  },
  {
   "cell_type": "code",
   "execution_count": 37,
   "metadata": {
    "collapsed": true
   },
   "outputs": [],
   "source": [
    "# LWR Cost Function\n",
    "def LWRCost(X, Y, theta, W, reg_lambda):\n",
    "    reg_sum = (reg_lambda / (2 * X.shape[0])) * np.sum(np.square(theta[1:]))\n",
    "    return np.dot(np.dot(np.transpose(np.dot(X, theta) - Y), W), (np.dot(X, theta) - Y)) + reg_sum\n",
    "\n",
    "# Local Weights \n",
    "def get_weights(X, input_var, tau) :\n",
    "    weights = np.zeros((X.shape[0], X.shape[0]))\n",
    "    for i in range(X.shape[0]) :\n",
    "        weights[i][i] = np.exp((float(-1/2) * np.dot(np.transpose(X[i] - input_var), (X[i] - input_var))) / (tau * tau))\n",
    "    return weights\n",
    "\n",
    "# Normal Equation Definition\n",
    "def LWR_Normal(X, W, Y, reg_lambda) :  \n",
    "    return np.dot(np.linalg.inv(np.dot(np.dot(np.transpose(X), W), X)+reg_lambda), np.dot(np.dot(np.transpose(X), W), Y))"
   ]
  },
  {
   "cell_type": "markdown",
   "metadata": {},
   "source": [
    "### Initialize parameters and use whole batch as neighbourhood"
   ]
  },
  {
   "cell_type": "code",
   "execution_count": 38,
   "metadata": {
    "collapsed": true
   },
   "outputs": [],
   "source": [
    "# Initialize parameters\n",
    "reg_lambda = 0.001\n",
    "tau = 1"
   ]
  },
  {
   "cell_type": "markdown",
   "metadata": {},
   "source": [
    "### Leaving last tuple for testing purposes"
   ]
  },
  {
   "cell_type": "code",
   "execution_count": 39,
   "metadata": {},
   "outputs": [],
   "source": [
    "X=X[:-1]\n",
    "Y=Y[:-1]\n",
    "# To be predicted\n",
    "input_var = X[-1]            "
   ]
  },
  {
   "cell_type": "markdown",
   "metadata": {},
   "source": [
    "### Apply Locally Weighted Regression"
   ]
  },
  {
   "cell_type": "code",
   "execution_count": 40,
   "metadata": {},
   "outputs": [
    {
     "name": "stdout",
     "output_type": "stream",
     "text": [
      "Final cost:  [[0.31795942]]\n",
      "Final theta:  [[-0.42480668]\n",
      " [-0.09024056]\n",
      " [ 0.11276518]\n",
      " [ 0.56568635]\n",
      " [-0.02569115]\n",
      " [ 0.22438749]\n",
      " [ 0.21914763]\n",
      " [ 0.1072797 ]\n",
      " [-1.55721084]\n",
      " [ 0.15718895]\n",
      " [ 0.46929286]\n",
      " [ 0.25576549]]\n",
      "Predicted value :  [1.42503106]\n",
      "Original value :  [1.38107544]\n"
     ]
    }
   ],
   "source": [
    "# Apply LWR with Normal Equation \n",
    "W = get_weights(X, input_var, tau)\n",
    "theta_final = LWR_Normal(X, W, Y, reg_lambda)\n",
    "print(\"Final cost: \", LWRCost(X, Y, theta_final, W, reg_lambda))\n",
    "print(\"Final theta: \", theta_final)\n",
    "print(\"Predicted value : \", np.dot(np.transpose(input_var), theta_final))\n",
    "print(\"Original value : \", Y[-1])"
   ]
  },
  {
   "cell_type": "markdown",
   "metadata": {},
   "source": [
    "### Now taking neighbourhood of 50, or tau=50/545"
   ]
  },
  {
   "cell_type": "code",
   "execution_count": 51,
   "metadata": {},
   "outputs": [
    {
     "name": "stdout",
     "output_type": "stream",
     "text": [
      "Final cost:  [[135.97812411]]\n",
      "Final theta:  [[ 176.]\n",
      " [-192.]\n",
      " [-512.]\n",
      " [ -24.]\n",
      " [ 224.]\n",
      " [ -96.]\n",
      " [  -4.]\n",
      " [  -8.]\n",
      " [ 256.]\n",
      " [ -16.]\n",
      " [ 192.]\n",
      " [  48.]]\n",
      "Predicted value :  [13.02377364]\n",
      "Original value :  [1.38107544]\n"
     ]
    }
   ],
   "source": [
    "reg_lambda = 0.001\n",
    "tau = float(50/545)\n",
    "# Apply LWR with Normal Equation \n",
    "W = get_weights(X, input_var, tau)\n",
    "theta_final = LWR_Normal(X, W, Y, reg_lambda)\n",
    "print(\"Final cost: \", LWRCost(X, Y, theta_final, W, reg_lambda))\n",
    "print(\"Final theta: \", theta_final)\n",
    "print(\"Predicted value : \", np.dot(np.transpose(input_var), theta_final))\n",
    "print(\"Original value : \", Y[-1])"
   ]
  }
 ],
 "metadata": {
  "kernelspec": {
   "display_name": "Python 3",
   "language": "python",
   "name": "python3"
  },
  "language_info": {
   "codemirror_mode": {
    "name": "ipython",
    "version": 3
   },
   "file_extension": ".py",
   "mimetype": "text/x-python",
   "name": "python",
   "nbconvert_exporter": "python",
   "pygments_lexer": "ipython3",
   "version": "3.6.8"
  }
 },
 "nbformat": 4,
 "nbformat_minor": 2
}
