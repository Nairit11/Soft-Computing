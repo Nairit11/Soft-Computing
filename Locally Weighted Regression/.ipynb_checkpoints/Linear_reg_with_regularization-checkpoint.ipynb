{
 "cells": [
  {
   "cell_type": "markdown",
   "metadata": {},
   "source": [
    "### Import required packages and import dataset"
   ]
  },
  {
   "cell_type": "code",
   "execution_count": 39,
   "metadata": {},
   "outputs": [
    {
     "name": "stdout",
     "output_type": "stream",
     "text": [
      "(546, 13)\n"
     ]
    },
    {
     "data": {
      "text/html": [
       "<div>\n",
       "<style scoped>\n",
       "    .dataframe tbody tr th:only-of-type {\n",
       "        vertical-align: middle;\n",
       "    }\n",
       "\n",
       "    .dataframe tbody tr th {\n",
       "        vertical-align: top;\n",
       "    }\n",
       "\n",
       "    .dataframe thead th {\n",
       "        text-align: right;\n",
       "    }\n",
       "</style>\n",
       "<table border=\"1\" class=\"dataframe\">\n",
       "  <thead>\n",
       "    <tr style=\"text-align: right;\">\n",
       "      <th></th>\n",
       "      <th>Unnamed: 0</th>\n",
       "      <th>price</th>\n",
       "      <th>lotsize</th>\n",
       "      <th>bedrooms</th>\n",
       "      <th>bathrms</th>\n",
       "      <th>stories</th>\n",
       "      <th>driveway</th>\n",
       "      <th>recroom</th>\n",
       "      <th>fullbase</th>\n",
       "      <th>gashw</th>\n",
       "      <th>airco</th>\n",
       "      <th>garagepl</th>\n",
       "      <th>prefarea</th>\n",
       "    </tr>\n",
       "  </thead>\n",
       "  <tbody>\n",
       "    <tr>\n",
       "      <th>0</th>\n",
       "      <td>1</td>\n",
       "      <td>42000.0</td>\n",
       "      <td>5850</td>\n",
       "      <td>3</td>\n",
       "      <td>1</td>\n",
       "      <td>2</td>\n",
       "      <td>yes</td>\n",
       "      <td>no</td>\n",
       "      <td>yes</td>\n",
       "      <td>no</td>\n",
       "      <td>no</td>\n",
       "      <td>1</td>\n",
       "      <td>no</td>\n",
       "    </tr>\n",
       "    <tr>\n",
       "      <th>1</th>\n",
       "      <td>2</td>\n",
       "      <td>38500.0</td>\n",
       "      <td>4000</td>\n",
       "      <td>2</td>\n",
       "      <td>1</td>\n",
       "      <td>1</td>\n",
       "      <td>yes</td>\n",
       "      <td>no</td>\n",
       "      <td>no</td>\n",
       "      <td>no</td>\n",
       "      <td>no</td>\n",
       "      <td>0</td>\n",
       "      <td>no</td>\n",
       "    </tr>\n",
       "    <tr>\n",
       "      <th>2</th>\n",
       "      <td>3</td>\n",
       "      <td>49500.0</td>\n",
       "      <td>3060</td>\n",
       "      <td>3</td>\n",
       "      <td>1</td>\n",
       "      <td>1</td>\n",
       "      <td>yes</td>\n",
       "      <td>no</td>\n",
       "      <td>no</td>\n",
       "      <td>no</td>\n",
       "      <td>no</td>\n",
       "      <td>0</td>\n",
       "      <td>no</td>\n",
       "    </tr>\n",
       "    <tr>\n",
       "      <th>3</th>\n",
       "      <td>4</td>\n",
       "      <td>60500.0</td>\n",
       "      <td>6650</td>\n",
       "      <td>3</td>\n",
       "      <td>1</td>\n",
       "      <td>2</td>\n",
       "      <td>yes</td>\n",
       "      <td>yes</td>\n",
       "      <td>no</td>\n",
       "      <td>no</td>\n",
       "      <td>no</td>\n",
       "      <td>0</td>\n",
       "      <td>no</td>\n",
       "    </tr>\n",
       "    <tr>\n",
       "      <th>4</th>\n",
       "      <td>5</td>\n",
       "      <td>61000.0</td>\n",
       "      <td>6360</td>\n",
       "      <td>2</td>\n",
       "      <td>1</td>\n",
       "      <td>1</td>\n",
       "      <td>yes</td>\n",
       "      <td>no</td>\n",
       "      <td>no</td>\n",
       "      <td>no</td>\n",
       "      <td>no</td>\n",
       "      <td>0</td>\n",
       "      <td>no</td>\n",
       "    </tr>\n",
       "  </tbody>\n",
       "</table>\n",
       "</div>"
      ],
      "text/plain": [
       "   Unnamed: 0    price  lotsize  bedrooms  bathrms  stories driveway recroom  \\\n",
       "0           1  42000.0     5850         3        1        2      yes      no   \n",
       "1           2  38500.0     4000         2        1        1      yes      no   \n",
       "2           3  49500.0     3060         3        1        1      yes      no   \n",
       "3           4  60500.0     6650         3        1        2      yes     yes   \n",
       "4           5  61000.0     6360         2        1        1      yes      no   \n",
       "\n",
       "  fullbase gashw airco  garagepl prefarea  \n",
       "0      yes    no    no         1       no  \n",
       "1       no    no    no         0       no  \n",
       "2       no    no    no         0       no  \n",
       "3       no    no    no         0       no  \n",
       "4       no    no    no         0       no  "
      ]
     },
     "execution_count": 39,
     "metadata": {},
     "output_type": "execute_result"
    }
   ],
   "source": [
    "# Making necessary imports\n",
    "%matplotlib inline\n",
    "import numpy as np\n",
    "import pandas as pd\n",
    "import matplotlib.pyplot as plt\n",
    "plt.rcParams['figure.figsize'] = (20.0, 10.0)\n",
    "from mpl_toolkits.mplot3d import Axes3D\n",
    "\n",
    "# Fetching data\n",
    "data = pd.read_csv('housing.csv')\n",
    "print(data.shape)\n",
    "data.head()"
   ]
  },
  {
   "cell_type": "code",
   "execution_count": 40,
   "metadata": {},
   "outputs": [
    {
     "data": {
      "text/html": [
       "<div>\n",
       "<style scoped>\n",
       "    .dataframe tbody tr th:only-of-type {\n",
       "        vertical-align: middle;\n",
       "    }\n",
       "\n",
       "    .dataframe tbody tr th {\n",
       "        vertical-align: top;\n",
       "    }\n",
       "\n",
       "    .dataframe thead th {\n",
       "        text-align: right;\n",
       "    }\n",
       "</style>\n",
       "<table border=\"1\" class=\"dataframe\">\n",
       "  <thead>\n",
       "    <tr style=\"text-align: right;\">\n",
       "      <th></th>\n",
       "      <th>price</th>\n",
       "      <th>lotsize</th>\n",
       "      <th>bedrooms</th>\n",
       "      <th>bathrms</th>\n",
       "      <th>stories</th>\n",
       "      <th>driveway</th>\n",
       "      <th>recroom</th>\n",
       "      <th>fullbase</th>\n",
       "      <th>gashw</th>\n",
       "      <th>airco</th>\n",
       "      <th>garagepl</th>\n",
       "      <th>prefarea</th>\n",
       "    </tr>\n",
       "  </thead>\n",
       "  <tbody>\n",
       "    <tr>\n",
       "      <th>0</th>\n",
       "      <td>42000.0</td>\n",
       "      <td>5850</td>\n",
       "      <td>3</td>\n",
       "      <td>1</td>\n",
       "      <td>2</td>\n",
       "      <td>yes</td>\n",
       "      <td>no</td>\n",
       "      <td>yes</td>\n",
       "      <td>no</td>\n",
       "      <td>no</td>\n",
       "      <td>1</td>\n",
       "      <td>no</td>\n",
       "    </tr>\n",
       "    <tr>\n",
       "      <th>1</th>\n",
       "      <td>38500.0</td>\n",
       "      <td>4000</td>\n",
       "      <td>2</td>\n",
       "      <td>1</td>\n",
       "      <td>1</td>\n",
       "      <td>yes</td>\n",
       "      <td>no</td>\n",
       "      <td>no</td>\n",
       "      <td>no</td>\n",
       "      <td>no</td>\n",
       "      <td>0</td>\n",
       "      <td>no</td>\n",
       "    </tr>\n",
       "    <tr>\n",
       "      <th>2</th>\n",
       "      <td>49500.0</td>\n",
       "      <td>3060</td>\n",
       "      <td>3</td>\n",
       "      <td>1</td>\n",
       "      <td>1</td>\n",
       "      <td>yes</td>\n",
       "      <td>no</td>\n",
       "      <td>no</td>\n",
       "      <td>no</td>\n",
       "      <td>no</td>\n",
       "      <td>0</td>\n",
       "      <td>no</td>\n",
       "    </tr>\n",
       "    <tr>\n",
       "      <th>3</th>\n",
       "      <td>60500.0</td>\n",
       "      <td>6650</td>\n",
       "      <td>3</td>\n",
       "      <td>1</td>\n",
       "      <td>2</td>\n",
       "      <td>yes</td>\n",
       "      <td>yes</td>\n",
       "      <td>no</td>\n",
       "      <td>no</td>\n",
       "      <td>no</td>\n",
       "      <td>0</td>\n",
       "      <td>no</td>\n",
       "    </tr>\n",
       "    <tr>\n",
       "      <th>4</th>\n",
       "      <td>61000.0</td>\n",
       "      <td>6360</td>\n",
       "      <td>2</td>\n",
       "      <td>1</td>\n",
       "      <td>1</td>\n",
       "      <td>yes</td>\n",
       "      <td>no</td>\n",
       "      <td>no</td>\n",
       "      <td>no</td>\n",
       "      <td>no</td>\n",
       "      <td>0</td>\n",
       "      <td>no</td>\n",
       "    </tr>\n",
       "  </tbody>\n",
       "</table>\n",
       "</div>"
      ],
      "text/plain": [
       "     price  lotsize  bedrooms  bathrms  stories driveway recroom fullbase  \\\n",
       "0  42000.0     5850         3        1        2      yes      no      yes   \n",
       "1  38500.0     4000         2        1        1      yes      no       no   \n",
       "2  49500.0     3060         3        1        1      yes      no       no   \n",
       "3  60500.0     6650         3        1        2      yes     yes       no   \n",
       "4  61000.0     6360         2        1        1      yes      no       no   \n",
       "\n",
       "  gashw airco  garagepl prefarea  \n",
       "0    no    no         1       no  \n",
       "1    no    no         0       no  \n",
       "2    no    no         0       no  \n",
       "3    no    no         0       no  \n",
       "4    no    no         0       no  "
      ]
     },
     "execution_count": 40,
     "metadata": {},
     "output_type": "execute_result"
    }
   ],
   "source": [
    "# Dropping unnecessary columns\n",
    "data=data.drop(['Unnamed: 0'],axis=1)\n",
    "data.head()"
   ]
  },
  {
   "cell_type": "markdown",
   "metadata": {},
   "source": [
    "### Map categorical features to integer equivalents"
   ]
  },
  {
   "cell_type": "code",
   "execution_count": 41,
   "metadata": {},
   "outputs": [
    {
     "data": {
      "text/html": [
       "<div>\n",
       "<style scoped>\n",
       "    .dataframe tbody tr th:only-of-type {\n",
       "        vertical-align: middle;\n",
       "    }\n",
       "\n",
       "    .dataframe tbody tr th {\n",
       "        vertical-align: top;\n",
       "    }\n",
       "\n",
       "    .dataframe thead th {\n",
       "        text-align: right;\n",
       "    }\n",
       "</style>\n",
       "<table border=\"1\" class=\"dataframe\">\n",
       "  <thead>\n",
       "    <tr style=\"text-align: right;\">\n",
       "      <th></th>\n",
       "      <th>price</th>\n",
       "      <th>lotsize</th>\n",
       "      <th>bedrooms</th>\n",
       "      <th>bathrms</th>\n",
       "      <th>stories</th>\n",
       "      <th>driveway</th>\n",
       "      <th>recroom</th>\n",
       "      <th>fullbase</th>\n",
       "      <th>gashw</th>\n",
       "      <th>airco</th>\n",
       "      <th>garagepl</th>\n",
       "      <th>prefarea</th>\n",
       "    </tr>\n",
       "  </thead>\n",
       "  <tbody>\n",
       "    <tr>\n",
       "      <th>0</th>\n",
       "      <td>42000.0</td>\n",
       "      <td>5850</td>\n",
       "      <td>3</td>\n",
       "      <td>1</td>\n",
       "      <td>2</td>\n",
       "      <td>1</td>\n",
       "      <td>0</td>\n",
       "      <td>1</td>\n",
       "      <td>0</td>\n",
       "      <td>0</td>\n",
       "      <td>1</td>\n",
       "      <td>0</td>\n",
       "    </tr>\n",
       "    <tr>\n",
       "      <th>1</th>\n",
       "      <td>38500.0</td>\n",
       "      <td>4000</td>\n",
       "      <td>2</td>\n",
       "      <td>1</td>\n",
       "      <td>1</td>\n",
       "      <td>1</td>\n",
       "      <td>0</td>\n",
       "      <td>0</td>\n",
       "      <td>0</td>\n",
       "      <td>0</td>\n",
       "      <td>0</td>\n",
       "      <td>0</td>\n",
       "    </tr>\n",
       "    <tr>\n",
       "      <th>2</th>\n",
       "      <td>49500.0</td>\n",
       "      <td>3060</td>\n",
       "      <td>3</td>\n",
       "      <td>1</td>\n",
       "      <td>1</td>\n",
       "      <td>1</td>\n",
       "      <td>0</td>\n",
       "      <td>0</td>\n",
       "      <td>0</td>\n",
       "      <td>0</td>\n",
       "      <td>0</td>\n",
       "      <td>0</td>\n",
       "    </tr>\n",
       "    <tr>\n",
       "      <th>3</th>\n",
       "      <td>60500.0</td>\n",
       "      <td>6650</td>\n",
       "      <td>3</td>\n",
       "      <td>1</td>\n",
       "      <td>2</td>\n",
       "      <td>1</td>\n",
       "      <td>1</td>\n",
       "      <td>0</td>\n",
       "      <td>0</td>\n",
       "      <td>0</td>\n",
       "      <td>0</td>\n",
       "      <td>0</td>\n",
       "    </tr>\n",
       "    <tr>\n",
       "      <th>4</th>\n",
       "      <td>61000.0</td>\n",
       "      <td>6360</td>\n",
       "      <td>2</td>\n",
       "      <td>1</td>\n",
       "      <td>1</td>\n",
       "      <td>1</td>\n",
       "      <td>0</td>\n",
       "      <td>0</td>\n",
       "      <td>0</td>\n",
       "      <td>0</td>\n",
       "      <td>0</td>\n",
       "      <td>0</td>\n",
       "    </tr>\n",
       "  </tbody>\n",
       "</table>\n",
       "</div>"
      ],
      "text/plain": [
       "     price  lotsize  bedrooms  bathrms  stories  driveway  recroom  fullbase  \\\n",
       "0  42000.0     5850         3        1        2         1        0         1   \n",
       "1  38500.0     4000         2        1        1         1        0         0   \n",
       "2  49500.0     3060         3        1        1         1        0         0   \n",
       "3  60500.0     6650         3        1        2         1        1         0   \n",
       "4  61000.0     6360         2        1        1         1        0         0   \n",
       "\n",
       "   gashw  airco  garagepl  prefarea  \n",
       "0      0      0         1         0  \n",
       "1      0      0         0         0  \n",
       "2      0      0         0         0  \n",
       "3      0      0         0         0  \n",
       "4      0      0         0         0  "
      ]
     },
     "execution_count": 41,
     "metadata": {},
     "output_type": "execute_result"
    }
   ],
   "source": [
    "# Mapping Yes and No to1 and 0 respectively\n",
    "di = {'no': 0, 'yes': 1}\n",
    "data=data.replace({'driveway':di,'recroom':di,'fullbase':di,'gashw':di,'airco':di,'prefarea':di})\n",
    "data.head()"
   ]
  },
  {
   "cell_type": "markdown",
   "metadata": {},
   "source": [
    "### Mean normalize the dataset"
   ]
  },
  {
   "cell_type": "code",
   "execution_count": 42,
   "metadata": {},
   "outputs": [
    {
     "data": {
      "text/html": [
       "<div>\n",
       "<style scoped>\n",
       "    .dataframe tbody tr th:only-of-type {\n",
       "        vertical-align: middle;\n",
       "    }\n",
       "\n",
       "    .dataframe tbody tr th {\n",
       "        vertical-align: top;\n",
       "    }\n",
       "\n",
       "    .dataframe thead th {\n",
       "        text-align: right;\n",
       "    }\n",
       "</style>\n",
       "<table border=\"1\" class=\"dataframe\">\n",
       "  <thead>\n",
       "    <tr style=\"text-align: right;\">\n",
       "      <th></th>\n",
       "      <th>price</th>\n",
       "      <th>lotsize</th>\n",
       "      <th>bedrooms</th>\n",
       "      <th>bathrms</th>\n",
       "      <th>stories</th>\n",
       "      <th>driveway</th>\n",
       "      <th>recroom</th>\n",
       "      <th>fullbase</th>\n",
       "      <th>gashw</th>\n",
       "      <th>airco</th>\n",
       "      <th>garagepl</th>\n",
       "      <th>prefarea</th>\n",
       "    </tr>\n",
       "  </thead>\n",
       "  <tbody>\n",
       "    <tr>\n",
       "      <th>0</th>\n",
       "      <td>-0.978239</td>\n",
       "      <td>0.322732</td>\n",
       "      <td>0.047192</td>\n",
       "      <td>-0.568973</td>\n",
       "      <td>0.221501</td>\n",
       "      <td>0.404819</td>\n",
       "      <td>-0.464371</td>\n",
       "      <td>1.362070</td>\n",
       "      <td>-0.218853</td>\n",
       "      <td>-0.68041</td>\n",
       "      <td>0.357239</td>\n",
       "      <td>-0.552865</td>\n",
       "    </tr>\n",
       "    <tr>\n",
       "      <th>1</th>\n",
       "      <td>-1.109312</td>\n",
       "      <td>-0.530526</td>\n",
       "      <td>-1.308947</td>\n",
       "      <td>-0.568973</td>\n",
       "      <td>-0.930304</td>\n",
       "      <td>0.404819</td>\n",
       "      <td>-0.464371</td>\n",
       "      <td>-0.732832</td>\n",
       "      <td>-0.218853</td>\n",
       "      <td>-0.68041</td>\n",
       "      <td>-0.803788</td>\n",
       "      <td>-0.552865</td>\n",
       "    </tr>\n",
       "    <tr>\n",
       "      <th>2</th>\n",
       "      <td>-0.697368</td>\n",
       "      <td>-0.964074</td>\n",
       "      <td>0.047192</td>\n",
       "      <td>-0.568973</td>\n",
       "      <td>-0.930304</td>\n",
       "      <td>0.404819</td>\n",
       "      <td>-0.464371</td>\n",
       "      <td>-0.732832</td>\n",
       "      <td>-0.218853</td>\n",
       "      <td>-0.68041</td>\n",
       "      <td>-0.803788</td>\n",
       "      <td>-0.552865</td>\n",
       "    </tr>\n",
       "    <tr>\n",
       "      <th>3</th>\n",
       "      <td>-0.285425</td>\n",
       "      <td>0.691709</td>\n",
       "      <td>0.047192</td>\n",
       "      <td>-0.568973</td>\n",
       "      <td>0.221501</td>\n",
       "      <td>0.404819</td>\n",
       "      <td>2.149509</td>\n",
       "      <td>-0.732832</td>\n",
       "      <td>-0.218853</td>\n",
       "      <td>-0.68041</td>\n",
       "      <td>-0.803788</td>\n",
       "      <td>-0.552865</td>\n",
       "    </tr>\n",
       "    <tr>\n",
       "      <th>4</th>\n",
       "      <td>-0.266700</td>\n",
       "      <td>0.557955</td>\n",
       "      <td>-1.308947</td>\n",
       "      <td>-0.568973</td>\n",
       "      <td>-0.930304</td>\n",
       "      <td>0.404819</td>\n",
       "      <td>-0.464371</td>\n",
       "      <td>-0.732832</td>\n",
       "      <td>-0.218853</td>\n",
       "      <td>-0.68041</td>\n",
       "      <td>-0.803788</td>\n",
       "      <td>-0.552865</td>\n",
       "    </tr>\n",
       "  </tbody>\n",
       "</table>\n",
       "</div>"
      ],
      "text/plain": [
       "      price   lotsize  bedrooms   bathrms   stories  driveway   recroom  \\\n",
       "0 -0.978239  0.322732  0.047192 -0.568973  0.221501  0.404819 -0.464371   \n",
       "1 -1.109312 -0.530526 -1.308947 -0.568973 -0.930304  0.404819 -0.464371   \n",
       "2 -0.697368 -0.964074  0.047192 -0.568973 -0.930304  0.404819 -0.464371   \n",
       "3 -0.285425  0.691709  0.047192 -0.568973  0.221501  0.404819  2.149509   \n",
       "4 -0.266700  0.557955 -1.308947 -0.568973 -0.930304  0.404819 -0.464371   \n",
       "\n",
       "   fullbase     gashw    airco  garagepl  prefarea  \n",
       "0  1.362070 -0.218853 -0.68041  0.357239 -0.552865  \n",
       "1 -0.732832 -0.218853 -0.68041 -0.803788 -0.552865  \n",
       "2 -0.732832 -0.218853 -0.68041 -0.803788 -0.552865  \n",
       "3 -0.732832 -0.218853 -0.68041 -0.803788 -0.552865  \n",
       "4 -0.732832 -0.218853 -0.68041 -0.803788 -0.552865  "
      ]
     },
     "execution_count": 42,
     "metadata": {},
     "output_type": "execute_result"
    }
   ],
   "source": [
    "# Normalize the features using mean normalization\n",
    "data = (data - data.mean())/data.std()\n",
    "data.head()"
   ]
  },
  {
   "cell_type": "markdown",
   "metadata": {},
   "source": [
    "### Separate the features from the target variable"
   ]
  },
  {
   "cell_type": "code",
   "execution_count": 43,
   "metadata": {},
   "outputs": [
    {
     "name": "stdout",
     "output_type": "stream",
     "text": [
      "(546, 12)\n",
      "(546, 1)\n"
     ]
    }
   ],
   "source": [
    "# Separate out the Feature and Target matrices\n",
    "Y=data.iloc[:,0:1].values\n",
    "#X=data[['lotsize','bedrooms','bathrms','stories','garagepl']].iloc[:,:]\n",
    "X=data.drop([\"price\"],axis=1).iloc[:,:]\n",
    "ones = np.ones([X.shape[0],1])\n",
    "X = np.concatenate((ones,X),axis=1)\n",
    "print(X.shape)\n",
    "print(Y.shape)"
   ]
  },
  {
   "cell_type": "markdown",
   "metadata": {},
   "source": [
    "### Define the cost and gradient descent functions"
   ]
  },
  {
   "cell_type": "code",
   "execution_count": 95,
   "metadata": {
    "collapsed": true
   },
   "outputs": [],
   "source": [
    "# Cost Function\n",
    "def computeCost(X,y,theta, reg_lambda):\n",
    "    tobesummed = np.power(((X @ theta.T)-y),2)\n",
    "    return np.sum(tobesummed)/(2 * len(X))+(reg_lambda / (2 * len(X))) * np.sum(np.square(theta[1:]))\n",
    "\n",
    "# Gradient Descent\n",
    "def gradientDescent(X,y,theta,iters,alpha, reg_labmda):\n",
    "    cost = np.zeros(iters)\n",
    "    for i in range(iters):\n",
    "        reg_term = (reg_lambda) * theta\n",
    "        reg_term[0][0] = 0\n",
    "        theta = theta - (alpha/len(X)) * (np.sum(X * (X @ theta.T - y), axis=0)) + (alpha/len(X)) * reg_term\n",
    "        cost[i] = computeCost(X, y, theta, reg_lambda)    \n",
    "    return theta,cost"
   ]
  },
  {
   "cell_type": "markdown",
   "metadata": {},
   "source": [
    "### Initialize parameters and compute initial cost"
   ]
  },
  {
   "cell_type": "code",
   "execution_count": 98,
   "metadata": {},
   "outputs": [
    {
     "data": {
      "text/plain": [
       "9.112683925748456"
      ]
     },
     "execution_count": 98,
     "metadata": {},
     "output_type": "execute_result"
    }
   ],
   "source": [
    "# Set initial values for hyper-parameters\n",
    "theta = np.ones([1,X.shape[1]])\n",
    "alpha = 0.5\n",
    "iters = 1000\n",
    "reg_lambda=0.1\n",
    "# Initial Cost\n",
    "computeCost(X,Y,theta, reg_lambda)"
   ]
  },
  {
   "cell_type": "markdown",
   "metadata": {
    "collapsed": true
   },
   "source": [
    "### Apply gradient descent and print final cost and co-efficients"
   ]
  },
  {
   "cell_type": "code",
   "execution_count": 99,
   "metadata": {},
   "outputs": [
    {
     "name": "stdout",
     "output_type": "stream",
     "text": [
      "After  1000  iterations and learning rate =  0.5  we get the following Co-efficient matrix : \n",
      "[[-2.51439693e-16  2.87988985e-01  5.05590950e-02  2.69622334e-01\n",
      "   2.13225297e-01  8.72425375e-02  6.46243531e-02  9.74905271e-02\n",
      "   1.00554673e-01  2.20329740e-01  1.36920547e-01  1.48798460e-01]]\n",
      "Cost after training :  0.16313885572854372\n"
     ]
    }
   ],
   "source": [
    "print('After ',iters,' iterations and learning rate = ',alpha,' we get the following Co-efficient matrix : ')\n",
    "# Running the Gradient Descent Function\n",
    "theta_final,cost = gradientDescent(X,Y,theta,iters,alpha,reg_lambda)\n",
    "print(theta_final)\n",
    "# Calculating cost after tuning of hyper Parameters\n",
    "finalCost = computeCost(X,Y,theta_final, reg_lambda)\n",
    "print('Cost after training : ',finalCost)"
   ]
  },
  {
   "cell_type": "markdown",
   "metadata": {},
   "source": [
    "### Plot cost vs iterrations curve"
   ]
  },
  {
   "cell_type": "code",
   "execution_count": 100,
   "metadata": {},
   "outputs": [
    {
     "data": {
      "text/plain": [
       "Text(0.5,1,'Error vs. Training Epoch')"
      ]
     },
     "execution_count": 100,
     "metadata": {},
     "output_type": "execute_result"
    },
    {
     "data": {
      "image/png": "[encoded data removed]",
      "text/plain": [
       "<matplotlib.figure.Figure at 0x7f51146705f8>"
      ]
     },
     "metadata": {},
     "output_type": "display_data"
    }
   ],
   "source": [
    "# Iteration vs Error(Cost) plot\n",
    "fig, ax = plt.subplots()  \n",
    "ax.plot(np.arange(iters), cost, 'r')  \n",
    "ax.set_xlabel('Iterations')  \n",
    "ax.set_ylabel('Cost')  \n",
    "ax.set_title('Error vs. Training Epoch') "
   ]
  },
  {
   "cell_type": "markdown",
   "metadata": {},
   "source": [
    "### Apply Normal Equation"
   ]
  },
  {
   "cell_type": "code",
   "execution_count": 101,
   "metadata": {},
   "outputs": [
    {
     "name": "stdout",
     "output_type": "stream",
     "text": [
      "Co-efficient matrix after applying Normal Equation : \n",
      "[[-0.00030681  0.28787829  0.05049532  0.26952103  0.21300643  0.08708037\n",
      "   0.06450466  0.09725656  0.10021449  0.22014131  0.13678163  0.14863031]]\n",
      "Cost after applying Normal Equation :  0.16313916095747125\n"
     ]
    }
   ],
   "source": [
    "# Normal Equation\n",
    "theta_norm = np.linalg.inv(X.T.dot(X) + reg_lambda).dot(X.T).dot(Y)\n",
    "print(\"Co-efficient matrix after applying Normal Equation : \")\n",
    "print(theta_norm.T)\n",
    "\n",
    "finalCost_norm = computeCost(X,Y,theta_norm.T, reg_lambda)\n",
    "print(\"Cost after applying Normal Equation : \",finalCost_norm)"
   ]
  },
  {
   "cell_type": "code",
   "execution_count": 102,
   "metadata": {},
   "outputs": [
    {
     "name": "stdout",
     "output_type": "stream",
     "text": [
      "Difference in Final Cost for Normal Equation and Gradient Descent(learning rate= 0.5 ,iterations= 1000 ) : \n",
      "3.0522892752182784e-07\n"
     ]
    }
   ],
   "source": [
    "print(\"Difference in Final Cost for Normal Equation and Gradient Descent(learning rate=\",alpha,\",iterations=\",iters,\") : \")\n",
    "print(abs(finalCost_norm-finalCost))"
   ]
  },
  {
   "cell_type": "markdown",
   "metadata": {},
   "source": [
    "### Change lambda and alpha for better tuning"
   ]
  },
  {
   "cell_type": "code",
   "execution_count": 103,
   "metadata": {},
   "outputs": [
    {
     "name": "stdout",
     "output_type": "stream",
     "text": [
      "After  1000  iterations and learning rate =  0.1  we get the following Co-efficient matrix : \n",
      "[[-2.27087376e-16  2.92275513e-01  4.73122194e-02  2.73106430e-01\n",
      "   2.16787907e-01  8.64647601e-02  6.36225184e-02  9.96754211e-02\n",
      "   1.02622633e-01  2.22461653e-01  1.37062834e-01  1.50078633e-01]]\n",
      "Cost after training :  0.16317406975350043\n",
      "Co-efficient matrix after applying Normal Equation : \n",
      "[[-0.02742474  0.28182615  0.0420969   0.26362252  0.19673465  0.07210537\n",
      "   0.05308791  0.07844751  0.07195591  0.2053791   0.12465362  0.13490579]]\n",
      "Cost after applying Normal Equation :  0.16560467500629283\n"
     ]
    },
    {
     "data": {
      "image/png": "[encoded data removed]",
      "text/plain": [
       "<matplotlib.figure.Figure at 0x7f51141b0470>"
      ]
     },
     "metadata": {},
     "output_type": "display_data"
    }
   ],
   "source": [
    "theta = np.zeros([1,X.shape[1]])\n",
    "alpha = 0.1\n",
    "iters = 1000\n",
    "reg_lambda = 10\n",
    "\n",
    "print('After ',iters,' iterations and learning rate = ',alpha,' we get the following Co-efficient matrix : ')\n",
    "# Running the Gradient Descent Function\n",
    "theta_final,cost = gradientDescent(X,Y,theta,iters,alpha,reg_lambda)\n",
    "print(theta_final)\n",
    "# Calculating cost after tuning of hyper Parameters\n",
    "finalCost = computeCost(X,Y,theta_final, reg_lambda)\n",
    "print('Cost after training : ',finalCost)\n",
    "\n",
    "fig, ax = plt.subplots()  \n",
    "ax.plot(np.arange(iters), cost, 'r')  \n",
    "ax.set_xlabel('Iterations')  \n",
    "ax.set_ylabel('Cost')  \n",
    "ax.set_title('Error vs. Training Epoch') \n",
    "\n",
    "theta_norm = np.linalg.inv(X.T.dot(X) + reg_lambda).dot(X.T).dot(Y)\n",
    "print(\"Co-efficient matrix after applying Normal Equation : \")\n",
    "print(theta_norm.T)\n",
    "\n",
    "finalCost_norm = computeCost(X,Y,theta_norm.T, reg_lambda)\n",
    "print(\"Cost after applying Normal Equation : \",finalCost_norm)"
   ]
  },
  {
   "cell_type": "code",
   "execution_count": 104,
   "metadata": {},
   "outputs": [
    {
     "name": "stdout",
     "output_type": "stream",
     "text": [
      "After  1000  iterations and learning rate =  0.1  we get the following Co-efficient matrix : \n",
      "[[-3.02891615e-16  2.87946770e-01  5.05903389e-02  2.69587768e-01\n",
      "   2.13190537e-01  8.72497940e-02  6.46338322e-02  9.74693681e-02\n",
      "   1.00534206e-01  2.20308333e-01  1.36918852e-01  1.48785594e-01]]\n",
      "Cost after training :  0.16313885233554\n",
      "Co-efficient matrix after applying Normal Equation : \n",
      "[[-3.07182266e-08  2.87946759e-01  5.05903325e-02  2.69587758e-01\n",
      "   2.13190515e-01  8.72497778e-02  6.46338202e-02  9.74693447e-02\n",
      "   1.00534172e-01  2.20308314e-01  1.36918838e-01  1.48785577e-01]]\n",
      "Cost after applying Normal Equation :  0.1631388523355431\n"
     ]
    },
    {
     "data": {
      "image/png": "[encoded data removed]",
      "text/plain": [
       "<matplotlib.figure.Figure at 0x7f511418a6d8>"
      ]
     },
     "metadata": {},
     "output_type": "display_data"
    }
   ],
   "source": [
    "theta = np.zeros([1,X.shape[1]])\n",
    "alpha = 0.1\n",
    "iters = 1000\n",
    "reg_lambda = 0.00001\n",
    "\n",
    "print('After ',iters,' iterations and learning rate = ',alpha,' we get the following Co-efficient matrix : ')\n",
    "# Running the Gradient Descent Function\n",
    "theta_final,cost = gradientDescent(X,Y,theta,iters,alpha,reg_lambda)\n",
    "print(theta_final)\n",
    "# Calculating cost after tuning of hyper Parameters\n",
    "finalCost = computeCost(X,Y,theta_final, reg_lambda)\n",
    "print('Cost after training : ',finalCost)\n",
    "\n",
    "fig, ax = plt.subplots()  \n",
    "ax.plot(np.arange(iters), cost, 'r')  \n",
    "ax.set_xlabel('Iterations')  \n",
    "ax.set_ylabel('Cost')  \n",
    "ax.set_title('Error vs. Training Epoch') \n",
    "\n",
    "theta_norm = np.linalg.inv(X.T.dot(X) + reg_lambda).dot(X.T).dot(Y)\n",
    "print(\"Co-efficient matrix after applying Normal Equation : \")\n",
    "print(theta_norm.T)\n",
    "\n",
    "finalCost_norm = computeCost(X,Y,theta_norm.T, reg_lambda)\n",
    "print(\"Cost after applying Normal Equation : \",finalCost_norm)"
   ]
  },
  {
   "cell_type": "markdown",
   "metadata": {},
   "source": [
    "### Now training on 70% of data"
   ]
  },
  {
   "cell_type": "code",
   "execution_count": 107,
   "metadata": {
    "scrolled": true
   },
   "outputs": [
    {
     "name": "stdout",
     "output_type": "stream",
     "text": [
      "After  1000  iterations and learning rate =  0.1  we get the following Co-efficient matrix : \n",
      "[[0.10808562 0.30683741 0.05510587 0.23193297 0.19787262 0.07387831\n",
      "  0.08532251 0.10694251 0.1111721  0.19122834 0.13672893 0.35849934]]\n",
      "Cost after training :  0.16909407548278382\n",
      "Co-efficient matrix after applying Normal Equation : \n",
      "[[0.10656492 0.30669401 0.05510817 0.23203484 0.19731334 0.07367699\n",
      "  0.08504142 0.10653886 0.11067116 0.19116089 0.13660094 0.35638866]]\n",
      "Cost after applying Normal Equation :  0.1690954267457682\n"
     ]
    },
    {
     "data": {
      "image/png": "[encoded data removed]",
      "text/plain": [
       "<matplotlib.figure.Figure at 0x7f511451ab70>"
      ]
     },
     "metadata": {},
     "output_type": "display_data"
    }
   ],
   "source": [
    "X_train=X[:round(.7*len(X))]\n",
    "Y_train=Y[:round(.7*len(X))]\n",
    "theta = np.zeros([1,X_train.shape[1]])\n",
    "alpha = 0.1\n",
    "iters = 1000\n",
    "reg_lambda = 0.1\n",
    "\n",
    "print('After ',iters,' iterations and learning rate = ',alpha,' we get the following Co-efficient matrix : ')\n",
    "# Running the Gradient Descent Function\n",
    "theta_final,cost = gradientDescent(X_train,Y_train,theta,iters,alpha,reg_lambda)\n",
    "print(theta_final)\n",
    "# Calculating cost after tuning of hyper Parameters\n",
    "finalCost = computeCost(X_train,Y_train,theta_final, reg_lambda)\n",
    "print('Cost after training : ',finalCost)\n",
    "\n",
    "fig, ax = plt.subplots()  \n",
    "ax.plot(np.arange(iters), cost, 'r')  \n",
    "ax.set_xlabel('Iterations')  \n",
    "ax.set_ylabel('Cost')  \n",
    "ax.set_title('Error vs. Training Epoch') \n",
    "\n",
    "theta_norm = np.linalg.inv(X_train.T.dot(X_train) + reg_lambda).dot(X_train.T).dot(Y_train)\n",
    "print(\"Co-efficient matrix after applying Normal Equation : \")\n",
    "print(theta_norm.T)\n",
    "\n",
    "finalCost_norm = computeCost(X_train,Y_train,theta_norm.T, reg_lambda)\n",
    "print(\"Cost after applying Normal Equation : \",finalCost_norm)"
   ]
  },
  {
   "cell_type": "code",
   "execution_count": 108,
   "metadata": {},
   "outputs": [
    {
     "name": "stdout",
     "output_type": "stream",
     "text": [
      "Cost after training with Gradient descent:  0.24850868246565566\n",
      "Cost after applying Normal Equation :  0.24635836733674232\n"
     ]
    }
   ],
   "source": [
    "X_test=X[round(.7*len(X)):]\n",
    "Y_test=Y[round(.7*len(X)):]\n",
    "finalCost = computeCost(X_test,Y_test,theta_final, reg_lambda)\n",
    "print('Cost after training with Gradient descent: ',finalCost)\n",
    "\n",
    "finalCost_norm = computeCost(X_test,Y_test,theta_norm.T, reg_lambda)\n",
    "print(\"Cost after applying Normal Equation : \",finalCost_norm)"
   ]
  }
 ],
 "metadata": {
  "kernelspec": {
   "display_name": "Python 3",
   "language": "python",
   "name": "python3"
  },
  "language_info": {
   "codemirror_mode": {
    "name": "ipython",
    "version": 3
   },
   "file_extension": ".py",
   "mimetype": "text/x-python",
   "name": "python",
   "nbconvert_exporter": "python",
   "pygments_lexer": "ipython3",
   "version": "3.6.8"
  }
 },
 "nbformat": 4,
 "nbformat_minor": 2
}
