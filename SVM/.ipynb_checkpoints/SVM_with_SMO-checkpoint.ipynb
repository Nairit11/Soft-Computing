{
 "cells": [
  {
   "cell_type": "markdown",
   "metadata": {},
   "source": [
    "### Import required Libraries"
   ]
  },
  {
   "cell_type": "code",
   "execution_count": 43,
   "metadata": {
    "collapsed": true
   },
   "outputs": [],
   "source": [
    "import numpy as np\n",
    "import pandas as pd\n",
    "import matplotlib.pyplot as plt\n",
    "import random\n",
    "import time"
   ]
  },
  {
   "cell_type": "markdown",
   "metadata": {},
   "source": [
    "### Load MNIST data"
   ]
  },
  {
   "cell_type": "code",
   "execution_count": 44,
   "metadata": {},
   "outputs": [
    {
     "name": "stdout",
     "output_type": "stream",
     "text": [
      "(1797, 64)\n",
      "(1797,)\n"
     ]
    }
   ],
   "source": [
    "from sklearn.datasets import load_digits\n",
    "mnist = load_digits()\n",
    "data = mnist['data']\n",
    "target = (mnist['target']).astype(int)\n",
    "print(data.shape)\n",
    "print(target.shape)"
   ]
  },
  {
   "cell_type": "markdown",
   "metadata": {},
   "source": [
    "### Keeping only the entries with label 3 or 8 and relabel target variable to 1(for 3) and -1(for 8)"
   ]
  },
  {
   "cell_type": "code",
   "execution_count": 45,
   "metadata": {},
   "outputs": [
    {
     "name": "stdout",
     "output_type": "stream",
     "text": [
      "(357, 64)\n",
      "(357,)\n"
     ]
    }
   ],
   "source": [
    "required = []\n",
    "for i, val in enumerate(target):\n",
    "    if val == 3 or val == 8:\n",
    "        required.append(i)\n",
    "\n",
    "X = data[required]\n",
    "Y = target[required]\n",
    "\n",
    "for i in range(len(Y)):\n",
    "    if Y[i] == 3:\n",
    "        Y[i] = 1\n",
    "    else:\n",
    "        Y[i] = -1\n",
    "print(X.shape)\n",
    "print(Y.shape)"
   ]
  },
  {
   "cell_type": "markdown",
   "metadata": {},
   "source": [
    "### Split dataset into 60:20:20 ratio for training, validation and testing respectively"
   ]
  },
  {
   "cell_type": "code",
   "execution_count": 46,
   "metadata": {},
   "outputs": [
    {
     "name": "stdout",
     "output_type": "stream",
     "text": [
      "(213, 64) (213,)\n",
      "(72, 64) (72,)\n",
      "(72, 64) (72,)\n"
     ]
    }
   ],
   "source": [
    "from sklearn.model_selection import train_test_split\n",
    "\n",
    "X_train, X_test, Y_train, Y_test = train_test_split(X, Y, test_size=0.2, random_state=1)\n",
    "X_train, X_val, Y_train, Y_val = train_test_split(X_train, Y_train, test_size=0.25, random_state=1)\n",
    "\n",
    "print(X_train.shape, Y_train.shape)\n",
    "print(X_val.shape, Y_val.shape)\n",
    "print(X_test.shape, Y_test.shape)"
   ]
  },
  {
   "cell_type": "markdown",
   "metadata": {},
   "source": [
    "### Creating SVM class with utility functions like train, predict and also define various kernel functions\n",
    "### Foemulae used :\n",
    "#### f(x) =wTx+b\n",
    "#### If y(i)!=y(j),L= max(0, αj−αi),   H= min(C, C+αj−αi)\n",
    "#### If y(i)=y(j),L= max(0, αi+αj−C),   H= min(C, αi+αj)\n",
    "#### αj:=αj+(y(j)(Ei−Ej))/η\n",
    "#### Ek=f(x(k))−y(k)\n",
    "#### η=〈x(i), x(i)〉 + 〈x(j), x(j)〉-  2〈x(i), x(j)〉\n",
    "#### αj:=H if αj> H\n",
    "####         αj if L≤αj≤H\n",
    "####          L if αj< L\n",
    "#### αi:=αi+y(i)y(j)(α(old)j−αj)\n"
   ]
  },
  {
   "cell_type": "code",
   "execution_count": 66,
   "metadata": {
    "collapsed": true
   },
   "outputs": [],
   "source": [
    "class SVM():\n",
    "    def __init__(self, max_iter=10000, kernel_type='linear', C=1.0, sigma = 1,epsilon=0.001, degree=1):\n",
    "        self.kernels = {\n",
    "            'linear' : self.kernel_linear,\n",
    "            'polynomial' : self.kernel_polynomial,\n",
    "            'rbf' : self.kernel_rbf\n",
    "        }\n",
    "        self.max_iter = max_iter\n",
    "        self.kernel_type = kernel_type\n",
    "        self.C = C\n",
    "        self.sigma = sigma\n",
    "        self.epsilon = epsilon\n",
    "        self.degree = degree\n",
    "    \n",
    "    def train(self, X, y):\n",
    "        n, d = X.shape[0], X.shape[1]\n",
    "        alpha = np.zeros((n))\n",
    "        kernel = self.kernels[self.kernel_type]\n",
    "        count = 0\n",
    "        \n",
    "        while True:\n",
    "            count += 1\n",
    "            alpha_prev = np.copy(alpha)\n",
    "            \n",
    "            for j in range(0, n):                \n",
    "                i = j\n",
    "                while i == j:\n",
    "                    i = random.randint(0, n-1)\n",
    "\n",
    "                x_i, x_j, y_i, y_j = X[i,:], X[j,:], y[i], y[j]\n",
    "                \n",
    "                if self.kernel_type == 'rbf':\n",
    "                    k_ij = kernel(x_i, x_i, self.sigma) + kernel(x_j, x_j, self.sigma) - 2 * kernel(x_i, x_j, self.sigma)\n",
    "                if self.kernel_type == 'polynomial':\n",
    "                    k_ij = kernel(x_i, x_i, self.degree) + kernel(x_j, x_j, self.degree) - 2 * kernel(x_i, x_j, self.degree)\n",
    "                else:\n",
    "                    k_ij = kernel(x_i, x_i) + kernel(x_j, x_j) - 2 * kernel(x_i, x_j)\n",
    "                \n",
    "                if k_ij == 0:\n",
    "                    continue\n",
    "                    \n",
    "                alpha_prime_j, alpha_prime_i = alpha[j], alpha[i]\n",
    "                if(y_i != y_j):\n",
    "                    L = max(0, alpha_prime_j - alpha_prime_i)\n",
    "                    H = min(self.C, self.C - alpha_prime_i + alpha_prime_j)\n",
    "                else:\n",
    "                    L = max(0, alpha_prime_i + alpha_prime_j - self.C)\n",
    "                    H = min(self.C, alpha_prime_i + alpha_prime_j)\n",
    "\n",
    "                self.w = np.dot(X.T, np.multiply(alpha,y))\n",
    "                self.b = np.mean(y - np.dot(self.w.T, X.T))\n",
    "\n",
    "                E_i = np.sign(np.dot(self.w.T, x_i.T) + self.b).astype(int) - y_i\n",
    "                E_j = np.sign(np.dot(self.w.T, x_j.T) + self.b).astype(int) - y_j\n",
    "\n",
    "                alpha[j] = alpha_prime_j + float(y_j * (E_i - E_j))/k_ij\n",
    "                alpha[j] = max(alpha[j], L)\n",
    "                alpha[j] = min(alpha[j], H)\n",
    "\n",
    "                alpha[i] = alpha_prime_i + y_i*y_j * (alpha_prime_j - alpha[j])\n",
    "\n",
    "            diff = np.linalg.norm(alpha - alpha_prev)\n",
    "            if diff < self.epsilon:\n",
    "                break\n",
    "\n",
    "            if count >= self.max_iter:\n",
    "                print(\"Iteration number exceeded the max of %d iterations\" % (self.max_iter))\n",
    "                return\n",
    "        \n",
    "        self.b = np.mean(y - np.dot(self.w.T, X.T))\n",
    "        if self.kernel_type == 'linear':\n",
    "            self.w = np.dot(X.T, np.multiply(alpha,y))\n",
    "\n",
    "        alpha_idx = np.where(alpha > 0)[0]\n",
    "        support_vectors = X[alpha_idx, :]\n",
    "        return support_vectors, count\n",
    "    \n",
    "    def predict(self, X):\n",
    "        return np.sign(np.dot(self.w.T, X.T) + self.b).astype(int)\n",
    "    \n",
    "    def kernel_linear(self, x1, x2):\n",
    "        return np.dot(x1, x2.T)\n",
    "    \n",
    "    def kernel_polynomial(self, x1, x2, d):\n",
    "        return (np.dot(x1, x2.T) ** d)\n",
    "    \n",
    "    def kernel_rbf(self, x, y, sigma=1):\n",
    "        if np.ndim(x) == 1 and np.ndim(y) == 1:\n",
    "            result = np.exp(- (np.linalg.norm(x - y, 2)) ** 2 / (2 * sigma ** 2))\n",
    "        elif (np.ndim(x) > 1 and np.ndim(y) == 1) or (np.ndim(x) == 1 and np.ndim(y) > 1):\n",
    "            result = np.exp(- (np.linalg.norm(x - y, 2, axis=1) ** 2) / (2 * sigma ** 2))\n",
    "        elif np.ndim(x) > 1 and np.ndim(y) > 1:\n",
    "            result = np.exp(- (np.linalg.norm(x[:, np.newaxis] - y[np.newaxis, :], 2, axis=2) ** 2) / (2 * sigma ** 2))\n",
    "        return result\n"
   ]
  },
  {
   "cell_type": "markdown",
   "metadata": {},
   "source": [
    "### Function to calculate different metrics of Confusion matrix"
   ]
  },
  {
   "cell_type": "code",
   "execution_count": 65,
   "metadata": {
    "collapsed": true
   },
   "outputs": [],
   "source": [
    "def metrics(labels, predictions):\n",
    "    TP, TN, FP, FN = 0, 0, 0, 0\n",
    "    for i in range(len(labels)):\n",
    "        TP += int(labels[i] == 1 and predictions[i] == 1)\n",
    "        TN += int(labels[i] == -1 and predictions[i] == -1)\n",
    "        FP += int(labels[i] == -1 and predictions[i] == 1)\n",
    "        FN += int(labels[i] == 1 and predictions[i] == -1)\n",
    "    return TP, FP, TN, FN"
   ]
  },
  {
   "cell_type": "markdown",
   "metadata": {},
   "source": [
    "### Function to train, cross validate and test the model"
   ]
  },
  {
   "cell_type": "code",
   "execution_count": 59,
   "metadata": {
    "collapsed": true
   },
   "outputs": [],
   "source": [
    "def train_and_predict(C=1.0,kernel='linear',sigma=1,test_type='cv',degree=1):\n",
    "    model = SVM(C=C,kernel_type=kernel,sigma=sigma)\n",
    "    support_vectors, iterations = model.train(X_train, Y_train)\n",
    "    sv_count = support_vectors.shape[0]\n",
    "    \n",
    "    X = X_val if test_type == 'cv' else X_test\n",
    "    Y = Y_val if test_type == 'cv' else Y_test\n",
    "    \n",
    "    Y_pred = model.predict(X)\n",
    "    TP, FP, TN, FN = metrics(Y, Y_pred)\n",
    "\n",
    "    if TP+FP!=0:\n",
    "        precision = TP / (TP + FP)\n",
    "    else:\n",
    "        precidion = np.nan\n",
    "    if TP+FN!=0:\n",
    "        recall = TP / (TP + FN)\n",
    "    else:\n",
    "        recall = np.nan\n",
    "    if precision+recall!=0 or precision+recall!=np.nan:\n",
    "        Fscore = 2 * precision * recall / (precision + recall)\n",
    "    else:\n",
    "        Fscore = np.nan\n",
    "    accuracy = (TP + TN) / (TP + TN + FP + FN)\n",
    "\n",
    "    print(\"Support vector count: %d\" % (sv_count))\n",
    "    print(\"Converged after %d iterations\" % (iterations))\n",
    "    print(\"Precision: \", precision)\n",
    "    print(\"Recall: \", recall)\n",
    "    print(\"F-score: \", Fscore)\n",
    "    print(\"Accuracy: \", accuracy)\n",
    "    return Y, Y_pred"
   ]
  },
  {
   "cell_type": "markdown",
   "metadata": {},
   "source": [
    "### Function to plot ROC"
   ]
  },
  {
   "cell_type": "code",
   "execution_count": 60,
   "metadata": {
    "collapsed": true
   },
   "outputs": [],
   "source": [
    "def plot_roc(y,y_pred):\n",
    "    import sklearn.metrics as metrics\n",
    "    fpr, tpr, threshold = metrics.roc_curve(y, y_pred)\n",
    "    roc_auc = metrics.auc(fpr, tpr)\n",
    "    print('AUC: ', roc_auc)\n",
    "\n",
    "    plt.title('Receiver Operating Characteristic')\n",
    "    plt.plot(fpr, tpr, 'b', label = 'AUC = %0.2f' % roc_auc)\n",
    "    plt.legend(loc = 'lower right')\n",
    "    plt.plot([0, 1], [0, 1],'r--')\n",
    "    plt.xlim([0, 1])\n",
    "    plt.ylim([0, 1])\n",
    "    plt.ylabel('True Positive Rate')\n",
    "    plt.xlabel('False Positive Rate')\n",
    "    plt.show()"
   ]
  },
  {
   "cell_type": "markdown",
   "metadata": {},
   "source": [
    "### Model Training and Evaluation using Linear Kernel"
   ]
  },
  {
   "cell_type": "code",
   "execution_count": 62,
   "metadata": {},
   "outputs": [
    {
     "name": "stdout",
     "output_type": "stream",
     "text": [
      "Support vector count: 24\n",
      "Converged after 4 iterations\n",
      "Precision:  0.9722222222222222\n",
      "Recall:  1.0\n",
      "F-score:  0.9859154929577464\n",
      "Accuracy:  0.9861111111111112\n",
      "-----------------------\n",
      "CONFUSION MATRIX : \n",
      "-----------------------\n",
      "Predicted  -1   1  All\n",
      "Actual                \n",
      "-1         36   1   37\n",
      "1           0  35   35\n",
      "All        36  36   72\n",
      "-----------------------\n",
      "ROC Curve : \n",
      "AUC:  0.9864864864864865\n"
     ]
    },
    {
     "data": {
      "image/png": "[encoded data removed]",
      "text/plain": [
       "<matplotlib.figure.Figure at 0x7f0701517780>"
      ]
     },
     "metadata": {},
     "output_type": "display_data"
    }
   ],
   "source": [
    "Y, Y_pred = train_and_predict(kernel='linear',C=1.0,test_type='cv')\n",
    "df_confusion = pd.crosstab(Y, Y_pred, rownames=['Actual'], colnames=['Predicted'], margins=True)\n",
    "print(\"-----------------------\")\n",
    "print(\"CONFUSION MATRIX : \")\n",
    "print(\"-----------------------\")\n",
    "print(df_confusion)\n",
    "print(\"-----------------------\")\n",
    "print(\"ROC Curve : \")\n",
    "plot_roc(Y,Y_pred)\n"
   ]
  },
  {
   "cell_type": "markdown",
   "metadata": {},
   "source": [
    "### Model Training and Evaluation using Polynomial Kernel with degree 2"
   ]
  },
  {
   "cell_type": "code",
   "execution_count": 64,
   "metadata": {},
   "outputs": [
    {
     "name": "stdout",
     "output_type": "stream",
     "text": [
      "Support vector count: 16\n",
      "Converged after 3 iterations\n",
      "Precision:  0.9444444444444444\n",
      "Recall:  0.9714285714285714\n",
      "F-score:  0.9577464788732395\n",
      "Accuracy:  0.9583333333333334\n",
      "-----------------------\n",
      "CONFUSION MATRIX : \n",
      "-----------------------\n",
      "Predicted  -1   1  All\n",
      "Actual                \n",
      "-1         35   2   37\n",
      "1           1  34   35\n",
      "All        36  36   72\n",
      "-----------------------\n",
      "ROC Curve : \n",
      "AUC:  0.9586872586872587\n"
     ]
    },
    {
     "data": {
      "image/png": "[encoded data removed]",
      "text/plain": [
       "<matplotlib.figure.Figure at 0x7f07014639e8>"
      ]
     },
     "metadata": {},
     "output_type": "display_data"
    }
   ],
   "source": [
    "Y, Y_pred = train_and_predict(kernel='polynomial',C=1.0,test_type='cv',degree=2)\n",
    "df_confusion = pd.crosstab(Y, Y_pred, rownames=['Actual'], colnames=['Predicted'], margins=True)\n",
    "print(\"-----------------------\")\n",
    "print(\"CONFUSION MATRIX : \")\n",
    "print(\"-----------------------\")\n",
    "print(df_confusion)\n",
    "print(\"-----------------------\")\n",
    "print(\"ROC Curve : \")\n",
    "plot_roc(Y,Y_pred)"
   ]
  },
  {
   "cell_type": "markdown",
   "metadata": {},
   "source": [
    "### Model Training and Evaluation using Polynomial Kernel with degree 3"
   ]
  },
  {
   "cell_type": "code",
   "execution_count": 16,
   "metadata": {},
   "outputs": [
    {
     "name": "stdout",
     "output_type": "stream",
     "text": [
      "Support vector count: 23\n",
      "Converged after 3 iterations\n",
      "Precision:  0.9722222222222222\n",
      "Recall:  1.0\n",
      "F-score:  0.9859154929577464\n",
      "Accuracy:  0.9861111111111112\n",
      "-----------------------\n",
      "CONFUSION MATRIX : \n",
      "-----------------------\n",
      "Predicted  -1   1  All\n",
      "Actual                \n",
      "-1         36   1   37\n",
      "1           0  35   35\n",
      "All        36  36   72\n",
      "-----------------------\n",
      "ROC Curve : \n",
      "AUC:  0.9864864864864865\n"
     ]
    },
    {
     "data": {
      "image/png": "[encoded data removed]",
      "text/plain": [
       "<matplotlib.figure.Figure at 0x7f07038b8cc0>"
      ]
     },
     "metadata": {},
     "output_type": "display_data"
    }
   ],
   "source": [
    "Y, Y_pred = train_and_predict(kernel='polynomial',C=1.0,test_type='cv',degree=3)\n",
    "df_confusion = pd.crosstab(Y, Y_pred, rownames=['Actual'], colnames=['Predicted'], margins=True)\n",
    "print(\"-----------------------\")\n",
    "print(\"CONFUSION MATRIX : \")\n",
    "print(\"-----------------------\")\n",
    "print(df_confusion)\n",
    "print(\"-----------------------\")\n",
    "print(\"ROC Curve : \")\n",
    "plot_roc(Y,Y_pred)"
   ]
  },
  {
   "cell_type": "markdown",
   "metadata": {},
   "source": [
    "### Model Training and Evaluation using RBF Kernel"
   ]
  },
  {
   "cell_type": "code",
   "execution_count": 17,
   "metadata": {},
   "outputs": [
    {
     "name": "stdout",
     "output_type": "stream",
     "text": [
      "Support vector count: 18\n",
      "Converged after 4 iterations\n",
      "Precision:  1.0\n",
      "Recall:  0.9714285714285714\n",
      "F-score:  0.9855072463768115\n",
      "Accuracy:  0.9861111111111112\n",
      "-----------------------\n",
      "CONFUSION MATRIX : \n",
      "-----------------------\n",
      "Predicted  -1   1  All\n",
      "Actual                \n",
      "-1         37   0   37\n",
      "1           1  34   35\n",
      "All        38  34   72\n",
      "-----------------------\n",
      "ROC Curve : \n",
      "AUC:  0.9857142857142858\n"
     ]
    },
    {
     "data": {
      "image/png": "[encoded data removed]",
      "text/plain": [
       "<matplotlib.figure.Figure at 0x7f070388d3c8>"
      ]
     },
     "metadata": {},
     "output_type": "display_data"
    }
   ],
   "source": [
    "Y, Y_pred = train_and_predict(kernel='rbf',C=1.0,sigma=1,test_type='cv')\n",
    "df_confusion = pd.crosstab(Y, Y_pred, rownames=['Actual'], colnames=['Predicted'], margins=True)\n",
    "print(\"-----------------------\")\n",
    "print(\"CONFUSION MATRIX : \")\n",
    "print(\"-----------------------\")\n",
    "print(df_confusion)\n",
    "print(\"-----------------------\")\n",
    "print(\"ROC Curve : \")\n",
    "plot_roc(Y,Y_pred)"
   ]
  },
  {
   "cell_type": "markdown",
   "metadata": {
    "collapsed": true
   },
   "source": [
    "### Using 28 * 28 images with PCA"
   ]
  },
  {
   "cell_type": "code",
   "execution_count": 20,
   "metadata": {
    "collapsed": true
   },
   "outputs": [],
   "source": [
    "import pandas as pd\n",
    "from sklearn.decomposition import PCA\n",
    "\n",
    "data=pd.read_csv(\"mnist_data.csv\")\n",
    "\n",
    "not_required=data[(data['label']!=3) & (data['label']!=8)]\n",
    "data=data.drop(not_required.index, axis=0)\n",
    "\n",
    "labels=np.array(data['label'])\n",
    "data=data.drop(['label'], axis=1)\n",
    "\n",
    "data = data / 255\n",
    "pca = PCA(n_components=50)\n",
    "principalComponents = pca.fit_transform(data)\n",
    "new_data = pd.DataFrame(data = principalComponents)\n",
    "\n",
    "for i in range(len(labels)):\n",
    "    if labels[i]==3:\n",
    "        labels[i]=1\n",
    "    else:\n",
    "        labels[i]=-1\n",
    "n=len(data)\n",
    "X_train=np.array(new_data[:int(0.6*n)])\n",
    "Y_train=np.array(labels[:int(0.6*n)])\n",
    "X_val=np.array(new_data[int(0.6*n):int(0.8*n)])\n",
    "Y_val=np.array(labels[int(0.6*n):int(0.8*n)])\n",
    "X_test=np.array(new_data[int(0.8*n):])\n",
    "Y_test=np.array(labels[int(0.8*n):])"
   ]
  },
  {
   "cell_type": "markdown",
   "metadata": {},
   "source": [
    "### Using Linear Kernel"
   ]
  },
  {
   "cell_type": "code",
   "execution_count": 21,
   "metadata": {},
   "outputs": [
    {
     "name": "stdout",
     "output_type": "stream",
     "text": [
      "Support vector count: 3395\n",
      "Converged after 55 iterations\n",
      "Precision:  0.9688622754491018\n",
      "Recall:  0.9630952380952381\n",
      "F-score:  0.9659701492537314\n",
      "Accuracy:  0.966131907308378\n",
      "-----------------------\n",
      "CONFUSION MATRIX : \n",
      "-----------------------\n",
      "Predicted   -1    1   All\n",
      "Actual                   \n",
      "-1         817   26   843\n",
      "1           31  809   840\n",
      "All        848  835  1683\n",
      "-----------------------\n",
      "ROC Curve : \n",
      "AUC:  0.966126503982376\n"
     ]
    },
    {
     "data": {
      "image/png": "[encoded data removed]",
      "text/plain": [
       "<matplotlib.figure.Figure at 0x7f07038e7828>"
      ]
     },
     "metadata": {},
     "output_type": "display_data"
    }
   ],
   "source": [
    "Y, Y_pred = train_and_predict(kernel='linear',C=1.0,test_type='cv')\n",
    "df_confusion = pd.crosstab(Y, Y_pred, rownames=['Actual'], colnames=['Predicted'], margins=True)\n",
    "print(\"-----------------------\")\n",
    "print(\"CONFUSION MATRIX : \")\n",
    "print(\"-----------------------\")\n",
    "print(df_confusion)\n",
    "print(\"-----------------------\")\n",
    "print(\"ROC Curve : \")\n",
    "plot_roc(Y,Y_pred)"
   ]
  },
  {
   "cell_type": "markdown",
   "metadata": {},
   "source": [
    "### Using Polynomial Kernel"
   ]
  },
  {
   "cell_type": "code",
   "execution_count": 23,
   "metadata": {},
   "outputs": [
    {
     "name": "stdout",
     "output_type": "stream",
     "text": [
      "Support vector count: 3422\n",
      "Converged after 57 iterations\n",
      "Precision:  0.9676646706586827\n",
      "Recall:  0.9619047619047619\n",
      "F-score:  0.9647761194029851\n",
      "Accuracy:  0.9649435531788473\n",
      "-----------------------\n",
      "CONFUSION MATRIX : \n",
      "-----------------------\n",
      "Predicted   -1    1   All\n",
      "Actual                   \n",
      "-1         816   27   843\n",
      "1           32  808   840\n",
      "All        848  835  1683\n",
      "-----------------------\n",
      "ROC Curve : \n",
      "AUC:  0.9649381460769362\n"
     ]
    },
    {
     "data": {
      "image/png": "[encoded data removed]",
      "text/plain": [
       "<matplotlib.figure.Figure at 0x7f070382c9b0>"
      ]
     },
     "metadata": {},
     "output_type": "display_data"
    }
   ],
   "source": [
    "Y, Y_pred = train_and_predict(kernel='polynomial',C=1.0,test_type='cv',degree=2)\n",
    "df_confusion = pd.crosstab(Y, Y_pred, rownames=['Actual'], colnames=['Predicted'], margins=True)\n",
    "print(\"-----------------------\")\n",
    "print(\"CONFUSION MATRIX : \")\n",
    "print(\"-----------------------\")\n",
    "print(df_confusion)\n",
    "print(\"-----------------------\")\n",
    "print(\"ROC Curve : \")\n",
    "plot_roc(Y,Y_pred)"
   ]
  },
  {
   "cell_type": "markdown",
   "metadata": {},
   "source": [
    "### Using RBF Kernel"
   ]
  },
  {
   "cell_type": "code",
   "execution_count": 22,
   "metadata": {},
   "outputs": [
    {
     "name": "stdout",
     "output_type": "stream",
     "text": [
      "Support vector count: 704\n",
      "Converged after 9 iterations\n",
      "Precision:  0.951073985680191\n",
      "Recall:  0.9488095238095238\n",
      "F-score:  0.9499404052443384\n",
      "Accuracy:  0.9500891265597148\n",
      "-----------------------\n",
      "CONFUSION MATRIX : \n",
      "-----------------------\n",
      "Predicted   -1    1   All\n",
      "Actual                   \n",
      "-1         802   41   843\n",
      "1           43  797   840\n",
      "All        845  838  1683\n",
      "-----------------------\n",
      "ROC Curve : \n",
      "AUC:  0.9500868496864938\n"
     ]
    },
    {
     "data": {
      "image/png": "[encoded data removed]",
      "text/plain": [
       "<matplotlib.figure.Figure at 0x7f0703afc710>"
      ]
     },
     "metadata": {},
     "output_type": "display_data"
    }
   ],
   "source": [
    "Y, Y_pred = train_and_predict(kernel='rbf',C=1.0,sigma=1,test_type='cv')\n",
    "df_confusion = pd.crosstab(Y, Y_pred, rownames=['Actual'], colnames=['Predicted'], margins=True)\n",
    "print(\"-----------------------\")\n",
    "print(\"CONFUSION MATRIX : \")\n",
    "print(\"-----------------------\")\n",
    "print(df_confusion)\n",
    "print(\"-----------------------\")\n",
    "print(\"ROC Curve : \")\n",
    "plot_roc(Y,Y_pred)"
   ]
  }
 ],
 "metadata": {
  "kernelspec": {
   "display_name": "Python 3",
   "language": "python",
   "name": "python3"
  },
  "language_info": {
   "codemirror_mode": {
    "name": "ipython",
    "version": 3
   },
   "file_extension": ".py",
   "mimetype": "text/x-python",
   "name": "python",
   "nbconvert_exporter": "python",
   "pygments_lexer": "ipython3",
   "version": "3.6.8"
  }
 },
 "nbformat": 4,
 "nbformat_minor": 2
}
