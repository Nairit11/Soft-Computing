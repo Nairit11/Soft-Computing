{
 "cells": [
  {
   "cell_type": "code",
   "execution_count": 15,
   "metadata": {
    "collapsed": true
   },
   "outputs": [],
   "source": [
    "import numpy as np"
   ]
  },
  {
   "cell_type": "code",
   "execution_count": 16,
   "metadata": {
    "collapsed": true
   },
   "outputs": [],
   "source": [
    "def selectJrandomly(i,m):\n",
    "    j=i\n",
    "    while (j==i):\n",
    "        j = int(random.uniform(0,m))\n",
    "    return j"
   ]
  },
  {
   "cell_type": "code",
   "execution_count": 17,
   "metadata": {
    "collapsed": true
   },
   "outputs": [],
   "source": [
    "def clipAlphaJ(aj,H,L):\n",
    "    if aj > H:\n",
    "        aj = H\n",
    "    if L > aj:\n",
    "        aj = L\n",
    "    return aj"
   ]
  },
  {
   "cell_type": "code",
   "execution_count": 18,
   "metadata": {
    "collapsed": true
   },
   "outputs": [],
   "source": [
    "def computeW(alphas, dataX, classY):\n",
    "    X = mat(dataX)\n",
    "    Y = mat(classY).T\n",
    "    m,n = shape(X)\n",
    "    w = zeros((n,1))\n",
    "    for i in range(m):\n",
    "        w += multiply(alphas[i]*Y[i],X[i,:].T)\n",
    "    return w"
   ]
  },
  {
   "cell_type": "code",
   "execution_count": 19,
   "metadata": {
    "collapsed": true
   },
   "outputs": [],
   "source": [
    "def predictedClass(point, w, b):\n",
    "    p = mat(point)\n",
    "    f = p*w + b\n",
    "    if f > 0:\n",
    "        print(point,\" is belong to Class 1\")\n",
    "    else:\n",
    "        print(point,\" is belong to Class -1\")"
   ]
  },
  {
   "cell_type": "code",
   "execution_count": 34,
   "metadata": {
    "collapsed": true
   },
   "outputs": [],
   "source": [
    "def simplifiedSMO(dataX, classY, C, tol, max_passes):\n",
    "    X = np.array(dataX)\n",
    "    Y = np.array(classY).T\n",
    "    m,n = X.shape\n",
    "    # Initialize b: threshold for solution\n",
    "    b = 0     \n",
    "    # Initialize alphas: lagrange multipliers for solution\n",
    "    alphas = np.array(np.zeros((m,1)))\n",
    "    passes = 0\n",
    "    \n",
    "    while (passes < max_passes):\n",
    "        num_changed_alphas = 0\n",
    "        \n",
    "        for i in range(m):\n",
    "            # Calculate Ei = f(xi) - yi\n",
    "            fXi = float(np.dot(np.multiply(alphas,Y).T,(np.dot(X,X[i,:].T)))) + b\n",
    "            Ei = fXi - float(Y[i])\n",
    "            \n",
    "            if ((Y[i]*Ei < -tol) and (alphas[i] < C)) or ((Y[i]*Ei > tol) and (alphas[i] > 0)):\n",
    "                # select j # i randomly\n",
    "                j = selectJrandom(i,m)\n",
    "                # Calculate Ej = f(xj) - yj\n",
    "                fXj = float(multiply(alphas,Y).T*(X*X[j,:].T)) + b\n",
    "                Ej = fXj - float(Y[j])\n",
    "                # save old alphas's\n",
    "                alphaIold = alphas[i].copy();\n",
    "                alphaJold = alphas[j].copy();\n",
    "                # compute L and H\n",
    "                if (Y[i] != Y[j]):\n",
    "                    L = max(0, alphas[j] - alphas[i])\n",
    "                    H = min(C, C + alphas[j] - alphas[i])\n",
    "                else:\n",
    "                    L = max(0, alphas[j] + alphas[i] - C)\n",
    "                    H = min(C, alphas[j] + alphas[i])\n",
    "                # if L = H the continue to next i\n",
    "                if L==H:\n",
    "                    continue\n",
    "                # compute eta\n",
    "                eta = 2.0 * X[i,:]*X[j,:].T - X[i,:]*X[i,:].T - X[j,:]*X[j,:].T\n",
    "                # if eta >= 0 then continue to next i\n",
    "                if eta >= 0:\n",
    "                    continue\n",
    "                # compute new value for alphas j\n",
    "                alphas[j] -= Y[j]*(Ei - Ej)/eta\n",
    "                # clip new value for alphas j\n",
    "                alphas[j] = clipAlphasJ(alphas[j],H,L)\n",
    "                # if |alphasj - alphasold| < 0.00001 then continue to next i\n",
    "                if (abs(alphas[j] - alphaJold) < 0.00001):\n",
    "                    continue\n",
    "                # determine value for alphas i\n",
    "                alphas[i] += Y[j]*Y[i]*(alphaJold - alphas[j])\n",
    "                # compute b1 and b2\n",
    "                b1 = b - Ei- Y[i]*(alphas[i]-alphaIold)*X[i,:]*X[i,:].T - Y[j]*(alphas[j]-alphaJold)*X[i,:]*X[j,:].T\n",
    "                b2 = b - Ej- Y[i]*(alphas[i]-alphaIold)*X[i,:]*X[j,:].T - Y[j]*(alphas[j]-alphaJold)*X[j,:]*X[j,:].T\n",
    "                # compute b\n",
    "                if (0 < alphas[i]) and (C > alphas[i]):\n",
    "                    b = b1\n",
    "                elif (0 < alphas[j]) and (C > alphas[j]):\n",
    "                    b = b2\n",
    "                else:\n",
    "                    b = (b1 + b2)/2.0                      \n",
    "                num_changed_alphas += 1\n",
    "                \n",
    "            if (num_changed_alphas == 0): \n",
    "                passes += 1\n",
    "            else: \n",
    "                passes = 0\n",
    "                \n",
    "    return b,alphas"
   ]
  },
  {
   "cell_type": "code",
   "execution_count": 26,
   "metadata": {
    "collapsed": true
   },
   "outputs": [],
   "source": [
    "def plotLinearClassifier(point, w, alphas, b, dataX, labelY):\n",
    "      \n",
    "    shape(alphas[alphas>0])\n",
    "\n",
    "    Y = np.array(labelY)\n",
    "    X = np.array(dataX)\n",
    "    svmMat = []\n",
    "    alphaMat = []\n",
    "    for i in range(10):\n",
    "        alphaMat.append(alphas[i])\n",
    "        if alphas[i]>0.0:\n",
    "            svmMat.append(X[i])\n",
    "\n",
    "    svmPoints = np.array(svmMat)\n",
    "    alphasArr = np.array(alphaMat)\n",
    "\n",
    "    numofSVMs = shape(svmPoints)[0]\n",
    "    print(\"Number of SVM points: %d\" % numofSVMs)\n",
    "\n",
    "    xSVM = []; ySVM = []\n",
    "    for i in range(numofSVMs):\n",
    "        xSVM.append(svmPoints[i,0])\n",
    "        ySVM.append(svmPoints[i,1])    \n",
    "\n",
    "    n = shape(X)[0]    \n",
    "    xcord1 = []; ycord1 = []\n",
    "    xcord2 = []; ycord2 = []\n",
    "\n",
    "    for i in range(n):\n",
    "        if int(labelY[i])== 1:\n",
    "            xcord1.append(X[i,0])\n",
    "            ycord1.append(X[i,1])                  \n",
    "        else:\n",
    "            xcord2.append(X[i,0])\n",
    "            ycord2.append(X[i,1])                  \n",
    "\n",
    "    fig = plt.figure()\n",
    "    ax = fig.add_subplot(111)\n",
    "    ax.scatter(xcord1, ycord1, s=30, c='red', marker='s')\n",
    "    for j in range(0,len(xcord1)):\n",
    "        for l in range(numofSVMs):\n",
    "            if (xcord1[j]== xSVM[l]) and (ycord1[j]== ySVM[l]):\n",
    "                ax.annotate(\"SVM\", (xcord1[j],ycord1[j]), (xcord1[j]+1,ycord1[j]+2),arrowprops=dict(facecolor='black', shrink=0.005))\n",
    "\n",
    "    ax.scatter(xcord2, ycord2, s=30, c='green')\n",
    "    for k in range(0,len(xcord2)):\n",
    "        for l in range(numofSVMs):\n",
    "            if (xcord2[k]== xSVM[l]) and (ycord2[k]== ySVM[l]):\n",
    "                ax.annotate(\"SVM\", (xcord2[k],ycord2[k]),(xcord2[k]-1,ycord2[k]+1),arrowprops=dict(facecolor='black', shrink=0.005))\n",
    "\n",
    "    red_patch = mpatches.Patch(color='red', label='Class 1')\n",
    "    green_patch = mpatches.Patch(color='green', label='Class -1')\n",
    "    plt.legend(handles=[red_patch,green_patch])\n",
    "\n",
    "    x = []\n",
    "    y = []\n",
    "    for xfit in np.linspace(-3.0, 3.0):\n",
    "        x.append(xfit)\n",
    "        y.append(float((-w[0]/w[1])*xfit - b[0,0])/w[1])\n",
    "\n",
    "    ax.plot(x,y)\n",
    "\n",
    "    predictedClass(point,w,b)\n",
    "    p = mat(point)\n",
    "    ax.scatter(p[0,0], p[0,1], s=30, c='black', marker='s')\n",
    "    circle1=plt.Circle((p[0,0],p[0,1]),0.6, color='b', fill=False)\n",
    "    plt.gcf().gca().add_artist(circle1)\n",
    "\n",
    "    plt.show()"
   ]
  },
  {
   "cell_type": "code",
   "execution_count": 22,
   "metadata": {
    "collapsed": true
   },
   "outputs": [],
   "source": [
    "def loadDataSet(fileName):\n",
    "    dataX = []\n",
    "    labelY = []\n",
    "    fr = open(fileName)\n",
    "    for r in fr.readlines():\n",
    "        record = r.strip().split()\n",
    "        dataX.append([float(record[0]), float(record[1])])\n",
    "        labelY.append(float(record[2]))\n",
    "    return dataX, labelY"
   ]
  },
  {
   "cell_type": "code",
   "execution_count": 23,
   "metadata": {
    "collapsed": true
   },
   "outputs": [],
   "source": [
    "import pandas as pd\n",
    "data=pd.read_csv(\"mnist_data.csv\")\n",
    "data.head()\n",
    "not_required=data[(data['label']!=3) & (data['label']!=8)]\n",
    "data=data.drop(not_required.index, axis=0)\n",
    "data.head()\n",
    "labels=data['label']\n",
    "data=data.drop(['label'], axis=1)\n",
    "labels.head()\n",
    "n=len(data)\n",
    "X_train=data[:int(0.6*n)]\n",
    "Y_train=labels[:int(0.6*n)]\n",
    "X_val=data[int(0.6*n):int(0.8*n)]\n",
    "Y_val=labels[int(0.6*n):int(0.8*n)]\n",
    "X_test=data[int(0.8*n):]\n",
    "Y_test=labels[int(0.8*n):]"
   ]
  },
  {
   "cell_type": "code",
   "execution_count": 35,
   "metadata": {},
   "outputs": [
    {
     "ename": "TypeError",
     "evalue": "only size-1 arrays can be converted to Python scalars",
     "output_type": "error",
     "traceback": [
      "\u001b[0;31m---------------------------------------------------------------------------\u001b[0m",
      "\u001b[0;31mTypeError\u001b[0m                                 Traceback (most recent call last)",
      "\u001b[0;32m<ipython-input-35-0874adfd7e4c>\u001b[0m in \u001b[0;36m<module>\u001b[0;34m()\u001b[0m\n\u001b[1;32m      1\u001b[0m \u001b[0;31m#X,Y = loadDataSet('myData.txt')\u001b[0m\u001b[0;34m\u001b[0m\u001b[0;34m\u001b[0m\u001b[0;34m\u001b[0m\u001b[0m\n\u001b[0;32m----> 2\u001b[0;31m \u001b[0mb\u001b[0m\u001b[0;34m,\u001b[0m\u001b[0malphas\u001b[0m \u001b[0;34m=\u001b[0m \u001b[0msimplifiedSMO\u001b[0m\u001b[0;34m(\u001b[0m\u001b[0mX_train\u001b[0m\u001b[0;34m,\u001b[0m \u001b[0mY_train\u001b[0m\u001b[0;34m,\u001b[0m \u001b[0;36m0.6\u001b[0m\u001b[0;34m,\u001b[0m \u001b[0;36m0.001\u001b[0m\u001b[0;34m,\u001b[0m \u001b[0;36m40\u001b[0m\u001b[0;34m)\u001b[0m\u001b[0;34m\u001b[0m\u001b[0;34m\u001b[0m\u001b[0m\n\u001b[0m\u001b[1;32m      3\u001b[0m \u001b[0mw\u001b[0m \u001b[0;34m=\u001b[0m \u001b[0mcomputeW\u001b[0m\u001b[0;34m(\u001b[0m\u001b[0malphas\u001b[0m\u001b[0;34m,\u001b[0m\u001b[0mX_train\u001b[0m\u001b[0;34m,\u001b[0m\u001b[0mY_train\u001b[0m\u001b[0;34m)\u001b[0m\u001b[0;34m\u001b[0m\u001b[0;34m\u001b[0m\u001b[0m\n\u001b[1;32m      4\u001b[0m \u001b[0;31m# test with the data point (3, 4)\u001b[0m\u001b[0;34m\u001b[0m\u001b[0;34m\u001b[0m\u001b[0;34m\u001b[0m\u001b[0m\n\u001b[1;32m      5\u001b[0m \u001b[0mplotLinearClassifier\u001b[0m\u001b[0;34m(\u001b[0m\u001b[0;34m[\u001b[0m\u001b[0;36m3\u001b[0m\u001b[0;34m,\u001b[0m\u001b[0;36m4\u001b[0m\u001b[0;34m]\u001b[0m\u001b[0;34m,\u001b[0m \u001b[0mw\u001b[0m\u001b[0;34m,\u001b[0m \u001b[0malphas\u001b[0m\u001b[0;34m,\u001b[0m \u001b[0mb\u001b[0m\u001b[0;34m,\u001b[0m \u001b[0mX\u001b[0m\u001b[0;34m,\u001b[0m \u001b[0mY\u001b[0m\u001b[0;34m)\u001b[0m\u001b[0;34m\u001b[0m\u001b[0;34m\u001b[0m\u001b[0m\n",
      "\u001b[0;32m<ipython-input-34-bee6e79dfc83>\u001b[0m in \u001b[0;36msimplifiedSMO\u001b[0;34m(dataX, classY, C, tol, max_passes)\u001b[0m\n\u001b[1;32m     14\u001b[0m         \u001b[0;32mfor\u001b[0m \u001b[0mi\u001b[0m \u001b[0;32min\u001b[0m \u001b[0mrange\u001b[0m\u001b[0;34m(\u001b[0m\u001b[0mm\u001b[0m\u001b[0;34m)\u001b[0m\u001b[0;34m:\u001b[0m\u001b[0;34m\u001b[0m\u001b[0;34m\u001b[0m\u001b[0m\n\u001b[1;32m     15\u001b[0m             \u001b[0;31m# Calculate Ei = f(xi) - yi\u001b[0m\u001b[0;34m\u001b[0m\u001b[0;34m\u001b[0m\u001b[0;34m\u001b[0m\u001b[0m\n\u001b[0;32m---> 16\u001b[0;31m             \u001b[0mfXi\u001b[0m \u001b[0;34m=\u001b[0m \u001b[0mfloat\u001b[0m\u001b[0;34m(\u001b[0m\u001b[0mnp\u001b[0m\u001b[0;34m.\u001b[0m\u001b[0mdot\u001b[0m\u001b[0;34m(\u001b[0m\u001b[0mnp\u001b[0m\u001b[0;34m.\u001b[0m\u001b[0mmultiply\u001b[0m\u001b[0;34m(\u001b[0m\u001b[0malphas\u001b[0m\u001b[0;34m,\u001b[0m\u001b[0mY\u001b[0m\u001b[0;34m)\u001b[0m\u001b[0;34m.\u001b[0m\u001b[0mT\u001b[0m\u001b[0;34m,\u001b[0m\u001b[0;34m(\u001b[0m\u001b[0mnp\u001b[0m\u001b[0;34m.\u001b[0m\u001b[0mdot\u001b[0m\u001b[0;34m(\u001b[0m\u001b[0mX\u001b[0m\u001b[0;34m,\u001b[0m\u001b[0mX\u001b[0m\u001b[0;34m[\u001b[0m\u001b[0mi\u001b[0m\u001b[0;34m,\u001b[0m\u001b[0;34m:\u001b[0m\u001b[0;34m]\u001b[0m\u001b[0;34m.\u001b[0m\u001b[0mT\u001b[0m\u001b[0;34m)\u001b[0m\u001b[0;34m)\u001b[0m\u001b[0;34m)\u001b[0m\u001b[0;34m)\u001b[0m \u001b[0;34m+\u001b[0m \u001b[0mb\u001b[0m\u001b[0;34m\u001b[0m\u001b[0;34m\u001b[0m\u001b[0m\n\u001b[0m\u001b[1;32m     17\u001b[0m             \u001b[0mEi\u001b[0m \u001b[0;34m=\u001b[0m \u001b[0mfXi\u001b[0m \u001b[0;34m-\u001b[0m \u001b[0mfloat\u001b[0m\u001b[0;34m(\u001b[0m\u001b[0mY\u001b[0m\u001b[0;34m[\u001b[0m\u001b[0mi\u001b[0m\u001b[0;34m]\u001b[0m\u001b[0;34m)\u001b[0m\u001b[0;34m\u001b[0m\u001b[0;34m\u001b[0m\u001b[0m\n\u001b[1;32m     18\u001b[0m \u001b[0;34m\u001b[0m\u001b[0m\n",
      "\u001b[0;31mTypeError\u001b[0m: only size-1 arrays can be converted to Python scalars"
     ]
    }
   ],
   "source": [
    "#X,Y = loadDataSet('myData.txt')\n",
    "b,alphas = simplifiedSMO(X_train, Y_train, 0.6, 0.001, 40)\n",
    "w = computeW(alphas,X_train,Y_train)\n",
    "# test with the data point (3, 4)\n",
    "plotLinearClassifier([3,4], w, alphas, b, X, Y)"
   ]
  },
  {
   "cell_type": "code",
   "execution_count": null,
   "metadata": {
    "collapsed": true
   },
   "outputs": [],
   "source": []
  }
 ],
 "metadata": {
  "kernelspec": {
   "display_name": "Python 3",
   "language": "python",
   "name": "python3"
  },
  "language_info": {
   "codemirror_mode": {
    "name": "ipython",
    "version": 3
   },
   "file_extension": ".py",
   "mimetype": "text/x-python",
   "name": "python",
   "nbconvert_exporter": "python",
   "pygments_lexer": "ipython3",
   "version": "3.6.8"
  }
 },
 "nbformat": 4,
 "nbformat_minor": 2
}
