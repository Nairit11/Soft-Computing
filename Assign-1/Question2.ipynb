{
 "cells": [
  {
   "cell_type": "code",
   "execution_count": 1,
   "metadata": {
    "colab": {},
    "colab_type": "code",
    "collapsed": true,
    "id": "6Mvf5zRtrghV"
   },
   "outputs": [],
   "source": [
    "from numpy import*\n",
    "from scipy.interpolate import*\n",
    "from matplotlib.pyplot import*\n",
    "%matplotlib inline\n",
    "import matplotlib.pyplot as plt"
   ]
  },
  {
   "cell_type": "code",
   "execution_count": 2,
   "metadata": {
    "colab": {},
    "colab_type": "code",
    "collapsed": true,
    "id": "KqVH0RierqN6"
   },
   "outputs": [],
   "source": [
    "x = array([75, 80, 93, 65, 87, 71, 98, 68, 84, 77])\n",
    "y = array([82, 78, 86, 72, 91, 80, 95, 72, 89, 74])\n",
    "tran = x.size"
   ]
  },
  {
   "cell_type": "code",
   "execution_count": 3,
   "metadata": {
    "colab": {
     "base_uri": "https://localhost:8080/",
     "height": 265
    },
    "colab_type": "code",
    "id": "2yvmvPJGsFdt",
    "outputId": "3d4e33a1-1530-4984-a287-0376a6bced6b"
   },
   "outputs": [
    {
     "data": {
      "image/png": "[encoded data removed]",
      "text/plain": [
       "<matplotlib.figure.Figure at 0x7f39549f9828>"
      ]
     },
     "metadata": {},
     "output_type": "display_data"
    }
   ],
   "source": [
    "a = 0\n",
    "b = 0\n",
    "c = 0\n",
    "d = 0\n",
    "for i in range(tran):\n",
    "  a += x[i]\n",
    "  b += y[i]\n",
    "  c += x[i]*x[i]\n",
    "  d += x[i]*y[i]\n",
    "w1 = ((a*b) - (d*tran))/((a*a)-(tran*c)) \n",
    "w0 = (b - (w1*a))/tran\n",
    "p1 = array([w0, w1])\n",
    "plt.plot(x, w0+(w1*x), 'r-')\n",
    "plt.plot(x, y, 'o')\n",
    "plt.show()\n"
   ]
  },
  {
   "cell_type": "code",
   "execution_count": 7,
   "metadata": {},
   "outputs": [
    {
     "name": "stdout",
     "output_type": "stream",
     "text": [
      "29.129032258064523\n",
      "0.6612903225806451\n"
     ]
    }
   ],
   "source": [
    "print(w0)\n",
    "print(w1)"
   ]
  },
  {
   "cell_type": "code",
   "execution_count": 12,
   "metadata": {
    "colab": {
     "base_uri": "https://localhost:8080/",
     "height": 265
    },
    "colab_type": "code",
    "id": "aOVFIDUisIdW",
    "outputId": "ef3d94cd-99ae-4dfe-f3f6-7067bde68eb6"
   },
   "outputs": [
    {
     "data": {
      "image/png": "[encoded data removed]",
      "text/plain": [
       "<matplotlib.figure.Figure at 0x7f394cd8ae48>"
      ]
     },
     "metadata": {},
     "output_type": "display_data"
    }
   ],
   "source": [
    "a = 0\n",
    "b = 0\n",
    "c = 0\n",
    "d = 0\n",
    "for i in range(tran):\n",
    "  a += y[i]\n",
    "  b += x[i]\n",
    "  c += y[i]*y[i]\n",
    "  d += y[i]*x[i]\n",
    "w3 = ((a*b) - (d*tran))/((a*a)-(tran*c)) \n",
    "w2 = (b - (w3*a))/tran\n",
    "p2 = array([w2, w3])\n",
    "plt.plot(y, w2+(w3*y), 'g-')\n",
    "plt.plot(y, x, 'o')\n",
    "plt.show()\n"
   ]
  },
  {
   "cell_type": "code",
   "execution_count": 11,
   "metadata": {},
   "outputs": [
    {
     "name": "stdout",
     "output_type": "stream",
     "text": [
      "-14.393888796126225\n",
      "1.1501085323092335\n"
     ]
    }
   ],
   "source": [
    "print(w2)\n",
    "print(w3)"
   ]
  },
  {
   "cell_type": "code",
   "execution_count": 15,
   "metadata": {
    "colab": {
     "base_uri": "https://localhost:8080/",
     "height": 265
    },
    "colab_type": "code",
    "id": "mlAMNwlCtKaX",
    "outputId": "194d5bbc-395f-4088-877c-316451ffd777"
   },
   "outputs": [
    {
     "data": {
      "image/png": "[encoded data removed]",
      "text/plain": [
       "<matplotlib.figure.Figure at 0x7f394ce895f8>"
      ]
     },
     "metadata": {},
     "output_type": "display_data"
    }
   ],
   "source": [
    "\n",
    "plt.plot(x, y, 'ro')\n",
    "\n",
    "plt.plot(x, w0+(w1*x), 'r')\n",
    "plt.plot( w2+(w3*y),y, 'g-')\n",
    "plt.show()"
   ]
  },
  {
   "cell_type": "code",
   "execution_count": 6,
   "metadata": {
    "colab": {
     "base_uri": "https://localhost:8080/",
     "height": 34
    },
    "colab_type": "code",
    "id": "K2oHfWGTvOTx",
    "outputId": "c6b3715a-28f3-4794-ce25-93debb95c4f0"
   },
   "outputs": [
    {
     "data": {
      "text/plain": [
       "79.38709677419355"
      ]
     },
     "execution_count": 6,
     "metadata": {},
     "output_type": "execute_result"
    }
   ],
   "source": [
    "#marks in HUR given marks in soc\n",
    "w0 + (w1*76)"
   ]
  },
  {
   "cell_type": "code",
   "execution_count": 0,
   "metadata": {
    "colab": {
     "base_uri": "https://localhost:8080/",
     "height": 34
    },
    "colab_type": "code",
    "id": "rpPMrzcJ6w6M",
    "outputId": "9c21505d-21fd-4b92-b21f-dc88334b0b09"
   },
   "outputs": [
    {
     "data": {
      "text/plain": [
       "94.86642177325096"
      ]
     },
     "execution_count": 120,
     "metadata": {
      "tags": []
     },
     "output_type": "execute_result"
    }
   ],
   "source": [
    "#marks in SOC given marks in HUR\n",
    "w2 + (w3*95)"
   ]
  }
 ],
 "metadata": {
  "colab": {
   "collapsed_sections": [],
   "name": "Question2.ipynb",
   "provenance": [],
   "version": "0.3.2"
  },
  "kernelspec": {
   "display_name": "Python 3",
   "language": "python",
   "name": "python3"
  },
  "language_info": {
   "codemirror_mode": {
    "name": "ipython",
    "version": 3
   },
   "file_extension": ".py",
   "mimetype": "text/x-python",
   "name": "python",
   "nbconvert_exporter": "python",
   "pygments_lexer": "ipython3",
   "version": "3.6.8"
  }
 },
 "nbformat": 4,
 "nbformat_minor": 1
}
