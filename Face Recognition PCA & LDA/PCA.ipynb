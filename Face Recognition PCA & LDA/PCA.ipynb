{
 "cells": [
  {
   "cell_type": "markdown",
   "metadata": {},
   "source": [
    "### Convert raw images to Grayscale and of similar shapes"
   ]
  },
  {
   "cell_type": "code",
   "execution_count": 1,
   "metadata": {
    "collapsed": true
   },
   "outputs": [],
   "source": [
    "import cv2\n",
    "import os\n",
    "import numpy as np\n",
    "\n",
    "TRAIN_DIR = 'data_set/train_data'\n",
    "TEST_DIR = 'data_set/test_data'\n",
    "\n",
    "train_dir = 'Generated/train_set'\n",
    "test_dir = 'Generated/test_set'\n",
    "\n",
    "def create_dataset(fileList, gen_dir, dir_name):\n",
    "\n",
    "    for i, file in enumerate(fileList):\n",
    "        oldfile = file.split('.')[0]\n",
    "        file = os.path.join(dir_name, file)\n",
    "        img = cv2.imread(file)\n",
    "        resized_img = cv2.resize(img, (312,416))\n",
    "        resized_img = cv2.cvtColor( resized_img, cv2.COLOR_RGB2GRAY )\n",
    "        cv2.imwrite(gen_dir + '/'+ oldfile + '_resized_bw.jpg',resized_img)\n",
    "        \n",
    "def create():\n",
    "\n",
    "    fileList = sorted(os.listdir(TRAIN_DIR))\n",
    "    create_dataset(fileList, train_dir, TRAIN_DIR)\n",
    "    fileList = sorted(os.listdir(TEST_DIR))\n",
    "    create_dataset(fileList, test_dir, TEST_DIR)\n",
    "\n",
    "def read_data(fileList, dir_name):\n",
    "    \n",
    "    x = []\n",
    "    y = []\n",
    "    for i, file in enumerate(fileList):\n",
    "        oldfile = file\n",
    "        file = os.path.join(dir_name, file)\n",
    "        img = cv2.imread(file)\n",
    "        data_reshaped = img.flatten()\n",
    "        y.append(int(oldfile[0]))\n",
    "        x.append(data_reshaped)\n",
    "    y = np.asarray(y)\n",
    "    y = y.reshape(-1, 1)\n",
    "    x = np.asarray(x)\n",
    "    x = x.transpose()\n",
    "    return x, y\n",
    "\n",
    "def load_data():\n",
    "\n",
    "    fileList = sorted(os.listdir(train_dir))\n",
    "    trainx, trainy = read_data(fileList, train_dir)\n",
    "\n",
    "    fileList = sorted(os.listdir(test_dir))\n",
    "    testx, testy = read_data(fileList, test_dir)\n",
    "\n",
    "    return trainx, trainy, testx, testy\n",
    "\n",
    "#create()"
   ]
  },
  {
   "cell_type": "markdown",
   "metadata": {},
   "source": [
    "### Functions for computing accuracy and predicting classes of unseen images"
   ]
  },
  {
   "cell_type": "code",
   "execution_count": 2,
   "metadata": {
    "collapsed": true
   },
   "outputs": [],
   "source": [
    "imposter = False\n",
    "\n",
    "def accuracy(prediction, testy):\n",
    "    cnt = 0\n",
    "    for x, y in zip(prediction, testy):\n",
    "        print(x, \"\\t\", y)\n",
    "        if x == y:\n",
    "            cnt += 1\n",
    "    print(\"Accuracy = \", (cnt/testy.shape[0])*100)\n",
    "\n",
    "def test(mean, test_x, test_y, eigen_face, signature_face):\n",
    "    a, b = test_x.shape\n",
    "    prediction = []\n",
    "\n",
    "    for test_image in test_x.T:\n",
    "\n",
    "        test_image = test_image.reshape(a,1) - mean\n",
    "        final_eigenface = eigen_face.dot(test_image)\n",
    "        min_dist = np.linalg.norm(signature_face.T[0].reshape(final_eigenface.shape) - final_eigenface)\n",
    "        index = 0\n",
    "        count = 0\n",
    "\n",
    "        for col in signature_face.T:\n",
    "            v = col.reshape(final_eigenface.shape)\n",
    "            dist = np.linalg.norm(v - final_eigenface)\n",
    "            if dist < min_dist:\n",
    "                min_dist = dist\n",
    "                index = count\n",
    "            count += 1\n",
    "\n",
    "        print(min_dist)\n",
    "        prediction.append(index//4)\n",
    "\n",
    "    accuracy(prediction, test_y)"
   ]
  },
  {
   "cell_type": "markdown",
   "metadata": {},
   "source": [
    "### Compute Covariance Matrix, eigen-faces and weighted sum representation of the training samples"
   ]
  },
  {
   "cell_type": "code",
   "execution_count": 3,
   "metadata": {},
   "outputs": [
    {
     "name": "stdout",
     "output_type": "stream",
     "text": [
      "580828914.2992924\n",
      "568514421.401925\n",
      "827463494.554465\n",
      "1.944244674479972e-06\n",
      "200309410.414488\n",
      "556845842.2375823\n",
      "143350457.38307872\n",
      "211587722.7636912\n",
      "538177708.9129602\n",
      "495122589.4533047\n",
      "5 \t [0]\n",
      "5 \t [1]\n",
      "2 \t [2]\n",
      "3 \t [3]\n",
      "4 \t [4]\n",
      "5 \t [5]\n",
      "6 \t [6]\n",
      "7 \t [7]\n",
      "8 \t [8]\n",
      "0 \t [9]\n",
      "Accuracy =  70.0\n"
     ]
    }
   ],
   "source": [
    "train_x, train_y, test_x, test_y = load_data()\n",
    "rows, cols = train_x.shape\n",
    "mean = train_x.mean(axis = 1)\n",
    "mean = mean.reshape(rows, 1)\n",
    "normalized_train_x = train_x-mean\n",
    "\n",
    "k = 10\n",
    "cov_matrix = np.cov(normalized_train_x.T)\n",
    "eigenval, eigenvec = np.linalg.eig(cov_matrix)\n",
    "ind = eigenval.argsort()[::-1]   \n",
    "eigenval = eigenval[ind]\n",
    "eigenvec = eigenvec[:,ind]\n",
    "\n",
    "sigma = eigenvec[0:k, :]\n",
    "sigma = sigma.T\n",
    "eigen_faces = np.dot(sigma.T , normalized_train_x.T)\n",
    "signature_faces = eigen_faces.dot(normalized_train_x)\n",
    "test(mean, test_x, test_y, eigen_faces, signature_faces)"
   ]
  }
 ],
 "metadata": {
  "kernelspec": {
   "display_name": "Python 3",
   "language": "python",
   "name": "python3"
  },
  "language_info": {
   "codemirror_mode": {
    "name": "ipython",
    "version": 3
   },
   "file_extension": ".py",
   "mimetype": "text/x-python",
   "name": "python",
   "nbconvert_exporter": "python",
   "pygments_lexer": "ipython3",
   "version": "3.6.8"
  }
 },
 "nbformat": 4,
 "nbformat_minor": 2
}
