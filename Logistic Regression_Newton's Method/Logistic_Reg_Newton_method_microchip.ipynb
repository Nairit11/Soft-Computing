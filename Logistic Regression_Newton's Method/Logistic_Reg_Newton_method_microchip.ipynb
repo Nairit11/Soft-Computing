{
 "cells": [
  {
   "cell_type": "markdown",
   "metadata": {},
   "source": [
    "### Make necessary Imports"
   ]
  },
  {
   "cell_type": "code",
   "execution_count": 309,
   "metadata": {
    "collapsed": true
   },
   "outputs": [],
   "source": [
    "import docx\n",
    "import numpy as np\n",
    "%matplotlib inline\n",
    "import matplotlib.pyplot as plt\n",
    "import random"
   ]
  },
  {
   "cell_type": "markdown",
   "metadata": {},
   "source": [
    "### Read given doc file into an Numpy array"
   ]
  },
  {
   "cell_type": "code",
   "execution_count": 310,
   "metadata": {
    "collapsed": true
   },
   "outputs": [],
   "source": [
    "doc = docx.Document(\"Microchip_quality.docx\")\n",
    "data = []\n",
    "for para in doc.paragraphs:\n",
    "    tmp = para.text.split(\",\")\n",
    "    data.append(tmp)\n",
    "data = data[1: len(data) - 1]\n",
    "\n",
    "for i in range(len(data)) :\n",
    "    for j in range(len(data[0])) :\n",
    "        data[i][j] = float(data[i][j])\n",
    "data = np.array(data)\n"
   ]
  },
  {
   "cell_type": "markdown",
   "metadata": {},
   "source": [
    "### Add the bias feature and mean normalize the data. Also shuffle the data for randon distribution of classes. "
   ]
  },
  {
   "cell_type": "code",
   "execution_count": 311,
   "metadata": {
    "collapsed": true
   },
   "outputs": [],
   "source": [
    "X = data[ : , : -1]\n",
    "# Add bias feature\n",
    "bias = np.ones((X.shape[0], 1))\n",
    "X = np.hstack((bias, X))\n",
    "\n",
    "# Mean Normalization\n",
    "mean = np.mean(X, axis=0)\n",
    "s_dev = np.std(X, axis=0)\n",
    "for i in range(1, X.shape[1]) :\n",
    "    for j in range(X.shape[0]) :\n",
    "        X[j][i] = X[j][i] - mean[i]\n",
    "        X[j][i] = X[j][i] / s_dev[i]\n",
    "    \n",
    "Y = data[ : , -1]\n",
    "from sklearn.utils import shuffle\n",
    "X, Y = shuffle(X, Y)"
   ]
  },
  {
   "cell_type": "markdown",
   "metadata": {},
   "source": [
    "### Split entire dataset in 70:30 ratio for training and testing purposes respectively"
   ]
  },
  {
   "cell_type": "code",
   "execution_count": 312,
   "metadata": {
    "collapsed": true
   },
   "outputs": [],
   "source": [
    "# Split into training and testing data\n",
    "sz = int((X.shape[0] * 7) / 10)\n",
    "\n",
    "X_train, X_test, Y_train, Y_test = X[:sz], X[sz:], Y[:sz], Y[sz:]"
   ]
  },
  {
   "cell_type": "code",
   "execution_count": 313,
   "metadata": {},
   "outputs": [
    {
     "name": "stdout",
     "output_type": "stream",
     "text": [
      "(82, 3)\n",
      "(36,)\n"
     ]
    }
   ],
   "source": [
    "print(X_train.shape)\n",
    "print(Y_test.shape)"
   ]
  },
  {
   "cell_type": "markdown",
   "metadata": {},
   "source": [
    "### Initialize hyperparameters. Also change the same to further tune the results."
   ]
  },
  {
   "cell_type": "code",
   "execution_count": 314,
   "metadata": {
    "collapsed": true
   },
   "outputs": [],
   "source": [
    "# Initialize parameters\n",
    "lambda_reg = 0.1\n",
    "theta =  np.random.uniform(-1, 1, X.shape[1])\n",
    "iters = 500"
   ]
  },
  {
   "cell_type": "markdown",
   "metadata": {},
   "source": [
    "### Define sigmoid, cost and Newton/Delta learning functions. Regularization is used."
   ]
  },
  {
   "cell_type": "code",
   "execution_count": 315,
   "metadata": {
    "collapsed": true
   },
   "outputs": [],
   "source": [
    "# Sigmoid Function\n",
    "def sigmoid(x) :\n",
    "    return 1.0 / (1.0 + np.exp(-x))\n",
    "\n",
    "# Cost Function\n",
    "def cost_function(X, Y, theta, lambda_reg) :\n",
    "    tmp = np.dot(np.transpose(Y), np.log(sigmoid(np.dot(X, theta)))) + np.dot(np.transpose(1.0 - Y), np.log(1.0 - sigmoid(np.dot(X, theta))))\n",
    "    return (-1.0 / X.shape[0]) * (tmp) + (lambda_reg / (2.0 * X.shape[0])) * (sum(np.square(theta[:])))\n",
    "\n",
    "# Newton method \n",
    "def newton_method(X, y,theta, lambda_reg, max_iters ) :\n",
    "    costs = [cost_function(X, y, theta, lambda_reg)]\n",
    "    iters=1\n",
    "    while (iters<max_iters):\n",
    "        S = np.zeros((X.shape[0], X.shape[0]))\n",
    "        for i in range(X.shape[0]) :\n",
    "            S[i][i] = sigmoid(np.dot(X[i], theta)) * (1 - sigmoid(np.dot(X[i], theta)))\n",
    "\n",
    "        reg_term = np.zeros((X.shape[1], X.shape[1]))\n",
    "        for i in range(1, X.shape[1]) :\n",
    "            reg_term[i][i] = lambda_reg        \n",
    "        second_derivative = np.dot(np.dot(np.transpose(X), S), X) + reg_term\n",
    "        \n",
    "        reg_term = np.zeros(theta.shape)\n",
    "        reg_term[1 : ] = (lambda_reg / X.shape[0]) * theta[1 : ]\n",
    "        first_derivative = (1 / X.shape[0]) * np.dot(np.transpose(X), (sigmoid(np.dot(X, theta)) - y))+reg_term\n",
    "        \n",
    "        theta = theta - np.dot(np.linalg.inv(second_derivative), first_derivative)\n",
    "        \n",
    "        new_cost = cost_function(X, y, theta, lambda_reg)\n",
    "        costs.append(new_cost)\n",
    "        iters+=1\n",
    "    \n",
    "    return theta, costs, iters"
   ]
  },
  {
   "cell_type": "markdown",
   "metadata": {},
   "source": [
    "### Applying Newton's method and print final cost and co-efficients"
   ]
  },
  {
   "cell_type": "code",
   "execution_count": 316,
   "metadata": {},
   "outputs": [
    {
     "name": "stdout",
     "output_type": "stream",
     "text": [
      "Final error :  0.6806066284336476\n",
      "Final values of co-efficients are :  [-0.16522306 -0.26187431 -0.01112865]\n"
     ]
    },
    {
     "data": {
      "text/plain": [
       "[<matplotlib.lines.Line2D at 0x7f89371f06d8>]"
      ]
     },
     "execution_count": 316,
     "metadata": {},
     "output_type": "execute_result"
    },
    {
     "data": {
      "image/png": "[encoded data removed]",
      "text/plain": [
       "<matplotlib.figure.Figure at 0x7f8937346cf8>"
      ]
     },
     "metadata": {},
     "output_type": "display_data"
    }
   ],
   "source": [
    "# Apply Newton's method on Training data\n",
    "theta_final, costs, iters = newton_method(X_train, Y_train, theta, lambda_reg, iters)\n",
    "\n",
    "print('Final error : ', cost_function(X_train, Y_train, theta_final, lambda_reg))\n",
    "print('Final values of co-efficients are : ', theta_final)\n",
    "\n",
    "plt.plot(np.arange(iters), costs)"
   ]
  },
  {
   "cell_type": "markdown",
   "metadata": {},
   "source": [
    "### A scatter plot of testing data"
   ]
  },
  {
   "cell_type": "code",
   "execution_count": 317,
   "metadata": {},
   "outputs": [
    {
     "data": {
      "text/plain": [
       "[<matplotlib.lines.Line2D at 0x7f8937216470>]"
      ]
     },
     "execution_count": 317,
     "metadata": {},
     "output_type": "execute_result"
    },
    {
     "data": {
      "image/png": "[encoded data removed]",
      "text/plain": [
       "<matplotlib.figure.Figure at 0x7f89373571d0>"
      ]
     },
     "metadata": {},
     "output_type": "display_data"
    }
   ],
   "source": [
    "# Scatter plot of testing data\n",
    "X1_positive = []\n",
    "X1_negative = []\n",
    "X2_positive = []\n",
    "X2_negative = []\n",
    "for i in range(X_test.shape[0]):\n",
    "    if(Y_test[i] == 1.0):\n",
    "        X1_positive.append(X_test[i][1])\n",
    "        X2_positive.append(X_test[i][2])\n",
    "    else :\n",
    "        X1_negative.append(X_test[i][1])\n",
    "        X2_negative.append(X_test[i][2])\n",
    "\n",
    "plt.plot(X1_positive, X2_positive, 'ro')\n",
    "plt.plot(X1_negative, X2_negative, 'go')"
   ]
  },
  {
   "cell_type": "markdown",
   "metadata": {},
   "source": [
    "### Prediction are made for testing data. Scatter plot of predicted data is made and accuracy is evaluated."
   ]
  },
  {
   "cell_type": "code",
   "execution_count": 318,
   "metadata": {},
   "outputs": [
    {
     "name": "stdout",
     "output_type": "stream",
     "text": [
      "Accuracy for Test data :  36.11111111111111\n"
     ]
    }
   ],
   "source": [
    "# Evaluate Accuracy\n",
    "H_predict = sigmoid(np.dot(X_test, theta_final))\n",
    "Y_predict=[]\n",
    "for i in range(len(X_test)) :\n",
    "    if(H_predict[i] > 0.5) :\n",
    "        Y_predict.append(1)\n",
    "    elif(H_predict[i] < 0.5) :\n",
    "        Y_predict.append(0)\n",
    "\n",
    "print('Accuracy for Test data : ', np.sum(Y_test==Y_predict)/Y_test.shape[0] * 100)"
   ]
  },
  {
   "cell_type": "markdown",
   "metadata": {},
   "source": [
    "### Plotting decision boundary taking both features one at a time"
   ]
  },
  {
   "cell_type": "code",
   "execution_count": 319,
   "metadata": {},
   "outputs": [
    {
     "data": {
      "text/plain": [
       "[<matplotlib.lines.Line2D at 0x7f89370f5fd0>]"
      ]
     },
     "execution_count": 319,
     "metadata": {},
     "output_type": "execute_result"
    },
    {
     "data": {
      "image/png": "[encoded data removed]",
      "text/plain": [
       "<matplotlib.figure.Figure at 0x7f8937162d68>"
      ]
     },
     "metadata": {},
     "output_type": "display_data"
    }
   ],
   "source": [
    "plt.subplot(1,2,1)\n",
    "X1 = X_test[: , 1]\n",
    "Y1 = -1.0 * ((theta_final[0] + theta_final[1] * X1) / (theta_final[2]))\n",
    "plt.plot(X1_positive, X2_positive, 'ro')\n",
    "plt.plot(X1_negative, X2_negative, 'go')\n",
    "plt.plot(X1, Y1, 'b')\n",
    "\n",
    "plt.subplot(1,2,2)\n",
    "X2 = X_test[: , 2]\n",
    "Y2 = -1.0 * ((theta_final[0] + theta_final[2] * X2) / (theta_final[1]))\n",
    "plt.plot(X2_positive, X1_positive, 'ro')\n",
    "plt.plot(X2_negative, X1_negative, 'go')\n",
    "plt.plot(X2, Y2, 'b')"
   ]
  },
  {
   "cell_type": "markdown",
   "metadata": {},
   "source": [
    "### We add new features, namely X1^2, X2^2, X1^3 and X2^3 as we observe the previous model was underfitting the data"
   ]
  },
  {
   "cell_type": "code",
   "execution_count": 320,
   "metadata": {},
   "outputs": [
    {
     "name": "stdout",
     "output_type": "stream",
     "text": [
      "Final cost :  0.4993461074617872\n",
      "Final values of co-efficients are :  [-0.02272692 -0.88678597 -0.47770449 -1.47250695 -1.5499411   0.97223947\n",
      "  1.52790875]\n"
     ]
    },
    {
     "data": {
      "text/plain": [
       "[<matplotlib.lines.Line2D at 0x7f8937076668>]"
      ]
     },
     "execution_count": 320,
     "metadata": {},
     "output_type": "execute_result"
    },
    {
     "data": {
      "image/png": "[encoded data removed]",
      "text/plain": [
       "<matplotlib.figure.Figure at 0x7f89370a3a20>"
      ]
     },
     "metadata": {},
     "output_type": "display_data"
    }
   ],
   "source": [
    "X = data[ : , : -1]\n",
    "# Add complex features to reduce Under-Fit\n",
    "X1_2=np.square(X[:,0:1])\n",
    "X2_2=np.square(X[:,1:2])\n",
    "X1_3=np.multiply(X1_2,X[:,0:1])\n",
    "X2_3=np.multiply(X2_2,X[:,1:2])\n",
    "X = np.hstack((X1_2, X))\n",
    "X = np.hstack((X2_2, X))\n",
    "X = np.hstack((X1_3, X))\n",
    "X = np.hstack((X2_3, X))\n",
    "# Add bias feature\n",
    "bias = np.ones((X.shape[0], 1))\n",
    "X = np.hstack((bias, X))\n",
    "\n",
    "# Mean Normalization\n",
    "mean = np.mean(X, axis=0)\n",
    "s_dev = np.std(X, axis=0)\n",
    "for i in range(1, X.shape[1]) :\n",
    "    for j in range(X.shape[0]) :\n",
    "        X[j][i] = X[j][i] - mean[i]\n",
    "        X[j][i] = X[j][i] / s_dev[i]\n",
    "    \n",
    "Y = data[ : , -1]\n",
    "from sklearn.utils import shuffle\n",
    "X, Y = shuffle(X, Y)\n",
    "\n",
    "# Split into training and testing data\n",
    "sz = int((X.shape[0] * 7) / 10) # 70% Train-Test split\n",
    "\n",
    "X_train, X_test, Y_train, Y_test = X[:sz], X[sz:], Y[:sz], Y[sz:]\n",
    "\n",
    "# Initialize parameters\n",
    "lambda_reg = 0.1\n",
    "theta =  np.random.uniform(-1, 1, X.shape[1])\n",
    "iters = 500\n",
    "\n",
    "# Apply Newton's method\n",
    "theta_final, costs, iters = newton_method(X_train, Y_train, theta, lambda_reg, iters)\n",
    "\n",
    "print('Final cost : ', cost_function(X_train, Y_train, theta_final, lambda_reg))\n",
    "print('Final values of co-efficients are : ', theta_final)\n",
    "\n",
    "plt.plot(np.arange(iters), costs)\n"
   ]
  },
  {
   "cell_type": "markdown",
   "metadata": {},
   "source": [
    "### Prediction are made for testing data. Scatter plot of predicted data is made and accuracy is evaluated."
   ]
  },
  {
   "cell_type": "code",
   "execution_count": 321,
   "metadata": {},
   "outputs": [
    {
     "name": "stdout",
     "output_type": "stream",
     "text": [
      "Accuracy for Test data :  88.88888888888889\n"
     ]
    },
    {
     "data": {
      "image/png": "[encoded data removed]",
      "text/plain": [
       "<matplotlib.figure.Figure at 0x7f8937101e10>"
      ]
     },
     "metadata": {},
     "output_type": "display_data"
    }
   ],
   "source": [
    "# Evaluate Accuracy\n",
    "H_predict = sigmoid(np.dot(X_test, theta_final))\n",
    "Y_predict=[]\n",
    "for i in range(len(X_test)) :\n",
    "    if(H_predict[i] > 0.5) :\n",
    "        Y_predict.append(1)\n",
    "    elif(H_predict[i] < 0.5) :\n",
    "        Y_predict.append(0)\n",
    "\n",
    "X1_positive = []\n",
    "X1_negative = []\n",
    "X2_positive = []\n",
    "X2_negative = []\n",
    "for i in range(X_test.shape[0]):\n",
    "    if(Y_predict[i] == 1):\n",
    "        X1_positive.append(X_test[i][3])\n",
    "        X2_positive.append(X_test[i][4])\n",
    "    else :\n",
    "        X1_negative.append(X_test[i][3])\n",
    "        X2_negative.append(X_test[i][4])\n",
    "\n",
    "plt.plot(X1_positive, X2_positive, 'ro')\n",
    "plt.plot(X1_negative, X2_negative, 'go')\n",
    "\n",
    "print('Accuracy for Test data : ', np.sum(Y_test==Y_predict)/Y_test.shape[0] * 100)"
   ]
  }
 ],
 "metadata": {
  "kernelspec": {
   "display_name": "Python 3",
   "language": "python",
   "name": "python3"
  },
  "language_info": {
   "codemirror_mode": {
    "name": "ipython",
    "version": 3
   },
   "file_extension": ".py",
   "mimetype": "text/x-python",
   "name": "python",
   "nbconvert_exporter": "python",
   "pygments_lexer": "ipython3",
   "version": "3.6.8"
  }
 },
 "nbformat": 4,
 "nbformat_minor": 2
}
