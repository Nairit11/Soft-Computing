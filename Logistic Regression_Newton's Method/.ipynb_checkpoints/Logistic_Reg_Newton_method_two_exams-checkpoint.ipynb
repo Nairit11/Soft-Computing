{
 "cells": [
  {
   "cell_type": "code",
   "execution_count": 70,
   "metadata": {},
   "outputs": [],
   "source": [
    "import docx\n",
    "import numpy as np\n",
    "%matplotlib inline\n",
    "import matplotlib.pyplot as plt\n",
    "import random\n",
    "from copy import deepcopy"
   ]
  },
  {
   "cell_type": "code",
   "execution_count": 71,
   "metadata": {},
   "outputs": [],
   "source": [
    "doc = docx.Document(\"Two_exam_results.docx\")\n",
    "dataset = []\n",
    "for para in doc.paragraphs:\n",
    "    tmp = para.text.split(\",\")\n",
    "    dataset.append(tmp)\n",
    "dataset = dataset[2 : len(dataset) - 1]\n",
    "\n",
    "for i in range(len(dataset)) :\n",
    "    for j in range(len(dataset[0])) :\n",
    "        dataset[i][j] = float(dataset[i][j])\n",
    "dataset = np.array(dataset)\n"
   ]
  },
  {
   "cell_type": "code",
   "execution_count": 72,
   "metadata": {},
   "outputs": [],
   "source": [
    "X = dataset[ : , : -1]\n",
    "# Add bias feature\n",
    "X_0 = np.ones((X.shape[0], 1))\n",
    "X = np.hstack((X_0, X))\n",
    "\n",
    "# Mean Normalization\n",
    "mean_col = np.mean(X, axis=0)\n",
    "std_col = np.std(X, axis=0)\n",
    "for i in range(1, X.shape[1]) :\n",
    "    for j in range(X.shape[0]) :\n",
    "        X[j][i] = X[j][i] - mean_col[i]\n",
    "        X[j][i] = X[j][i] / std_col[i]\n",
    "    \n",
    "Y = dataset[ : , -1]\n",
    "from sklearn.utils import shuffle\n",
    "X, Y = shuffle(X, Y)"
   ]
  },
  {
   "cell_type": "code",
   "execution_count": 73,
   "metadata": {},
   "outputs": [
    {
     "name": "stdout",
     "output_type": "stream",
     "text": [
      "(100, 3)\n"
     ]
    }
   ],
   "source": [
    "print(X.shape)"
   ]
  },
  {
   "cell_type": "code",
   "execution_count": 74,
   "metadata": {},
   "outputs": [],
   "source": [
    "# Separate into training and testing data\n",
    "sz = int((X.shape[0] * 7) / 10) # 70% Train-Test split\n",
    "\n",
    "X_train, X_test, Y_train, Y_test = X[:sz], X[sz:], Y[:sz], Y[sz:]"
   ]
  },
  {
   "cell_type": "code",
   "execution_count": 75,
   "metadata": {},
   "outputs": [
    {
     "name": "stdout",
     "output_type": "stream",
     "text": [
      "(70, 3)\n",
      "(30,)\n"
     ]
    }
   ],
   "source": [
    "print(X_train.shape)\n",
    "print(Y_test.shape)"
   ]
  },
  {
   "cell_type": "code",
   "execution_count": 76,
   "metadata": {},
   "outputs": [],
   "source": [
    "# Initialize parameters\n",
    "lambda_reg = 0.1\n",
    "theta =  np.random.uniform(-1, 1, X.shape[1])\n",
    "alpha = 0.05\n",
    "iters = 100000"
   ]
  },
  {
   "cell_type": "code",
   "execution_count": 77,
   "metadata": {},
   "outputs": [],
   "source": [
    "# Sigmoid Function\n",
    "def sigmoid(x) :\n",
    "    return 1.0 / (1.0 + np.exp(-x))\n",
    "\n",
    "# Cost Function\n",
    "def cost_function(X, Y, theta, lambda_reg) :\n",
    "    val1 = np.dot(np.transpose(Y), np.log(sigmoid(np.dot(X, theta))))\n",
    "    val2 = np.dot(np.transpose(1.0 - Y), np.log(1.0 - sigmoid(np.dot(X, theta))))\n",
    "    val3 = (lambda_reg / (2.0 * X.shape[0])) * (sum(np.square(theta[:])))\n",
    "    return (-1.0 / X.shape[0]) * (val1 + val2) + val3\n",
    "\n",
    "# Newton method \n",
    "def newton_method(X, y,theta, lambda_reg, max_iters ) :\n",
    "    costs = [cost_function(X, y, theta, lambda_reg)]\n",
    "    iters=1\n",
    "    while (iters<max_iters):\n",
    "        S = np.zeros((X.shape[0], X.shape[0]))\n",
    "        for i in range(X.shape[0]) :\n",
    "            S[i][i] = sigmoid(np.dot(X[i], theta)) * (1 - sigmoid(np.dot(X[i], theta)))\n",
    "\n",
    "        val1 = np.dot(np.dot(np.transpose(X), S), X)\n",
    "        val2 = np.zeros((X.shape[1], X.shape[1]))\n",
    "        for i in range(1, X.shape[1]) :\n",
    "            val2[i][i] = lambda_reg        \n",
    "        second_derivative = val1+val2\n",
    "        \n",
    "        val1 = (1 / X.shape[0]) * np.dot(np.transpose(X), (sigmoid(np.dot(X, theta)) - y))\n",
    "        val2 = np.zeros(theta.shape)\n",
    "        val2[1 : ] = (lambda_reg / X.shape[0]) * theta[1 : ]\n",
    "        first_derivative = val1+val2\n",
    "        \n",
    "        theta = theta - np.dot(np.linalg.inv(second_derivative), first_derivative)\n",
    "        \n",
    "        current_cost = cost_function(X, y, theta, lambda_reg)\n",
    "        costs.append(current_cost)\n",
    "        iters+=1\n",
    "    \n",
    "    return theta, costs, iters"
   ]
  },
  {
   "cell_type": "code",
   "execution_count": 78,
   "metadata": {},
   "outputs": [
    {
     "name": "stdout",
     "output_type": "stream",
     "text": [
      "Final error :  0.23936586299599344\n",
      "Final values ofco-efficients are :  [1.38432975 3.1571558  3.07753925]\n"
     ]
    },
    {
     "data": {
      "text/plain": [
       "[<matplotlib.lines.Line2D at 0x7f2bcdefafd0>]"
      ]
     },
     "execution_count": 78,
     "metadata": {},
     "output_type": "execute_result"
    },
    {
     "data": {
      "image/png": "[encoded data removed]",
      "text/plain": [
       "<Figure size 432x288 with 1 Axes>"
      ]
     },
     "metadata": {},
     "output_type": "display_data"
    }
   ],
   "source": [
    "# EXECUTE GRADIENT DESCENT\n",
    "theta_final, costs, iters = newton_method(X_train, Y_train, theta,lambda_reg, iters)\n",
    "\n",
    "# final cost, theta values\n",
    "print('Final error : ', cost_function(X_train, Y_train, theta_final, lambda_reg))\n",
    "print('Final values ofco-efficients are : ', theta_final)\n",
    "\n",
    "plt.plot(np.arange(iters), costs)"
   ]
  },
  {
   "cell_type": "code",
   "execution_count": 79,
   "metadata": {},
   "outputs": [
    {
     "data": {
      "text/plain": [
       "[<matplotlib.lines.Line2D at 0x7f2bcdeb6160>]"
      ]
     },
     "execution_count": 79,
     "metadata": {},
     "output_type": "execute_result"
    },
    {
     "data": {
      "image/png": "[encoded data removed]",
      "text/plain": [
       "<Figure size 432x288 with 1 Axes>"
      ]
     },
     "metadata": {},
     "output_type": "display_data"
    }
   ],
   "source": [
    "# plotting points of training data\n",
    "\n",
    "# X_plotting_vals\n",
    "X1_positive = []\n",
    "X1_negative = []\n",
    "X2_positive = []\n",
    "X2_negative = []\n",
    "for i in range(X_test.shape[0]):\n",
    "    if(Y_test[i] == 1.0):\n",
    "        X1_positive.append(X_test[i][1])\n",
    "        X2_positive.append(X_test[i][2])\n",
    "    else :\n",
    "        X1_negative.append(X_test[i][1])\n",
    "        X2_negative.append(X_test[i][2])\n",
    "\n",
    "plt.plot(X1_positive, X2_positive, 'ro')\n",
    "plt.plot(X1_negative, X2_negative, 'go')"
   ]
  },
  {
   "cell_type": "code",
   "execution_count": 80,
   "metadata": {},
   "outputs": [
    {
     "name": "stdout",
     "output_type": "stream",
     "text": [
      "Accuracy for Test data :  86.66666666666667\n"
     ]
    },
    {
     "data": {
      "image/png": "[encoded data removed]",
      "text/plain": [
       "<Figure size 432x288 with 1 Axes>"
      ]
     },
     "metadata": {},
     "output_type": "display_data"
    }
   ],
   "source": [
    "# Evaluate Accuracy\n",
    "train_data_evaluated_vals = sigmoid(np.dot(X_test, theta))\n",
    "Y_predict=[]\n",
    "for i in range(len(X_test)) :\n",
    "    if(train_data_evaluated_vals[i] > 0.5) :\n",
    "        Y_predict.append(1)\n",
    "    elif(train_data_evaluated_vals[i] < 0.5) :\n",
    "        Y_predict.append(0)\n",
    "        \n",
    "for i in range(X_test.shape[0]):\n",
    "    if(Y_predict[i] == 1):\n",
    "        X1_positive.append(X_test[i][1])\n",
    "        X2_positive.append(X_test[i][2])\n",
    "    else :\n",
    "        X1_negative.append(X_test[i][1])\n",
    "        X2_negative.append(X_test[i][2])\n",
    "\n",
    "plt.plot(X1_positive, X2_positive, 'ro')\n",
    "plt.plot(X1_negative, X2_negative, 'go')\n",
    "\n",
    "print('Accuracy for Test data : ', np.sum(Y_test==Y_predict)/Y_test.shape[0] * 100)"
   ]
  }
 ],
 "metadata": {
  "kernelspec": {
   "display_name": "Python 3",
   "language": "python",
   "name": "python3"
  },
  "language_info": {
   "codemirror_mode": {
    "name": "ipython",
    "version": 3
   },
   "file_extension": ".py",
   "mimetype": "text/x-python",
   "name": "python",
   "nbconvert_exporter": "python",
   "pygments_lexer": "ipython3",
   "version": "3.6.5"
  }
 },
 "nbformat": 4,
 "nbformat_minor": 2
}
