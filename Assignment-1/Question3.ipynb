{
 "cells": [
  {
   "cell_type": "code",
   "execution_count": 1,
   "metadata": {
    "colab": {},
    "colab_type": "code",
    "collapsed": true,
    "id": "gkdjRfVY7LGF"
   },
   "outputs": [],
   "source": [
    "from numpy import*\n",
    "from scipy.interpolate import*\n",
    "from matplotlib.pyplot import*\n",
    "%matplotlib inline\n",
    "import matplotlib.pyplot as plt\n",
    "import math"
   ]
  },
  {
   "cell_type": "code",
   "execution_count": 10,
   "metadata": {
    "colab": {},
    "colab_type": "code",
    "collapsed": true,
    "id": "RZIpaDnN8Ru1"
   },
   "outputs": [],
   "source": [
    "v = array([54.3, 61.8, 72.4, 88.7, 118.6, 194])\n",
    "p = array([61.2, 49.5, 37.6, 28.4, 19.2, 10.1])\n",
    "tran = v.size\n",
    "\n",
    "x = []\n",
    "y = []\n",
    "for i in range(tran):\n",
    "  y.append(math.log(p[i]))\n",
    "  x.append(math.log(v[i]))"
   ]
  },
  {
   "cell_type": "code",
   "execution_count": 11,
   "metadata": {},
   "outputs": [
    {
     "name": "stdout",
     "output_type": "stream",
     "text": [
      "[3.9945242269398897, 4.123903364463645, 4.282206299391671, 4.485259889315534, 4.775756486563625, 5.267858159063328]\n",
      "[4.11414718951828, 3.901972669574645, 3.6270040503958487, 3.3463891451671604, 2.954910279033736, 2.312535423847214]\n"
     ]
    }
   ],
   "source": [
    "print(x)\n",
    "print(y)"
   ]
  },
  {
   "cell_type": "code",
   "execution_count": 12,
   "metadata": {
    "colab": {},
    "colab_type": "code",
    "collapsed": true,
    "id": "vSGMO9EA_hu5"
   },
   "outputs": [],
   "source": [
    "a = 0\n",
    "b = 0\n",
    "c = 0\n",
    "d = 0\n",
    "for i in range(tran):\n",
    "  a += x[i]\n",
    "  b += y[i]\n",
    "  c += x[i]*x[i]\n",
    "  d += x[i]*y[i]\n",
    "w1 = ((a*b) - (d*tran))/((a*a)-(tran*c)) \n",
    "w0 = (b - (w1*a))/tran\n",
    "p1 = array([w0, w1])"
   ]
  },
  {
   "cell_type": "code",
   "execution_count": 13,
   "metadata": {},
   "outputs": [
    {
     "name": "stdout",
     "output_type": "stream",
     "text": [
      "9.678580389962772\n",
      "-1.4042040049308429\n"
     ]
    }
   ],
   "source": [
    "print(w0)\n",
    "print(w1)"
   ]
  },
  {
   "cell_type": "code",
   "execution_count": 14,
   "metadata": {
    "colab": {},
    "colab_type": "code",
    "collapsed": true,
    "id": "4sugSNdAADXN"
   },
   "outputs": [],
   "source": [
    "g = -w1\n",
    "k = exp(w0)"
   ]
  },
  {
   "cell_type": "code",
   "execution_count": 15,
   "metadata": {
    "colab": {
     "base_uri": "https://localhost:8080/",
     "height": 34
    },
    "colab_type": "code",
    "id": "bCnhy5XsA5Em",
    "outputId": "3bae0c73-773d-4bb1-a5bc-30a924fd1da6"
   },
   "outputs": [
    {
     "data": {
      "text/plain": [
       "1.4042040049308429"
      ]
     },
     "execution_count": 15,
     "metadata": {},
     "output_type": "execute_result"
    }
   ],
   "source": [
    "g"
   ]
  },
  {
   "cell_type": "code",
   "execution_count": 16,
   "metadata": {
    "colab": {
     "base_uri": "https://localhost:8080/",
     "height": 34
    },
    "colab_type": "code",
    "id": "dU0BCKGlA6KF",
    "outputId": "ae92cd1a-4c68-41d2-c6a0-d599aed0ee6a"
   },
   "outputs": [
    {
     "data": {
      "text/plain": [
       "15971.807087829744"
      ]
     },
     "execution_count": 16,
     "metadata": {},
     "output_type": "execute_result"
    }
   ],
   "source": [
    "k"
   ]
  },
  {
   "cell_type": "code",
   "execution_count": 17,
   "metadata": {
    "colab": {
     "base_uri": "https://localhost:8080/",
     "height": 34
    },
    "colab_type": "code",
    "id": "RWfRz9ONN-hP",
    "outputId": "ffecd839-25be-4d82-b736-67b946c4f19b"
   },
   "outputs": [
    {
     "data": {
      "text/plain": [
       "24.82824636595994"
      ]
     },
     "execution_count": 17,
     "metadata": {},
     "output_type": "execute_result"
    }
   ],
   "source": [
    "pressure = k / (pow(100, g))\n",
    "pressure"
   ]
  },
  {
   "cell_type": "code",
   "execution_count": null,
   "metadata": {
    "collapsed": true
   },
   "outputs": [],
   "source": []
  }
 ],
 "metadata": {
  "colab": {
   "name": "Question3.ipynb",
   "provenance": [],
   "version": "0.3.2"
  },
  "kernelspec": {
   "display_name": "Python 3",
   "language": "python",
   "name": "python3"
  },
  "language_info": {
   "codemirror_mode": {
    "name": "ipython",
    "version": 3
   },
   "file_extension": ".py",
   "mimetype": "text/x-python",
   "name": "python",
   "nbconvert_exporter": "python",
   "pygments_lexer": "ipython3",
   "version": "3.6.8"
  }
 },
 "nbformat": 4,
 "nbformat_minor": 1
}
