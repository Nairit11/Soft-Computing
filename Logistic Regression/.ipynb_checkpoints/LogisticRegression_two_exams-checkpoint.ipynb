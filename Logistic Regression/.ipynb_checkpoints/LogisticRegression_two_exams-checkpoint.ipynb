{
 "cells": [
  {
   "cell_type": "markdown",
   "metadata": {},
   "source": [
    "### Make necessary Imports"
   ]
  },
  {
   "cell_type": "code",
   "execution_count": 1,
   "metadata": {
    "collapsed": true
   },
   "outputs": [],
   "source": [
    "import docx\n",
    "import numpy as np\n",
    "%matplotlib inline\n",
    "import matplotlib.pyplot as plt\n",
    "import random\n",
    "from copy import deepcopy"
   ]
  },
  {
   "cell_type": "markdown",
   "metadata": {},
   "source": [
    "### Read given doc file into an Numpy array"
   ]
  },
  {
   "cell_type": "code",
   "execution_count": 2,
   "metadata": {
    "collapsed": true
   },
   "outputs": [],
   "source": [
    "doc = docx.Document(\"Two_exam_results.docx\")\n",
    "data = []\n",
    "for para in doc.paragraphs:\n",
    "    tmp = para.text.split(\",\")\n",
    "    data.append(tmp)\n",
    "data = data[2 : len(data) - 1]\n",
    "\n",
    "for i in range(len(data)) :\n",
    "    for j in range(len(data[0])) :\n",
    "        data[i][j] = float(data[i][j])\n",
    "data = np.array(data)\n"
   ]
  },
  {
   "cell_type": "markdown",
   "metadata": {},
   "source": [
    "### Add the bias feature and mean normalize the data. Also shuffle the data for randon distribution of classes. "
   ]
  },
  {
   "cell_type": "code",
   "execution_count": 3,
   "metadata": {
    "collapsed": true
   },
   "outputs": [],
   "source": [
    "X = data[ : , : -1]\n",
    "# Add bias feature\n",
    "bias = np.ones((X.shape[0], 1))\n",
    "X = np.hstack((bias, X))\n",
    "\n",
    "# Mean Normalization\n",
    "mean = np.mean(X, axis=0)\n",
    "s_dev = np.std(X, axis=0)\n",
    "for i in range(1, X.shape[1]) :\n",
    "    for j in range(X.shape[0]) :\n",
    "        X[j][i] = X[j][i] - mean[i]\n",
    "        X[j][i] = X[j][i] / s_dev[i]\n",
    "    \n",
    "Y = data[ : , -1]\n",
    "from sklearn.utils import shuffle\n",
    "X, Y = shuffle(X, Y)"
   ]
  },
  {
   "cell_type": "markdown",
   "metadata": {},
   "source": [
    "### Split entire dataset in 70:30 ratio for training and testing purposes respectively"
   ]
  },
  {
   "cell_type": "code",
   "execution_count": 4,
   "metadata": {
    "collapsed": true
   },
   "outputs": [],
   "source": [
    "# Split into training and testing data\n",
    "sz = int((X.shape[0] * 7) / 10)\n",
    "\n",
    "X_train, X_test, Y_train, Y_test = X[:sz], X[sz:], Y[:sz], Y[sz:]"
   ]
  },
  {
   "cell_type": "code",
   "execution_count": 5,
   "metadata": {},
   "outputs": [
    {
     "name": "stdout",
     "output_type": "stream",
     "text": [
      "(70, 3)\n",
      "(30,)\n"
     ]
    }
   ],
   "source": [
    "print(X_train.shape)\n",
    "print(Y_test.shape)"
   ]
  },
  {
   "cell_type": "markdown",
   "metadata": {},
   "source": [
    "### Initialize hyperparameters. Also change the same to further tune the results."
   ]
  },
  {
   "cell_type": "code",
   "execution_count": 6,
   "metadata": {
    "collapsed": true
   },
   "outputs": [],
   "source": [
    "# Initialize parameters\n",
    "lambda_reg = 0.01\n",
    "theta =  np.random.uniform(-1, 1, X.shape[1])\n",
    "alpha = 0.01\n",
    "iters = 10000"
   ]
  },
  {
   "cell_type": "markdown",
   "metadata": {},
   "source": [
    "### Define sigmoid, cost and gradient descent functions. Regularization is used."
   ]
  },
  {
   "cell_type": "code",
   "execution_count": 7,
   "metadata": {
    "collapsed": true
   },
   "outputs": [],
   "source": [
    "# Sigmoid Function\n",
    "def sigmoid(x) :\n",
    "    return 1.0 / (1.0 + np.exp(-x))\n",
    "\n",
    "# Cost Function\n",
    "def cost_function(X, Y, theta, lambda_reg) :\n",
    "    tmp = np.dot(np.transpose(Y), np.log(sigmoid(np.dot(X, theta)))) + np.dot(np.transpose(1.0 - Y), np.log(1.0 - sigmoid(np.dot(X, theta))))\n",
    "    return (-1.0 / X.shape[0]) * (tmp) + (lambda_reg / (2.0 * X.shape[0])) * (sum(np.square(theta[:])))\n",
    "\n",
    "# Gradient Descent\n",
    "def gradient_descent(X, Y, theta, alpha, lambda_reg, max_iters) :\n",
    "    costs = []    \n",
    "    iters=0\n",
    "    while(iters<=max_iters) :\n",
    "        iters=iters+1\n",
    "        tmp = np.dot(np.transpose(X), (sigmoid(np.dot(X, theta)) - Y))\n",
    "        reg_term = np.zeros(theta.shape)\n",
    "        reg_term[1 : ] = lambda_reg * theta[1 : ]\n",
    "        theta = theta - (alpha/X.shape[0])* (tmp+reg_term)\n",
    "        new_cost = cost_function(X, Y, theta, lambda_reg)\n",
    "        costs.append(new_cost)\n",
    "    return theta, costs, iters"
   ]
  },
  {
   "cell_type": "markdown",
   "metadata": {},
   "source": [
    "### Applying GD and print final cost and co-efficients"
   ]
  },
  {
   "cell_type": "code",
   "execution_count": 8,
   "metadata": {},
   "outputs": [
    {
     "name": "stdout",
     "output_type": "stream",
     "text": [
      "Final error :  0.20702097129432084\n",
      "Final values of co-efficients are :  [1.70378653 2.76450956 3.06993774]\n"
     ]
    },
    {
     "data": {
      "text/plain": [
       "[<matplotlib.lines.Line2D at 0x7f30b6e886a0>]"
      ]
     },
     "execution_count": 8,
     "metadata": {},
     "output_type": "execute_result"
    },
    {
     "data": {
      "image/png": "[encoded data removed]",
      "text/plain": [
       "<matplotlib.figure.Figure at 0x7f30e81d10f0>"
      ]
     },
     "metadata": {},
     "output_type": "display_data"
    }
   ],
   "source": [
    "# Apply Gradient Descent on Training data\n",
    "theta_final, costs, iters = gradient_descent(X_train, Y_train, theta, alpha, lambda_reg, iters)\n",
    "\n",
    "print('Final error : ', cost_function(X_train, Y_train, theta_final, lambda_reg))\n",
    "print('Final values of co-efficients are : ', theta_final)\n",
    "\n",
    "plt.plot(np.arange(iters), costs)"
   ]
  },
  {
   "cell_type": "markdown",
   "metadata": {},
   "source": [
    "### A scatter plot of testing data"
   ]
  },
  {
   "cell_type": "code",
   "execution_count": 9,
   "metadata": {},
   "outputs": [
    {
     "data": {
      "text/plain": [
       "[<matplotlib.lines.Line2D at 0x7f30b6e88d68>]"
      ]
     },
     "execution_count": 9,
     "metadata": {},
     "output_type": "execute_result"
    },
    {
     "data": {
      "image/png": "[encoded data removed]",
      "text/plain": [
       "<matplotlib.figure.Figure at 0x7f30b6e56048>"
      ]
     },
     "metadata": {},
     "output_type": "display_data"
    }
   ],
   "source": [
    "# Scatter plot of testing data\n",
    "X1_positive = []\n",
    "X1_negative = []\n",
    "X2_positive = []\n",
    "X2_negative = []\n",
    "for i in range(X_test.shape[0]):\n",
    "    if(Y_test[i] == 1.0):\n",
    "        X1_positive.append(X_test[i][1])\n",
    "        X2_positive.append(X_test[i][2])\n",
    "    else :\n",
    "        X1_negative.append(X_test[i][1])\n",
    "        X2_negative.append(X_test[i][2])\n",
    "\n",
    "plt.plot(X1_positive, X2_positive, 'ro')\n",
    "plt.plot(X1_negative, X2_negative, 'go')"
   ]
  },
  {
   "cell_type": "markdown",
   "metadata": {},
   "source": [
    "### Prediction are made for testing data. Scatter plot of predicted data is made and accuracy is evaluated."
   ]
  },
  {
   "cell_type": "code",
   "execution_count": 10,
   "metadata": {},
   "outputs": [
    {
     "name": "stdout",
     "output_type": "stream",
     "text": [
      "Accuracy for Test data :  93.33333333333333\n"
     ]
    }
   ],
   "source": [
    "# Evaluate Accuracy\n",
    "H_predict = sigmoid(np.dot(X_test, theta_final))\n",
    "Y_predict=[]\n",
    "for i in range(len(X_test)) :\n",
    "    if(H_predict[i] > 0.5) :\n",
    "        Y_predict.append(1)\n",
    "    elif(H_predict[i] < 0.5) :\n",
    "        Y_predict.append(0)\n",
    "\n",
    "print('Accuracy for Test data : ', np.sum(Y_test==Y_predict)/Y_test.shape[0] * 100)"
   ]
  },
  {
   "cell_type": "markdown",
   "metadata": {},
   "source": [
    "### Plotting decision boundary taking both features one at a time"
   ]
  },
  {
   "cell_type": "code",
   "execution_count": 11,
   "metadata": {},
   "outputs": [
    {
     "data": {
      "text/plain": [
       "[<matplotlib.lines.Line2D at 0x7f30b6d59ef0>]"
      ]
     },
     "execution_count": 11,
     "metadata": {},
     "output_type": "execute_result"
    },
    {
     "data": {
      "image/png": "[encoded data removed]",
      "text/plain": [
       "<matplotlib.figure.Figure at 0x7f30b6db5be0>"
      ]
     },
     "metadata": {},
     "output_type": "display_data"
    }
   ],
   "source": [
    "plt.subplot(1,2,1)\n",
    "X1 = X_test[: , 1]\n",
    "Y1 = -1.0 * ((theta_final[0] + theta_final[1] * X1) / (theta_final[2]))\n",
    "plt.plot(X1_positive, X2_positive, 'ro')\n",
    "plt.plot(X1_negative, X2_negative, 'go')\n",
    "plt.plot(X1, Y1, 'b')\n",
    "\n",
    "plt.subplot(1,2,2)\n",
    "X2 = X_test[: , 2]\n",
    "Y2 = -1.0 * ((theta_final[0] + theta_final[2] * X2) / (theta_final[1]))\n",
    "plt.plot(X2_positive, X1_positive, 'ro')\n",
    "plt.plot(X2_negative, X1_negative, 'go')\n",
    "plt.plot(X2, Y2, 'b')"
   ]
  }
 ],
 "metadata": {
  "kernelspec": {
   "display_name": "Python 3",
   "language": "python",
   "name": "python3"
  },
  "language_info": {
   "codemirror_mode": {
    "name": "ipython",
    "version": 3
   },
   "file_extension": ".py",
   "mimetype": "text/x-python",
   "name": "python",
   "nbconvert_exporter": "python",
   "pygments_lexer": "ipython3",
   "version": "3.6.8"
  }
 },
 "nbformat": 4,
 "nbformat_minor": 2
}
