{
 "cells": [
  {
   "cell_type": "code",
   "execution_count": 24,
   "metadata": {
    "collapsed": true
   },
   "outputs": [],
   "source": [
    "import numpy as np\n",
    "%matplotlib inline\n",
    "import matplotlib.pyplot as plt\n",
    "import csv\n",
    "import sys"
   ]
  },
  {
   "cell_type": "code",
   "execution_count": 2,
   "metadata": {},
   "outputs": [],
   "source": [
    "X = []\n",
    "Y = []\n",
    "\n",
    "data_file = open(\"housing.csv\")\n",
    "data_reader = csv.reader(data_file)\n",
    "\n",
    "row_count = 0\n",
    "for row in data_reader :\n",
    "    row_count += 1\n",
    "    if(row_count != 1) :\n",
    "        Y.append(float(row[1]))\n",
    "        data_row = [float(1)]\n",
    "        for i in range(2, len(row)) :\n",
    "            if(row[i] == \"yes\" or row[i] == \"no\") :\n",
    "                if(row[i] == \"yes\") :\n",
    "                    data_row.append(float(1))\n",
    "                else :\n",
    "                    data_row.append(float(0))\n",
    "            else :\n",
    "                data_row.append(float(row[i]))\n",
    "        X.append(data_row)\n",
    "\n",
    "X = np.array(X)\n",
    "Y = np.array(Y)"
   ]
  },
  {
   "cell_type": "code",
   "execution_count": 4,
   "metadata": {
    "collapsed": true
   },
   "outputs": [],
   "source": [
    "# Initialize global variables\n",
    "alpha = 0.001\n",
    "threshold = 0.001\n",
    "theta = np.zeros(X.shape[1])\n",
    "# Regularization parameter\n",
    "reg_lambda = 0.00025"
   ]
  },
  {
   "cell_type": "code",
   "execution_count": 5,
   "metadata": {
    "collapsed": true
   },
   "outputs": [],
   "source": [
    "# Mean Normalize the data\n",
    "std_vals = np.std(X, axis=0)\n",
    "mean_vals = np.mean(X, axis=0)\n",
    "\n",
    "for i in range(X.shape[0]) :\n",
    "    for j in range(X.shape[1]) :\n",
    "        if(std_vals[j] != 0) :\n",
    "            X[i][j] = X[i][j] - mean_vals[j]\n",
    "            X[i][j] = X[i][j] / std_vals[j]"
   ]
  },
  {
   "cell_type": "code",
   "execution_count": 22,
   "metadata": {
    "collapsed": true
   },
   "outputs": [],
   "source": [
    "# Regularized Cost Function\n",
    "def cost_function(X, Y, theta, reg_lambda) :\n",
    "    sample_count = float(X.shape[0])\n",
    "    reg_sum = (reg_lambda / (float(2) * sample_count)) * np.sum(np.square(theta[1:]))\n",
    "    return (float(1) / (float(2) * sample_count)) * float(np.dot(np.transpose(np.dot(X, theta) - Y) , np.dot(X, theta) - Y)) + reg_sum\n",
    "\n",
    "# Regularized Gradient Descent\n",
    "def gradient_descent(X, Y, theta, alpha, threshold, reg_lambda) :\n",
    "    costs = [cost_function(X, Y, theta, reg_lambda)]\n",
    "    sample_count = float(X.shape[0])\n",
    "    iteration_count = 2\n",
    "    \n",
    "    while(True):\n",
    "        reg_term = (reg_lambda / sample_count) * theta\n",
    "        reg_term[0] = 0\n",
    "        theta = theta - ((alpha / sample_count) * np.dot(np.transpose(X), np.dot(X, theta) - Y) + reg_term)\n",
    "        \n",
    "        current_cost = cost_function(X, Y, theta, reg_lambda)\n",
    "        prev_cost = costs[iteration_count - 2]\n",
    "        costs.append(current_cost)\n",
    "        \n",
    "        if(prev_cost - current_cost <= threshold) :\n",
    "            break\n",
    "            \n",
    "        iteration_count = iteration_count + 1\n",
    "    return theta, costs, iteration_count\n",
    "\n",
    "# Regularized Normal Equation \n",
    "def normal_equation_reg(X, Y, reg_lambda) :\n",
    "    reg_term = np.zeros((X.shape[1], X.shape[1]))\n",
    "    for i in range(1, X.shape[1]) :\n",
    "        reg_term[i][i] = reg_lambda\n",
    "    \n",
    "    return np.dot(np.linalg.inv(np.dot(np.transpose(X), X) + reg_term), np.dot(np.transpose(X), Y))"
   ]
  },
  {
   "cell_type": "code",
   "execution_count": 25,
   "metadata": {},
   "outputs": [
    {
     "name": "stdout",
     "output_type": "stream",
     "text": [
      "Final Cost :  116323395.60464975\n",
      "Final values of Co-efficients :  [68121.59652816  7678.75690636  1352.26974984  7189.94739908\n",
      "  5684.45181292  2328.40900684  1725.21246225  2598.33007529\n",
      "  2680.76454173  5876.27380775  3652.58217771  3968.60446529]\n"
     ]
    },
    {
     "data": {
      "text/plain": [
       "[<matplotlib.lines.Line2D at 0x7f0548a3d780>]"
      ]
     },
     "execution_count": 25,
     "metadata": {},
     "output_type": "execute_result"
    },
    {
     "data": {
      "image/png": "[encoded data removed]",
      "text/plain": [
       "<matplotlib.figure.Figure at 0x7f054977ab00>"
      ]
     },
     "metadata": {},
     "output_type": "display_data"
    }
   ],
   "source": [
    "# Apply Gradient Descent\n",
    "theta_final, costs, iters = gradient_descent(X, Y, theta, alpha, threshold, reg_lambda)\n",
    "\n",
    "print(\"Final Cost : \", cost_function(X, Y, theta_final, reg_lambda))\n",
    "print(\"Final values of Co-efficients : \", theta_final)\n",
    "plt.plot(np.arange(iters), costs)"
   ]
  },
  {
   "cell_type": "code",
   "execution_count": 15,
   "metadata": {},
   "outputs": [
    {
     "name": "stdout",
     "output_type": "stream",
     "text": [
      "Final Cost :  116323378.54269795\n",
      "Final values of co-efficients :  [68121.5970696   7681.90052904  1349.66168159  7192.11581214\n",
      "  5687.53881382  2327.66854324  1724.31539331  2600.30648789\n",
      "  2682.07092653  5877.42976373  3652.74931055  3969.33193691]\n"
     ]
    }
   ],
   "source": [
    "# Apply Normal Equation\n",
    "theta = np.zeros(X.shape[1])\n",
    "theta_final = normal_equation_reg(X, Y, reg_lambda)\n",
    "\n",
    "print(\"Final Cost : \", cost_function(X, Y, theta_final, reg_lambda))\n",
    "print(\"Final values of co-efficients : \", theta_final)"
   ]
  }
 ],
 "metadata": {
  "kernelspec": {
   "display_name": "Python 3",
   "language": "python",
   "name": "python3"
  },
  "language_info": {
   "codemirror_mode": {
    "name": "ipython",
    "version": 3
   },
   "file_extension": ".py",
   "mimetype": "text/x-python",
   "name": "python",
   "nbconvert_exporter": "python",
   "pygments_lexer": "ipython3",
   "version": "3.6.5"
  }
 },
 "nbformat": 4,
 "nbformat_minor": 2
}
