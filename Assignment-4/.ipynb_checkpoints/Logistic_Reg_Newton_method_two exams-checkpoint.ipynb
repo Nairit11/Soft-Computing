{
 "cells": [
  {
   "cell_type": "markdown",
   "metadata": {},
   "source": [
    "### Make necessary Imports"
   ]
  },
  {
   "cell_type": "code",
   "execution_count": 14,
   "metadata": {
    "collapsed": true
   },
   "outputs": [],
   "source": [
    "import docx\n",
    "import numpy as np\n",
    "%matplotlib inline\n",
    "import matplotlib.pyplot as plt\n",
    "import random"
   ]
  },
  {
   "cell_type": "markdown",
   "metadata": {},
   "source": [
    "### Read given doc file into an Numpy array"
   ]
  },
  {
   "cell_type": "code",
   "execution_count": 15,
   "metadata": {
    "collapsed": true
   },
   "outputs": [],
   "source": [
    "doc = docx.Document(\"Two_exam_results.docx\")\n",
    "data = []\n",
    "for para in doc.paragraphs:\n",
    "    tmp = para.text.split(\",\")\n",
    "    data.append(tmp)\n",
    "data = data[2: len(data) - 1]\n",
    "\n",
    "for i in range(len(data)) :\n",
    "    for j in range(len(data[0])) :\n",
    "        data[i][j] = float(data[i][j])\n",
    "data = np.array(data)\n"
   ]
  },
  {
   "cell_type": "markdown",
   "metadata": {},
   "source": [
    "### Add the bias feature and mean normalize the data. Also shuffle the data for randon distribution of classes. "
   ]
  },
  {
   "cell_type": "code",
   "execution_count": 16,
   "metadata": {
    "collapsed": true
   },
   "outputs": [],
   "source": [
    "X = data[ : , : -1]\n",
    "# Add bias feature\n",
    "bias = np.ones((X.shape[0], 1))\n",
    "X = np.hstack((bias, X))\n",
    "\n",
    "# Mean Normalization\n",
    "mean = np.mean(X, axis=0)\n",
    "s_dev = np.std(X, axis=0)\n",
    "for i in range(1, X.shape[1]) :\n",
    "    for j in range(X.shape[0]) :\n",
    "        X[j][i] = X[j][i] - mean[i]\n",
    "        X[j][i] = X[j][i] / s_dev[i]\n",
    "    \n",
    "Y = data[ : , -1]\n",
    "from sklearn.utils import shuffle\n",
    "X, Y = shuffle(X, Y)"
   ]
  },
  {
   "cell_type": "markdown",
   "metadata": {},
   "source": [
    "### Split entire dataset in 70:30 ratio for training and testing purposes respectively"
   ]
  },
  {
   "cell_type": "code",
   "execution_count": 17,
   "metadata": {
    "collapsed": true
   },
   "outputs": [],
   "source": [
    "# Split into training and testing data\n",
    "sz = int((X.shape[0] * 7) / 10)\n",
    "\n",
    "X_train, X_test, Y_train, Y_test = X[:sz], X[sz:], Y[:sz], Y[sz:]"
   ]
  },
  {
   "cell_type": "code",
   "execution_count": 18,
   "metadata": {},
   "outputs": [
    {
     "name": "stdout",
     "output_type": "stream",
     "text": [
      "(70, 3)\n",
      "(30,)\n"
     ]
    }
   ],
   "source": [
    "print(X_train.shape)\n",
    "print(Y_test.shape)"
   ]
  },
  {
   "cell_type": "markdown",
   "metadata": {},
   "source": [
    "### Initialize hyperparameters. Also change the same to further tune the results."
   ]
  },
  {
   "cell_type": "code",
   "execution_count": 19,
   "metadata": {
    "collapsed": true
   },
   "outputs": [],
   "source": [
    "# Initialize parameters\n",
    "lambda_reg = 0.1\n",
    "theta =  np.random.uniform(-1, 1, X.shape[1])\n",
    "iters = 1000"
   ]
  },
  {
   "cell_type": "markdown",
   "metadata": {},
   "source": [
    "### Define sigmoid, cost and Newton/Delta learning functions. Regularization is used."
   ]
  },
  {
   "cell_type": "code",
   "execution_count": 20,
   "metadata": {
    "collapsed": true
   },
   "outputs": [],
   "source": [
    "# Sigmoid Function\n",
    "def sigmoid(x) :\n",
    "    return 1.0 / (1.0 + np.exp(-x))\n",
    "\n",
    "# Cost Function\n",
    "def cost_function(X, Y, theta, lambda_reg) :\n",
    "    tmp = np.dot(np.transpose(Y), np.log(sigmoid(np.dot(X, theta)))) + np.dot(np.transpose(1.0 - Y), np.log(1.0 - sigmoid(np.dot(X, theta))))\n",
    "    return (-1.0 / X.shape[0]) * (tmp) + (lambda_reg / (2.0 * X.shape[0])) * (sum(np.square(theta[:])))\n",
    "\n",
    "# Newton method \n",
    "def newton_method(X, y,theta, lambda_reg, max_iters ) :\n",
    "    costs = [cost_function(X, y, theta, lambda_reg)]\n",
    "    iters=1\n",
    "    while (iters<max_iters):\n",
    "        S = np.zeros((X.shape[0], X.shape[0]))\n",
    "        for i in range(X.shape[0]) :\n",
    "            S[i][i] = sigmoid(np.dot(X[i], theta)) * (1 - sigmoid(np.dot(X[i], theta)))\n",
    "\n",
    "        reg_term = np.zeros((X.shape[1], X.shape[1]))\n",
    "        for i in range(1, X.shape[1]) :\n",
    "            reg_term[i][i] = lambda_reg        \n",
    "        second_derivative = np.dot(np.dot(np.transpose(X), S), X) + reg_term\n",
    "        \n",
    "        reg_term = np.zeros(theta.shape)\n",
    "        reg_term[1 : ] = (lambda_reg / X.shape[0]) * theta[1 : ]\n",
    "        first_derivative = (1 / X.shape[0]) * np.dot(np.transpose(X), (sigmoid(np.dot(X, theta)) - y))+reg_term\n",
    "        \n",
    "        theta = theta - np.dot(np.linalg.inv(second_derivative), first_derivative)\n",
    "        \n",
    "        new_cost = cost_function(X, y, theta, lambda_reg)\n",
    "        costs.append(new_cost)\n",
    "        iters+=1\n",
    "    \n",
    "    return theta, costs, iters"
   ]
  },
  {
   "cell_type": "markdown",
   "metadata": {},
   "source": [
    "### Applying Newton's method and print final cost and co-efficients"
   ]
  },
  {
   "cell_type": "code",
   "execution_count": 21,
   "metadata": {},
   "outputs": [
    {
     "name": "stdout",
     "output_type": "stream",
     "text": [
      "Final error :  0.22928273423319567\n",
      "Final values of co-efficients are :  [1.46307305 3.57748299 3.00206375]\n"
     ]
    },
    {
     "data": {
      "text/plain": [
       "[<matplotlib.lines.Line2D at 0x7f9f984f96a0>]"
      ]
     },
     "execution_count": 21,
     "metadata": {},
     "output_type": "execute_result"
    },
    {
     "data": {
      "image/png": "[encoded data removed]",
      "text/plain": [
       "<matplotlib.figure.Figure at 0x7f9f98349550>"
      ]
     },
     "metadata": {},
     "output_type": "display_data"
    }
   ],
   "source": [
    "# Apply Newton's method on Training data\n",
    "theta_final, costs, iters = newton_method(X_train, Y_train, theta, lambda_reg, iters)\n",
    "\n",
    "print('Final error : ', cost_function(X_train, Y_train, theta_final, lambda_reg))\n",
    "print('Final values of co-efficients are : ', theta_final)\n",
    "\n",
    "plt.plot(np.arange(iters), costs)"
   ]
  },
  {
   "cell_type": "markdown",
   "metadata": {},
   "source": [
    "### A scatter plot of testing data"
   ]
  },
  {
   "cell_type": "code",
   "execution_count": 22,
   "metadata": {},
   "outputs": [
    {
     "data": {
      "text/plain": [
       "[<matplotlib.lines.Line2D at 0x7f9f9850ddd8>]"
      ]
     },
     "execution_count": 22,
     "metadata": {},
     "output_type": "execute_result"
    },
    {
     "data": {
      "image/png": "[encoded data removed]",
      "text/plain": [
       "<matplotlib.figure.Figure at 0x7f9f983c0be0>"
      ]
     },
     "metadata": {},
     "output_type": "display_data"
    }
   ],
   "source": [
    "# Scatter plot of testing data\n",
    "X1_positive = []\n",
    "X1_negative = []\n",
    "X2_positive = []\n",
    "X2_negative = []\n",
    "for i in range(X_test.shape[0]):\n",
    "    if(Y_test[i] == 1.0):\n",
    "        X1_positive.append(X_test[i][1])\n",
    "        X2_positive.append(X_test[i][2])\n",
    "    else :\n",
    "        X1_negative.append(X_test[i][1])\n",
    "        X2_negative.append(X_test[i][2])\n",
    "\n",
    "plt.plot(X1_positive, X2_positive, 'ro')\n",
    "plt.plot(X1_negative, X2_negative, 'go')"
   ]
  },
  {
   "cell_type": "markdown",
   "metadata": {},
   "source": [
    "### Prediction are made for testing data. Scatter plot of predicted data is made and accuracy is evaluated."
   ]
  },
  {
   "cell_type": "code",
   "execution_count": 23,
   "metadata": {},
   "outputs": [
    {
     "name": "stdout",
     "output_type": "stream",
     "text": [
      "Accuracy for Test data :  93.33333333333333\n"
     ]
    }
   ],
   "source": [
    "# Evaluate Accuracy\n",
    "H_predict = sigmoid(np.dot(X_test, theta_final))\n",
    "Y_predict=[]\n",
    "for i in range(len(X_test)) :\n",
    "    if(H_predict[i] > 0.5) :\n",
    "        Y_predict.append(1)\n",
    "    elif(H_predict[i] < 0.5) :\n",
    "        Y_predict.append(0)\n",
    "\n",
    "print('Accuracy for Test data : ', np.sum(Y_test==Y_predict)/Y_test.shape[0] * 100)"
   ]
  },
  {
   "cell_type": "markdown",
   "metadata": {},
   "source": [
    "### Plotting decision boundary taking both features one at a time"
   ]
  },
  {
   "cell_type": "code",
   "execution_count": 24,
   "metadata": {},
   "outputs": [
    {
     "data": {
      "text/plain": [
       "[<matplotlib.lines.Line2D at 0x7f9f986a9da0>]"
      ]
     },
     "execution_count": 24,
     "metadata": {},
     "output_type": "execute_result"
    },
    {
     "data": {
      "image/png": "[encoded data removed]",
      "text/plain": [
       "<matplotlib.figure.Figure at 0x7f9f986b5668>"
      ]
     },
     "metadata": {},
     "output_type": "display_data"
    }
   ],
   "source": [
    "plt.subplot(1,2,1)\n",
    "X1 = X_test[: , 1]\n",
    "Y1 = -1.0 * ((theta_final[0] + theta_final[1] * X1) / (theta_final[2]))\n",
    "plt.plot(X1_positive, X2_positive, 'ro')\n",
    "plt.plot(X1_negative, X2_negative, 'go')\n",
    "plt.plot(X1, Y1, 'b')\n",
    "\n",
    "plt.subplot(1,2,2)\n",
    "X2 = X_test[: , 2]\n",
    "Y2 = -1.0 * ((theta_final[0] + theta_final[2] * X2) / (theta_final[1]))\n",
    "plt.plot(X2_positive, X1_positive, 'ro')\n",
    "plt.plot(X2_negative, X1_negative, 'go')\n",
    "plt.plot(X2, Y2, 'b')"
   ]
  }
 ],
 "metadata": {
  "kernelspec": {
   "display_name": "Python 3",
   "language": "python",
   "name": "python3"
  },
  "language_info": {
   "codemirror_mode": {
    "name": "ipython",
    "version": 3
   },
   "file_extension": ".py",
   "mimetype": "text/x-python",
   "name": "python",
   "nbconvert_exporter": "python",
   "pygments_lexer": "ipython3",
   "version": "3.6.8"
  }
 },
 "nbformat": 4,
 "nbformat_minor": 2
}
